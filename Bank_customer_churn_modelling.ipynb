{
 "cells": [
  {
   "cell_type": "code",
   "execution_count": 1,
   "metadata": {},
   "outputs": [],
   "source": [
    "import tensorflow as tf\n",
    "import numpy as np\n",
    "import pandas as pd\n",
    "from sklearn import metrics\n",
    "from sklearn.model_selection import train_test_split\n",
    "from sklearn.preprocessing import StandardScaler "
   ]
  },
  {
   "cell_type": "markdown",
   "metadata": {},
   "source": [
    "## <font color=#00b3e5> Q1. Read the dataset"
   ]
  },
  {
   "cell_type": "code",
   "execution_count": 123,
   "metadata": {},
   "outputs": [],
   "source": [
    "data=pd.read_csv('Churn_Modelling.csv')"
   ]
  },
  {
   "cell_type": "markdown",
   "metadata": {},
   "source": [
    "##### Print the data types of all the fields"
   ]
  },
  {
   "cell_type": "code",
   "execution_count": 124,
   "metadata": {},
   "outputs": [
    {
     "data": {
      "text/html": [
       "<div>\n",
       "<style scoped>\n",
       "    .dataframe tbody tr th:only-of-type {\n",
       "        vertical-align: middle;\n",
       "    }\n",
       "\n",
       "    .dataframe tbody tr th {\n",
       "        vertical-align: top;\n",
       "    }\n",
       "\n",
       "    .dataframe thead th {\n",
       "        text-align: right;\n",
       "    }\n",
       "</style>\n",
       "<table border=\"1\" class=\"dataframe\">\n",
       "  <thead>\n",
       "    <tr style=\"text-align: right;\">\n",
       "      <th></th>\n",
       "      <th>Columns</th>\n",
       "      <th>Datatypes</th>\n",
       "    </tr>\n",
       "  </thead>\n",
       "  <tbody>\n",
       "    <tr>\n",
       "      <th>0</th>\n",
       "      <td>RowNumber</td>\n",
       "      <td>int64</td>\n",
       "    </tr>\n",
       "    <tr>\n",
       "      <th>1</th>\n",
       "      <td>CustomerId</td>\n",
       "      <td>int64</td>\n",
       "    </tr>\n",
       "    <tr>\n",
       "      <th>2</th>\n",
       "      <td>Surname</td>\n",
       "      <td>object</td>\n",
       "    </tr>\n",
       "    <tr>\n",
       "      <th>3</th>\n",
       "      <td>CreditScore</td>\n",
       "      <td>int64</td>\n",
       "    </tr>\n",
       "    <tr>\n",
       "      <th>4</th>\n",
       "      <td>Geography</td>\n",
       "      <td>object</td>\n",
       "    </tr>\n",
       "    <tr>\n",
       "      <th>5</th>\n",
       "      <td>Gender</td>\n",
       "      <td>object</td>\n",
       "    </tr>\n",
       "    <tr>\n",
       "      <th>6</th>\n",
       "      <td>Age</td>\n",
       "      <td>int64</td>\n",
       "    </tr>\n",
       "    <tr>\n",
       "      <th>7</th>\n",
       "      <td>Tenure</td>\n",
       "      <td>int64</td>\n",
       "    </tr>\n",
       "    <tr>\n",
       "      <th>8</th>\n",
       "      <td>Balance</td>\n",
       "      <td>float64</td>\n",
       "    </tr>\n",
       "    <tr>\n",
       "      <th>9</th>\n",
       "      <td>NumOfProducts</td>\n",
       "      <td>int64</td>\n",
       "    </tr>\n",
       "    <tr>\n",
       "      <th>10</th>\n",
       "      <td>HasCrCard</td>\n",
       "      <td>int64</td>\n",
       "    </tr>\n",
       "    <tr>\n",
       "      <th>11</th>\n",
       "      <td>IsActiveMember</td>\n",
       "      <td>int64</td>\n",
       "    </tr>\n",
       "    <tr>\n",
       "      <th>12</th>\n",
       "      <td>EstimatedSalary</td>\n",
       "      <td>float64</td>\n",
       "    </tr>\n",
       "    <tr>\n",
       "      <th>13</th>\n",
       "      <td>Exited</td>\n",
       "      <td>int64</td>\n",
       "    </tr>\n",
       "  </tbody>\n",
       "</table>\n",
       "</div>"
      ],
      "text/plain": [
       "            Columns Datatypes\n",
       "0         RowNumber     int64\n",
       "1        CustomerId     int64\n",
       "2           Surname    object\n",
       "3       CreditScore     int64\n",
       "4         Geography    object\n",
       "5            Gender    object\n",
       "6               Age     int64\n",
       "7            Tenure     int64\n",
       "8           Balance   float64\n",
       "9     NumOfProducts     int64\n",
       "10        HasCrCard     int64\n",
       "11   IsActiveMember     int64\n",
       "12  EstimatedSalary   float64\n",
       "13           Exited     int64"
      ]
     },
     "execution_count": 124,
     "metadata": {},
     "output_type": "execute_result"
    }
   ],
   "source": [
    "DT=data.dtypes.to_frame(name='Datatypes')\n",
    "DT.reset_index(level=None, drop=False, inplace=True)\n",
    "DT.rename(columns ={'index':'Columns'},inplace=True)\n",
    "DT"
   ]
  },
  {
   "cell_type": "markdown",
   "metadata": {},
   "source": [
    "##### Check for any incorrect values for the object datatypes"
   ]
  },
  {
   "cell_type": "code",
   "execution_count": 125,
   "metadata": {},
   "outputs": [
    {
     "name": "stdout",
     "output_type": "stream",
     "text": [
      "The column Surname ,has the following exceptions:\n",
      "9         H?\n",
      "329       L?\n",
      "437      Hs?\n",
      "941     Y?an\n",
      "970       L?\n",
      "        ... \n",
      "9633      K?\n",
      "9704      L?\n",
      "9792      Y?\n",
      "9857      K?\n",
      "9910      L?\n",
      "Name: Surname, Length: 92, dtype: object\n"
     ]
    }
   ],
   "source": [
    "for col in data.columns[data.dtypes == 'object']:  \n",
    "    temp= pd.DataFrame(data[col].str.isdigit())\n",
    "    temp= pd.DataFrame(data[col].str.contains('[\\?*&^%$#@!]')== True)\n",
    "    res = (temp[col].values == True).sum()\n",
    "    ans=''\n",
    "    if res>0:\n",
    "        print(\"\\033[1m\" + \"The column\",col,\",has the following exceptions:\"  + \"\\033[0m\" )\n",
    "        print(data.loc[data[col].astype(str).str.contains('[\\?*&^%$#@!]') == True][col])\n",
    "        \n"
   ]
  },
  {
   "cell_type": "code",
   "execution_count": 126,
   "metadata": {},
   "outputs": [
    {
     "data": {
      "text/plain": [
       "Smith       32\n",
       "Scott       29\n",
       "Martin      29\n",
       "Walker      28\n",
       "Brown       26\n",
       "Genovese    25\n",
       "Yeh         25\n",
       "Shih        25\n",
       "Maclean     24\n",
       "Wright      24\n",
       "White       23\n",
       "Wilson      23\n",
       "Fanucci     23\n",
       "Ma          23\n",
       "Chu         22\n",
       "Name: Surname, dtype: int64"
      ]
     },
     "execution_count": 126,
     "metadata": {},
     "output_type": "execute_result"
    }
   ],
   "source": [
    "data['Surname'].value_counts().head(15)"
   ]
  },
  {
   "cell_type": "markdown",
   "metadata": {},
   "source": [
    "##### I am not going to use Surname column in the classification model as it doesn't contribue to large groupings (Inferred from the number of distincts in each unique value group for the column Surname)"
   ]
  },
  {
   "cell_type": "markdown",
   "metadata": {},
   "source": [
    "##### Checking for any Missing Values (NaN)"
   ]
  },
  {
   "cell_type": "code",
   "execution_count": 29,
   "metadata": {},
   "outputs": [
    {
     "name": "stdout",
     "output_type": "stream",
     "text": [
      "RowNumber 0\n",
      "CustomerId 0\n",
      "Surname 0\n",
      "CreditScore 0\n",
      "Geography 0\n",
      "Gender 0\n",
      "Age 0\n",
      "Tenure 0\n",
      "Balance 0\n",
      "NumOfProducts 0\n",
      "HasCrCard 0\n",
      "IsActiveMember 0\n",
      "EstimatedSalary 0\n",
      "Exited 0\n"
     ]
    }
   ],
   "source": [
    "for col in data.columns:\n",
    "    print(col,sum(data[col].isna()))"
   ]
  },
  {
   "cell_type": "markdown",
   "metadata": {},
   "source": [
    "## <font color=#00b3e5> Q2.Drop the columns which are unique for all users like IDs (2.5 points)"
   ]
  },
  {
   "cell_type": "markdown",
   "metadata": {},
   "source": [
    "##### Removing RowNumber , CustomerId and Surname by slicing the dataset "
   ]
  },
  {
   "cell_type": "markdown",
   "metadata": {},
   "source": [
    "## <font color=#00b3e5> Q3. Distinguish the feature and target set (2.5 points)"
   ]
  },
  {
   "cell_type": "code",
   "execution_count": 132,
   "metadata": {},
   "outputs": [],
   "source": [
    "X=data.iloc[:,3:13] #Features\n",
    "y=data.iloc[:,-1]   #Target"
   ]
  },
  {
   "cell_type": "code",
   "execution_count": 133,
   "metadata": {},
   "outputs": [
    {
     "data": {
      "text/html": [
       "<div>\n",
       "<style scoped>\n",
       "    .dataframe tbody tr th:only-of-type {\n",
       "        vertical-align: middle;\n",
       "    }\n",
       "\n",
       "    .dataframe tbody tr th {\n",
       "        vertical-align: top;\n",
       "    }\n",
       "\n",
       "    .dataframe thead th {\n",
       "        text-align: right;\n",
       "    }\n",
       "</style>\n",
       "<table border=\"1\" class=\"dataframe\">\n",
       "  <thead>\n",
       "    <tr style=\"text-align: right;\">\n",
       "      <th></th>\n",
       "      <th>CreditScore</th>\n",
       "      <th>Geography</th>\n",
       "      <th>Gender</th>\n",
       "      <th>Age</th>\n",
       "      <th>Tenure</th>\n",
       "      <th>Balance</th>\n",
       "      <th>NumOfProducts</th>\n",
       "      <th>HasCrCard</th>\n",
       "      <th>IsActiveMember</th>\n",
       "      <th>EstimatedSalary</th>\n",
       "    </tr>\n",
       "  </thead>\n",
       "  <tbody>\n",
       "    <tr>\n",
       "      <th>0</th>\n",
       "      <td>619</td>\n",
       "      <td>France</td>\n",
       "      <td>Female</td>\n",
       "      <td>42</td>\n",
       "      <td>2</td>\n",
       "      <td>0.00</td>\n",
       "      <td>1</td>\n",
       "      <td>1</td>\n",
       "      <td>1</td>\n",
       "      <td>101348.88</td>\n",
       "    </tr>\n",
       "    <tr>\n",
       "      <th>1</th>\n",
       "      <td>608</td>\n",
       "      <td>Spain</td>\n",
       "      <td>Female</td>\n",
       "      <td>41</td>\n",
       "      <td>1</td>\n",
       "      <td>83807.86</td>\n",
       "      <td>1</td>\n",
       "      <td>0</td>\n",
       "      <td>1</td>\n",
       "      <td>112542.58</td>\n",
       "    </tr>\n",
       "    <tr>\n",
       "      <th>2</th>\n",
       "      <td>502</td>\n",
       "      <td>France</td>\n",
       "      <td>Female</td>\n",
       "      <td>42</td>\n",
       "      <td>8</td>\n",
       "      <td>159660.80</td>\n",
       "      <td>3</td>\n",
       "      <td>1</td>\n",
       "      <td>0</td>\n",
       "      <td>113931.57</td>\n",
       "    </tr>\n",
       "    <tr>\n",
       "      <th>3</th>\n",
       "      <td>699</td>\n",
       "      <td>France</td>\n",
       "      <td>Female</td>\n",
       "      <td>39</td>\n",
       "      <td>1</td>\n",
       "      <td>0.00</td>\n",
       "      <td>2</td>\n",
       "      <td>0</td>\n",
       "      <td>0</td>\n",
       "      <td>93826.63</td>\n",
       "    </tr>\n",
       "    <tr>\n",
       "      <th>4</th>\n",
       "      <td>850</td>\n",
       "      <td>Spain</td>\n",
       "      <td>Female</td>\n",
       "      <td>43</td>\n",
       "      <td>2</td>\n",
       "      <td>125510.82</td>\n",
       "      <td>1</td>\n",
       "      <td>1</td>\n",
       "      <td>1</td>\n",
       "      <td>79084.10</td>\n",
       "    </tr>\n",
       "  </tbody>\n",
       "</table>\n",
       "</div>"
      ],
      "text/plain": [
       "   CreditScore Geography  Gender  Age  Tenure    Balance  NumOfProducts  \\\n",
       "0          619    France  Female   42       2       0.00              1   \n",
       "1          608     Spain  Female   41       1   83807.86              1   \n",
       "2          502    France  Female   42       8  159660.80              3   \n",
       "3          699    France  Female   39       1       0.00              2   \n",
       "4          850     Spain  Female   43       2  125510.82              1   \n",
       "\n",
       "   HasCrCard  IsActiveMember  EstimatedSalary  \n",
       "0          1               1        101348.88  \n",
       "1          0               1        112542.58  \n",
       "2          1               0        113931.57  \n",
       "3          0               0         93826.63  \n",
       "4          1               1         79084.10  "
      ]
     },
     "execution_count": 133,
     "metadata": {},
     "output_type": "execute_result"
    }
   ],
   "source": [
    "X.head()"
   ]
  },
  {
   "cell_type": "markdown",
   "metadata": {},
   "source": [
    "##### Convert categorical variable into dummy/indicator variables"
   ]
  },
  {
   "cell_type": "code",
   "execution_count": 134,
   "metadata": {},
   "outputs": [
    {
     "data": {
      "text/html": [
       "<div>\n",
       "<style scoped>\n",
       "    .dataframe tbody tr th:only-of-type {\n",
       "        vertical-align: middle;\n",
       "    }\n",
       "\n",
       "    .dataframe tbody tr th {\n",
       "        vertical-align: top;\n",
       "    }\n",
       "\n",
       "    .dataframe thead th {\n",
       "        text-align: right;\n",
       "    }\n",
       "</style>\n",
       "<table border=\"1\" class=\"dataframe\">\n",
       "  <thead>\n",
       "    <tr style=\"text-align: right;\">\n",
       "      <th></th>\n",
       "      <th>CreditScore</th>\n",
       "      <th>Age</th>\n",
       "      <th>Tenure</th>\n",
       "      <th>Balance</th>\n",
       "      <th>NumOfProducts</th>\n",
       "      <th>HasCrCard</th>\n",
       "      <th>IsActiveMember</th>\n",
       "      <th>EstimatedSalary</th>\n",
       "      <th>Geography_France</th>\n",
       "      <th>Geography_Germany</th>\n",
       "      <th>Geography_Spain</th>\n",
       "      <th>Gender_Female</th>\n",
       "      <th>Gender_Male</th>\n",
       "    </tr>\n",
       "  </thead>\n",
       "  <tbody>\n",
       "    <tr>\n",
       "      <th>0</th>\n",
       "      <td>619</td>\n",
       "      <td>42</td>\n",
       "      <td>2</td>\n",
       "      <td>0.00</td>\n",
       "      <td>1</td>\n",
       "      <td>1</td>\n",
       "      <td>1</td>\n",
       "      <td>101348.88</td>\n",
       "      <td>1</td>\n",
       "      <td>0</td>\n",
       "      <td>0</td>\n",
       "      <td>1</td>\n",
       "      <td>0</td>\n",
       "    </tr>\n",
       "    <tr>\n",
       "      <th>1</th>\n",
       "      <td>608</td>\n",
       "      <td>41</td>\n",
       "      <td>1</td>\n",
       "      <td>83807.86</td>\n",
       "      <td>1</td>\n",
       "      <td>0</td>\n",
       "      <td>1</td>\n",
       "      <td>112542.58</td>\n",
       "      <td>0</td>\n",
       "      <td>0</td>\n",
       "      <td>1</td>\n",
       "      <td>1</td>\n",
       "      <td>0</td>\n",
       "    </tr>\n",
       "    <tr>\n",
       "      <th>2</th>\n",
       "      <td>502</td>\n",
       "      <td>42</td>\n",
       "      <td>8</td>\n",
       "      <td>159660.80</td>\n",
       "      <td>3</td>\n",
       "      <td>1</td>\n",
       "      <td>0</td>\n",
       "      <td>113931.57</td>\n",
       "      <td>1</td>\n",
       "      <td>0</td>\n",
       "      <td>0</td>\n",
       "      <td>1</td>\n",
       "      <td>0</td>\n",
       "    </tr>\n",
       "    <tr>\n",
       "      <th>3</th>\n",
       "      <td>699</td>\n",
       "      <td>39</td>\n",
       "      <td>1</td>\n",
       "      <td>0.00</td>\n",
       "      <td>2</td>\n",
       "      <td>0</td>\n",
       "      <td>0</td>\n",
       "      <td>93826.63</td>\n",
       "      <td>1</td>\n",
       "      <td>0</td>\n",
       "      <td>0</td>\n",
       "      <td>1</td>\n",
       "      <td>0</td>\n",
       "    </tr>\n",
       "    <tr>\n",
       "      <th>4</th>\n",
       "      <td>850</td>\n",
       "      <td>43</td>\n",
       "      <td>2</td>\n",
       "      <td>125510.82</td>\n",
       "      <td>1</td>\n",
       "      <td>1</td>\n",
       "      <td>1</td>\n",
       "      <td>79084.10</td>\n",
       "      <td>0</td>\n",
       "      <td>0</td>\n",
       "      <td>1</td>\n",
       "      <td>1</td>\n",
       "      <td>0</td>\n",
       "    </tr>\n",
       "  </tbody>\n",
       "</table>\n",
       "</div>"
      ],
      "text/plain": [
       "   CreditScore  Age  Tenure    Balance  NumOfProducts  HasCrCard  \\\n",
       "0          619   42       2       0.00              1          1   \n",
       "1          608   41       1   83807.86              1          0   \n",
       "2          502   42       8  159660.80              3          1   \n",
       "3          699   39       1       0.00              2          0   \n",
       "4          850   43       2  125510.82              1          1   \n",
       "\n",
       "   IsActiveMember  EstimatedSalary  Geography_France  Geography_Germany  \\\n",
       "0               1        101348.88                 1                  0   \n",
       "1               1        112542.58                 0                  0   \n",
       "2               0        113931.57                 1                  0   \n",
       "3               0         93826.63                 1                  0   \n",
       "4               1         79084.10                 0                  0   \n",
       "\n",
       "   Geography_Spain  Gender_Female  Gender_Male  \n",
       "0                0              1            0  \n",
       "1                1              1            0  \n",
       "2                0              1            0  \n",
       "3                0              1            0  \n",
       "4                1              1            0  "
      ]
     },
     "execution_count": 134,
     "metadata": {},
     "output_type": "execute_result"
    }
   ],
   "source": [
    "X = pd.get_dummies(X,columns=['Geography','Gender'])\n",
    "X.head()"
   ]
  },
  {
   "cell_type": "markdown",
   "metadata": {},
   "source": [
    "## <font color=#00b3e5> Q4. Divide the data set into training and test sets ( 2.5 points)"
   ]
  },
  {
   "cell_type": "code",
   "execution_count": 136,
   "metadata": {},
   "outputs": [],
   "source": [
    "X_train,X_test,y_train, y_test= train_test_split(X,y,test_size=0.1, random_state=0)"
   ]
  },
  {
   "cell_type": "markdown",
   "metadata": {},
   "source": [
    "## <font color=#00b3e5> Q5. Normalize the train and test data (5 points)"
   ]
  },
  {
   "cell_type": "markdown",
   "metadata": {},
   "source": [
    "##### Normalizing the data before building a Neural network is important as the subsequent layers can get both positive and negative values , hence contributing to the learning more efficiently. In addition to this, scaling of the inputs on a similar level is important pre-processing step."
   ]
  },
  {
   "cell_type": "code",
   "execution_count": 181,
   "metadata": {},
   "outputs": [],
   "source": [
    "sc=StandardScaler()\n",
    "X_train_std=sc.fit_transform(X_train)\n",
    "X_test_std=sc.transform(X_test)"
   ]
  },
  {
   "cell_type": "markdown",
   "metadata": {},
   "source": [
    "##### Note: Only fit_transform() is used on the train data for the scaling the train data. However, we only use transform() on the test data because the scaling paramaters learnt on the train data is now used to scale the test data "
   ]
  },
  {
   "cell_type": "markdown",
   "metadata": {},
   "source": [
    "## <font color=#00b3e5> Q6. Initialize & build the model. [ Make sure that you add 2 to 5 hidden dense layers in this model ] (10 points)"
   ]
  },
  {
   "cell_type": "code",
   "execution_count": 182,
   "metadata": {},
   "outputs": [],
   "source": [
    "from keras.models import Sequential\n",
    "from keras.layers import Dense\n",
    "from keras import optimizers"
   ]
  },
  {
   "cell_type": "markdown",
   "metadata": {},
   "source": [
    "##### I am using TF Sequential classifier. \n",
    "##### RelU used in all hidden layer and inpur layer: The ReLU function is a non-linear  function that  does not activate all the neurons at the same time. The purpose of the activation function is to introduce non-linearity into the network.\n",
    "##### For final output layer of the classification model, I am using the Sigmoid function"
   ]
  },
  {
   "cell_type": "code",
   "execution_count": 190,
   "metadata": {},
   "outputs": [],
   "source": [
    "classifier=Sequential()\n",
    "classifier.add(Dense(20,activation='relu',input_dim=X_train_std.shape[1]))\n",
    "classifier.add(Dense(12, activation='relu'))\n",
    "classifier.add(Dense(10, activation='relu'))\n",
    "classifier.add(Dense(1, activation='sigmoid'))"
   ]
  },
  {
   "cell_type": "markdown",
   "metadata": {},
   "source": [
    "##### Epochs: Cycle of dataset moving forward and backward"
   ]
  },
  {
   "cell_type": "markdown",
   "metadata": {},
   "source": [
    "##### After trying few combination of Epochs, Batch Size and Learning Rate, I have concluded the below parameters for this model. For more complex model, optimization techniques such as Keras Tuner can be implemented.\n",
    "##### SInce the Target variable is a binary output, hence I am using \"binary_crossentropy\" loss function. For multi class classification, categorical_crossentropy is used."
   ]
  },
  {
   "cell_type": "code",
   "execution_count": 212,
   "metadata": {},
   "outputs": [
    {
     "name": "stdout",
     "output_type": "stream",
     "text": [
      "Epoch 1/100\n",
      "9000/9000 [==============================] - ETA: 0s - loss: 0.2777 - accuracy: 0.89 - 0s 13us/step - loss: 0.2988 - accuracy: 0.8789\n",
      "Epoch 2/100\n",
      "9000/9000 [==============================] - ETA: 0s - loss: 0.3051 - accuracy: 0.86 - 0s 2us/step - loss: 0.2982 - accuracy: 0.8801\n",
      "Epoch 3/100\n",
      "9000/9000 [==============================] - ETA: 0s - loss: 0.2960 - accuracy: 0.88 - 0s 2us/step - loss: 0.2978 - accuracy: 0.8794\n",
      "Epoch 4/100\n",
      "9000/9000 [==============================] - ETA: 0s - loss: 0.3030 - accuracy: 0.88 - 0s 2us/step - loss: 0.2975 - accuracy: 0.8796\n",
      "Epoch 5/100\n",
      "9000/9000 [==============================] - ETA: 0s - loss: 0.3081 - accuracy: 0.87 - 0s 2us/step - loss: 0.2977 - accuracy: 0.8798\n",
      "Epoch 6/100\n",
      "9000/9000 [==============================] - ETA: 0s - loss: 0.3102 - accuracy: 0.88 - 0s 2us/step - loss: 0.2976 - accuracy: 0.8797\n",
      "Epoch 7/100\n",
      "9000/9000 [==============================] - ETA: 0s - loss: 0.2995 - accuracy: 0.88 - 0s 2us/step - loss: 0.2975 - accuracy: 0.8793\n",
      "Epoch 8/100\n",
      "9000/9000 [==============================] - ETA: 0s - loss: 0.3293 - accuracy: 0.87 - 0s 2us/step - loss: 0.2975 - accuracy: 0.8792\n",
      "Epoch 9/100\n",
      "9000/9000 [==============================] - ETA: 0s - loss: 0.3110 - accuracy: 0.87 - 0s 2us/step - loss: 0.2975 - accuracy: 0.8792\n",
      "Epoch 10/100\n",
      "9000/9000 [==============================] - ETA: 0s - loss: 0.3308 - accuracy: 0.86 - 0s 2us/step - loss: 0.2977 - accuracy: 0.8803\n",
      "Epoch 11/100\n",
      "9000/9000 [==============================] - ETA: 0s - loss: 0.3222 - accuracy: 0.86 - 0s 2us/step - loss: 0.2974 - accuracy: 0.8783\n",
      "Epoch 12/100\n",
      "9000/9000 [==============================] - ETA: 0s - loss: 0.2899 - accuracy: 0.88 - 0s 2us/step - loss: 0.2974 - accuracy: 0.8791\n",
      "Epoch 13/100\n",
      "9000/9000 [==============================] - ETA: 0s - loss: 0.2775 - accuracy: 0.88 - 0s 2us/step - loss: 0.2976 - accuracy: 0.8798\n",
      "Epoch 14/100\n",
      "9000/9000 [==============================] - ETA: 0s - loss: 0.2890 - accuracy: 0.87 - 0s 2us/step - loss: 0.2974 - accuracy: 0.8791\n",
      "Epoch 15/100\n",
      "9000/9000 [==============================] - ETA: 0s - loss: 0.2899 - accuracy: 0.88 - 0s 4us/step - loss: 0.2972 - accuracy: 0.8802\n",
      "Epoch 16/100\n",
      "9000/9000 [==============================] - ETA: 0s - loss: 0.2961 - accuracy: 0.87 - 0s 2us/step - loss: 0.2973 - accuracy: 0.8794\n",
      "Epoch 17/100\n",
      "9000/9000 [==============================] - ETA: 0s - loss: 0.2789 - accuracy: 0.88 - 0s 2us/step - loss: 0.2972 - accuracy: 0.8797\n",
      "Epoch 18/100\n",
      "9000/9000 [==============================] - ETA: 0s - loss: 0.2825 - accuracy: 0.88 - 0s 2us/step - loss: 0.2970 - accuracy: 0.8801\n",
      "Epoch 19/100\n",
      "9000/9000 [==============================] - ETA: 0s - loss: 0.3017 - accuracy: 0.87 - 0s 2us/step - loss: 0.2971 - accuracy: 0.8799\n",
      "Epoch 20/100\n",
      "9000/9000 [==============================] - ETA: 0s - loss: 0.2785 - accuracy: 0.89 - 0s 2us/step - loss: 0.2969 - accuracy: 0.8807\n",
      "Epoch 21/100\n",
      "9000/9000 [==============================] - ETA: 0s - loss: 0.3007 - accuracy: 0.88 - 0s 2us/step - loss: 0.2969 - accuracy: 0.8797\n",
      "Epoch 22/100\n",
      "9000/9000 [==============================] - ETA: 0s - loss: 0.3118 - accuracy: 0.87 - 0s 2us/step - loss: 0.2970 - accuracy: 0.8799\n",
      "Epoch 23/100\n",
      "9000/9000 [==============================] - ETA: 0s - loss: 0.2735 - accuracy: 0.89 - 0s 2us/step - loss: 0.2970 - accuracy: 0.8801\n",
      "Epoch 24/100\n",
      "9000/9000 [==============================] - ETA: 0s - loss: 0.2754 - accuracy: 0.89 - 0s 2us/step - loss: 0.2968 - accuracy: 0.8801\n",
      "Epoch 25/100\n",
      "9000/9000 [==============================] - ETA: 0s - loss: 0.3170 - accuracy: 0.86 - 0s 2us/step - loss: 0.2968 - accuracy: 0.8798\n",
      "Epoch 26/100\n",
      "9000/9000 [==============================] - ETA: 0s - loss: 0.2999 - accuracy: 0.88 - 0s 2us/step - loss: 0.2973 - accuracy: 0.8800\n",
      "Epoch 27/100\n",
      "9000/9000 [==============================] - ETA: 0s - loss: 0.2693 - accuracy: 0.89 - 0s 2us/step - loss: 0.2968 - accuracy: 0.8792\n",
      "Epoch 28/100\n",
      "9000/9000 [==============================] - ETA: 0s - loss: 0.2754 - accuracy: 0.88 - 0s 2us/step - loss: 0.2968 - accuracy: 0.8800\n",
      "Epoch 29/100\n",
      "9000/9000 [==============================] - ETA: 0s - loss: 0.3249 - accuracy: 0.86 - 0s 2us/step - loss: 0.2968 - accuracy: 0.8799\n",
      "Epoch 30/100\n",
      "9000/9000 [==============================] - ETA: 0s - loss: 0.2891 - accuracy: 0.87 - 0s 2us/step - loss: 0.2968 - accuracy: 0.8796\n",
      "Epoch 31/100\n",
      "9000/9000 [==============================] - ETA: 0s - loss: 0.2528 - accuracy: 0.90 - 0s 3us/step - loss: 0.2968 - accuracy: 0.8806\n",
      "Epoch 32/100\n",
      "9000/9000 [==============================] - ETA: 0s - loss: 0.2950 - accuracy: 0.88 - 0s 3us/step - loss: 0.2972 - accuracy: 0.8797\n",
      "Epoch 33/100\n",
      "9000/9000 [==============================] - ETA: 0s - loss: 0.3111 - accuracy: 0.88 - 0s 2us/step - loss: 0.2968 - accuracy: 0.8798\n",
      "Epoch 34/100\n",
      "9000/9000 [==============================] - ETA: 0s - loss: 0.2855 - accuracy: 0.89 - 0s 2us/step - loss: 0.2969 - accuracy: 0.8797\n",
      "Epoch 35/100\n",
      "9000/9000 [==============================] - ETA: 0s - loss: 0.2990 - accuracy: 0.86 - 0s 3us/step - loss: 0.2965 - accuracy: 0.8806\n",
      "Epoch 36/100\n",
      "9000/9000 [==============================] - ETA: 0s - loss: 0.3082 - accuracy: 0.88 - 0s 3us/step - loss: 0.2964 - accuracy: 0.8804\n",
      "Epoch 37/100\n",
      "9000/9000 [==============================] - ETA: 0s - loss: 0.2852 - accuracy: 0.88 - 0s 2us/step - loss: 0.2964 - accuracy: 0.8801\n",
      "Epoch 38/100\n",
      "9000/9000 [==============================] - ETA: 0s - loss: 0.3072 - accuracy: 0.87 - 0s 2us/step - loss: 0.2965 - accuracy: 0.8800\n",
      "Epoch 39/100\n",
      "9000/9000 [==============================] - ETA: 0s - loss: 0.3101 - accuracy: 0.87 - 0s 2us/step - loss: 0.2965 - accuracy: 0.8801\n",
      "Epoch 40/100\n",
      "9000/9000 [==============================] - ETA: 0s - loss: 0.3097 - accuracy: 0.88 - 0s 2us/step - loss: 0.2966 - accuracy: 0.8802\n",
      "Epoch 41/100\n",
      "9000/9000 [==============================] - ETA: 0s - loss: 0.2896 - accuracy: 0.88 - 0s 2us/step - loss: 0.2963 - accuracy: 0.8803\n",
      "Epoch 42/100\n",
      "9000/9000 [==============================] - ETA: 0s - loss: 0.2915 - accuracy: 0.89 - 0s 2us/step - loss: 0.2963 - accuracy: 0.8798\n",
      "Epoch 43/100\n",
      "9000/9000 [==============================] - ETA: 0s - loss: 0.2777 - accuracy: 0.88 - 0s 2us/step - loss: 0.2964 - accuracy: 0.8806\n",
      "Epoch 44/100\n",
      "9000/9000 [==============================] - ETA: 0s - loss: 0.2891 - accuracy: 0.88 - 0s 2us/step - loss: 0.2963 - accuracy: 0.8801\n",
      "Epoch 45/100\n",
      "9000/9000 [==============================] - ETA: 0s - loss: 0.2875 - accuracy: 0.89 - 0s 2us/step - loss: 0.2963 - accuracy: 0.8809\n",
      "Epoch 46/100\n",
      "9000/9000 [==============================] - ETA: 0s - loss: 0.3168 - accuracy: 0.87 - 0s 2us/step - loss: 0.2963 - accuracy: 0.8800\n",
      "Epoch 47/100\n",
      "9000/9000 [==============================] - ETA: 0s - loss: 0.2745 - accuracy: 0.88 - 0s 2us/step - loss: 0.2963 - accuracy: 0.8807\n",
      "Epoch 48/100\n",
      "9000/9000 [==============================] - ETA: 0s - loss: 0.2943 - accuracy: 0.87 - 0s 2us/step - loss: 0.2961 - accuracy: 0.8801\n",
      "Epoch 49/100\n",
      "9000/9000 [==============================] - ETA: 0s - loss: 0.3055 - accuracy: 0.88 - 0s 2us/step - loss: 0.2960 - accuracy: 0.8809\n",
      "Epoch 50/100\n",
      "9000/9000 [==============================] - ETA: 0s - loss: 0.2928 - accuracy: 0.88 - 0s 2us/step - loss: 0.2960 - accuracy: 0.8808\n",
      "Epoch 51/100\n",
      "9000/9000 [==============================] - ETA: 0s - loss: 0.2951 - accuracy: 0.88 - 0s 2us/step - loss: 0.2964 - accuracy: 0.8811\n",
      "Epoch 52/100\n",
      "9000/9000 [==============================] - ETA: 0s - loss: 0.3075 - accuracy: 0.87 - 0s 2us/step - loss: 0.2962 - accuracy: 0.8793\n",
      "Epoch 53/100\n",
      "9000/9000 [==============================] - ETA: 0s - loss: 0.2838 - accuracy: 0.88 - 0s 2us/step - loss: 0.2961 - accuracy: 0.8807\n",
      "Epoch 54/100\n",
      "9000/9000 [==============================] - ETA: 0s - loss: 0.2654 - accuracy: 0.90 - 0s 2us/step - loss: 0.2960 - accuracy: 0.8803\n",
      "Epoch 55/100\n",
      "9000/9000 [==============================] - ETA: 0s - loss: 0.2883 - accuracy: 0.88 - 0s 2us/step - loss: 0.2960 - accuracy: 0.8801\n",
      "Epoch 56/100\n",
      "9000/9000 [==============================] - ETA: 0s - loss: 0.3030 - accuracy: 0.86 - 0s 2us/step - loss: 0.2958 - accuracy: 0.8811\n",
      "Epoch 57/100\n"
     ]
    },
    {
     "name": "stdout",
     "output_type": "stream",
     "text": [
      "9000/9000 [==============================] - ETA: 0s - loss: 0.2739 - accuracy: 0.89 - 0s 2us/step - loss: 0.2961 - accuracy: 0.8808\n",
      "Epoch 58/100\n",
      "9000/9000 [==============================] - ETA: 0s - loss: 0.3144 - accuracy: 0.87 - 0s 2us/step - loss: 0.2964 - accuracy: 0.8799\n",
      "Epoch 59/100\n",
      "9000/9000 [==============================] - ETA: 0s - loss: 0.2944 - accuracy: 0.88 - 0s 2us/step - loss: 0.2958 - accuracy: 0.8807\n",
      "Epoch 60/100\n",
      "9000/9000 [==============================] - ETA: 0s - loss: 0.3115 - accuracy: 0.86 - 0s 2us/step - loss: 0.2958 - accuracy: 0.8803\n",
      "Epoch 61/100\n",
      "9000/9000 [==============================] - ETA: 0s - loss: 0.2771 - accuracy: 0.89 - 0s 2us/step - loss: 0.2959 - accuracy: 0.8803\n",
      "Epoch 62/100\n",
      "9000/9000 [==============================] - ETA: 0s - loss: 0.2891 - accuracy: 0.88 - 0s 2us/step - loss: 0.2958 - accuracy: 0.8808\n",
      "Epoch 63/100\n",
      "9000/9000 [==============================] - ETA: 0s - loss: 0.2994 - accuracy: 0.87 - 0s 2us/step - loss: 0.2958 - accuracy: 0.8806\n",
      "Epoch 64/100\n",
      "9000/9000 [==============================] - ETA: 0s - loss: 0.2957 - accuracy: 0.87 - 0s 2us/step - loss: 0.2957 - accuracy: 0.8811\n",
      "Epoch 65/100\n",
      "9000/9000 [==============================] - ETA: 0s - loss: 0.2841 - accuracy: 0.89 - 0s 2us/step - loss: 0.2958 - accuracy: 0.8803\n",
      "Epoch 66/100\n",
      "9000/9000 [==============================] - ETA: 0s - loss: 0.3041 - accuracy: 0.87 - 0s 2us/step - loss: 0.2957 - accuracy: 0.8794\n",
      "Epoch 67/100\n",
      "9000/9000 [==============================] - ETA: 0s - loss: 0.2921 - accuracy: 0.87 - 0s 2us/step - loss: 0.2956 - accuracy: 0.8810\n",
      "Epoch 68/100\n",
      "9000/9000 [==============================] - ETA: 0s - loss: 0.2719 - accuracy: 0.89 - 0s 2us/step - loss: 0.2957 - accuracy: 0.8811\n",
      "Epoch 69/100\n",
      "9000/9000 [==============================] - ETA: 0s - loss: 0.2827 - accuracy: 0.88 - 0s 2us/step - loss: 0.2954 - accuracy: 0.8803\n",
      "Epoch 70/100\n",
      "9000/9000 [==============================] - ETA: 0s - loss: 0.3134 - accuracy: 0.87 - 0s 2us/step - loss: 0.2955 - accuracy: 0.8803\n",
      "Epoch 71/100\n",
      "9000/9000 [==============================] - ETA: 0s - loss: 0.2916 - accuracy: 0.87 - 0s 2us/step - loss: 0.2955 - accuracy: 0.8801\n",
      "Epoch 72/100\n",
      "9000/9000 [==============================] - ETA: 0s - loss: 0.2811 - accuracy: 0.88 - 0s 2us/step - loss: 0.2954 - accuracy: 0.8811\n",
      "Epoch 73/100\n",
      "9000/9000 [==============================] - ETA: 0s - loss: 0.2709 - accuracy: 0.89 - 0s 2us/step - loss: 0.2953 - accuracy: 0.8806\n",
      "Epoch 74/100\n",
      "9000/9000 [==============================] - ETA: 0s - loss: 0.2855 - accuracy: 0.88 - 0s 2us/step - loss: 0.2955 - accuracy: 0.8807\n",
      "Epoch 75/100\n",
      "9000/9000 [==============================] - ETA: 0s - loss: 0.2741 - accuracy: 0.89 - 0s 2us/step - loss: 0.2952 - accuracy: 0.8802\n",
      "Epoch 76/100\n",
      "9000/9000 [==============================] - ETA: 0s - loss: 0.2847 - accuracy: 0.87 - 0s 2us/step - loss: 0.2952 - accuracy: 0.8817\n",
      "Epoch 77/100\n",
      "9000/9000 [==============================] - ETA: 0s - loss: 0.3072 - accuracy: 0.87 - 0s 2us/step - loss: 0.2953 - accuracy: 0.8817\n",
      "Epoch 78/100\n",
      "9000/9000 [==============================] - ETA: 0s - loss: 0.2828 - accuracy: 0.88 - 0s 2us/step - loss: 0.2953 - accuracy: 0.8803\n",
      "Epoch 79/100\n",
      "9000/9000 [==============================] - ETA: 0s - loss: 0.3026 - accuracy: 0.87 - 0s 2us/step - loss: 0.2955 - accuracy: 0.8806\n",
      "Epoch 80/100\n",
      "9000/9000 [==============================] - ETA: 0s - loss: 0.2891 - accuracy: 0.88 - 0s 2us/step - loss: 0.2953 - accuracy: 0.8801\n",
      "Epoch 81/100\n",
      "9000/9000 [==============================] - ETA: 0s - loss: 0.3160 - accuracy: 0.88 - 0s 2us/step - loss: 0.2952 - accuracy: 0.8809\n",
      "Epoch 82/100\n",
      "9000/9000 [==============================] - ETA: 0s - loss: 0.3173 - accuracy: 0.87 - 0s 2us/step - loss: 0.2951 - accuracy: 0.8803\n",
      "Epoch 83/100\n",
      "9000/9000 [==============================] - ETA: 0s - loss: 0.2930 - accuracy: 0.87 - 0s 2us/step - loss: 0.2950 - accuracy: 0.8809\n",
      "Epoch 84/100\n",
      "9000/9000 [==============================] - ETA: 0s - loss: 0.2809 - accuracy: 0.88 - 0s 2us/step - loss: 0.2952 - accuracy: 0.8811\n",
      "Epoch 85/100\n",
      "9000/9000 [==============================] - ETA: 0s - loss: 0.2815 - accuracy: 0.88 - 0s 2us/step - loss: 0.2953 - accuracy: 0.8793\n",
      "Epoch 86/100\n",
      "9000/9000 [==============================] - ETA: 0s - loss: 0.2862 - accuracy: 0.89 - 0s 2us/step - loss: 0.2951 - accuracy: 0.8813\n",
      "Epoch 87/100\n",
      "9000/9000 [==============================] - ETA: 0s - loss: 0.2958 - accuracy: 0.86 - 0s 2us/step - loss: 0.2950 - accuracy: 0.8804\n",
      "Epoch 88/100\n",
      "9000/9000 [==============================] - ETA: 0s - loss: 0.2968 - accuracy: 0.87 - 0s 2us/step - loss: 0.2949 - accuracy: 0.8800\n",
      "Epoch 89/100\n",
      "9000/9000 [==============================] - ETA: 0s - loss: 0.2760 - accuracy: 0.88 - 0s 2us/step - loss: 0.2951 - accuracy: 0.8802\n",
      "Epoch 90/100\n",
      "9000/9000 [==============================] - ETA: 0s - loss: 0.3009 - accuracy: 0.87 - 0s 2us/step - loss: 0.2950 - accuracy: 0.8803\n",
      "Epoch 91/100\n",
      "9000/9000 [==============================] - ETA: 0s - loss: 0.3204 - accuracy: 0.87 - 0s 2us/step - loss: 0.2950 - accuracy: 0.8806\n",
      "Epoch 92/100\n",
      "9000/9000 [==============================] - ETA: 0s - loss: 0.2769 - accuracy: 0.89 - 0s 2us/step - loss: 0.2950 - accuracy: 0.8801\n",
      "Epoch 93/100\n",
      "9000/9000 [==============================] - ETA: 0s - loss: 0.2782 - accuracy: 0.88 - 0s 2us/step - loss: 0.2949 - accuracy: 0.8807\n",
      "Epoch 94/100\n",
      "9000/9000 [==============================] - ETA: 0s - loss: 0.2899 - accuracy: 0.87 - 0s 2us/step - loss: 0.2950 - accuracy: 0.8803\n",
      "Epoch 95/100\n",
      "9000/9000 [==============================] - ETA: 0s - loss: 0.3124 - accuracy: 0.87 - 0s 2us/step - loss: 0.2948 - accuracy: 0.8803\n",
      "Epoch 96/100\n",
      "9000/9000 [==============================] - ETA: 0s - loss: 0.2629 - accuracy: 0.89 - 0s 2us/step - loss: 0.2947 - accuracy: 0.8806\n",
      "Epoch 97/100\n",
      "9000/9000 [==============================] - ETA: 0s - loss: 0.2858 - accuracy: 0.88 - 0s 2us/step - loss: 0.2947 - accuracy: 0.8814\n",
      "Epoch 98/100\n",
      "9000/9000 [==============================] - ETA: 0s - loss: 0.2935 - accuracy: 0.88 - 0s 2us/step - loss: 0.2947 - accuracy: 0.8811\n",
      "Epoch 99/100\n",
      "9000/9000 [==============================] - ETA: 0s - loss: 0.2990 - accuracy: 0.87 - 0s 2us/step - loss: 0.2946 - accuracy: 0.8809\n",
      "Epoch 100/100\n",
      "9000/9000 [==============================] - ETA: 0s - loss: 0.3058 - accuracy: 0.87 - 0s 2us/step - loss: 0.2947 - accuracy: 0.8803\n"
     ]
    }
   ],
   "source": [
    "opt = optimizers.adam(lr=0.0008)\n",
    "classifier.compile(loss='binary_crossentropy',\n",
    "              optimizer=opt,\n",
    "              metrics=['accuracy'])\n",
    "                   \n",
    "history=classifier.fit(X_train_std, y_train,epochs=100, batch_size=1000, verbose=1)"
   ]
  },
  {
   "cell_type": "markdown",
   "metadata": {},
   "source": [
    "## <font color=#00b3e5> Q7. Predict the results (5 points)"
   ]
  },
  {
   "cell_type": "code",
   "execution_count": 213,
   "metadata": {},
   "outputs": [
    {
     "name": "stdout",
     "output_type": "stream",
     "text": [
      "Train Accuracy: 0.881\n"
     ]
    }
   ],
   "source": [
    "loss, acc = classifier.evaluate(X_train_std, y_train, verbose=0)\n",
    "print('Train Accuracy: %.3f' % acc)"
   ]
  },
  {
   "cell_type": "code",
   "execution_count": 214,
   "metadata": {},
   "outputs": [],
   "source": [
    "y_pred = np.round(classifier.predict(X_test_std))\n"
   ]
  },
  {
   "cell_type": "markdown",
   "metadata": {},
   "source": [
    "##### Since this is a binary classification problem, I am not calculating probabilities of the output, rather using predict directly to identify the most possible class out of two."
   ]
  },
  {
   "cell_type": "code",
   "execution_count": 219,
   "metadata": {},
   "outputs": [
    {
     "data": {
      "text/plain": [
       "<matplotlib.legend.Legend at 0x1ff31feeb48>"
      ]
     },
     "execution_count": 219,
     "metadata": {},
     "output_type": "execute_result"
    },
    {
     "data": {
      "image/png": "[encoded data removed]",
      "text/plain": [
       "<Figure size 432x288 with 1 Axes>"
      ]
     },
     "metadata": {
      "needs_background": "light"
     },
     "output_type": "display_data"
    }
   ],
   "source": [
    "%matplotlib inline\n",
    "from matplotlib import pyplot\n",
    "from numpy import where\n",
    "\n",
    "# plot loss during training\n",
    "\n",
    "pyplot.title('Loss')\n",
    "pyplot.plot(history.history['loss'], label='train')\n",
    "pyplot.legend()"
   ]
  },
  {
   "cell_type": "markdown",
   "metadata": {},
   "source": [
    "##### The above plot shows the Loss reduction graph"
   ]
  },
  {
   "cell_type": "markdown",
   "metadata": {},
   "source": [
    "## <font color=#00b3e5> Q8. Print the Accuracy score and confusion matrix (2.5 points)"
   ]
  },
  {
   "cell_type": "code",
   "execution_count": 216,
   "metadata": {},
   "outputs": [
    {
     "name": "stdout",
     "output_type": "stream",
     "text": [
      "Test Accuracy: 0.849\n"
     ]
    }
   ],
   "source": [
    "loss, acc = classifier.evaluate(X_test_std, y_test, verbose=0)\n",
    "print('Test Accuracy: %.3f' % acc)"
   ]
  },
  {
   "cell_type": "code",
   "execution_count": 217,
   "metadata": {},
   "outputs": [
    {
     "name": "stdout",
     "output_type": "stream",
     "text": [
      "[[754  40]\n",
      " [111  95]]\n"
     ]
    }
   ],
   "source": [
    "cm = metrics.confusion_matrix(y_test,y_pred)\n",
    "print(cm)"
   ]
  },
  {
   "cell_type": "code",
   "execution_count": 218,
   "metadata": {},
   "outputs": [
    {
     "name": "stdout",
     "output_type": "stream",
     "text": [
      "              precision    recall  f1-score   support\n",
      "\n",
      "           0       0.87      0.95      0.91       794\n",
      "           1       0.70      0.46      0.56       206\n",
      "\n",
      "    accuracy                           0.85      1000\n",
      "   macro avg       0.79      0.71      0.73      1000\n",
      "weighted avg       0.84      0.85      0.84      1000\n",
      "\n"
     ]
    }
   ],
   "source": [
    "cr=metrics.classification_report(y_test,y_pred)\n",
    "print(cr)"
   ]
  }
 ],
 "metadata": {
  "kernelspec": {
   "display_name": "Python 3",
   "language": "python",
   "name": "python3"
  },
  "language_info": {
   "codemirror_mode": {
    "name": "ipython",
    "version": 3
   },
   "file_extension": ".py",
   "mimetype": "text/x-python",
   "name": "python",
   "nbconvert_exporter": "python",
   "pygments_lexer": "ipython3",
   "version": "3.7.9"
  }
 },
 "nbformat": 4,
 "nbformat_minor": 4
}
