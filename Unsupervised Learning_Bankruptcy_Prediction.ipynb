{
 "cells": [
  {
   "cell_type": "markdown",
   "metadata": {},
   "source": [
    "#### <span style=\"font-family: Arial; font-weight:bold;font-size:1.5em;color:#00b3e5;\"> Q1.\tRead the dataset and understand the features and target variable."
   ]
  },
  {
   "cell_type": "code",
   "execution_count": 372,
   "metadata": {},
   "outputs": [],
   "source": [
    "#Enable graph plotting in Jupyter\n",
    "%matplotlib inline\n",
    "# Numerical libraries\n",
    "import numpy as np  \n",
    "# to handle data in form of rows and columns \n",
    "import pandas as pd   \n",
    "\n",
    "import matplotlib.pyplot as plt \n",
    "import matplotlib.style\n",
    "\n",
    "import seaborn as sns\n",
    "from sklearn.model_selection import train_test_split\n",
    "\n",
    "from sklearn.decomposition import PCA\n",
    "from scipy.stats import zscore"
   ]
  },
  {
   "cell_type": "code",
   "execution_count": 373,
   "metadata": {},
   "outputs": [
    {
     "data": {
      "text/html": [
       "<div>\n",
       "<style scoped>\n",
       "    .dataframe tbody tr th:only-of-type {\n",
       "        vertical-align: middle;\n",
       "    }\n",
       "\n",
       "    .dataframe tbody tr th {\n",
       "        vertical-align: top;\n",
       "    }\n",
       "\n",
       "    .dataframe thead th {\n",
       "        text-align: right;\n",
       "    }\n",
       "</style>\n",
       "<table border=\"1\" class=\"dataframe\">\n",
       "  <thead>\n",
       "    <tr style=\"text-align: right;\">\n",
       "      <th></th>\n",
       "      <th>Industrial Risk</th>\n",
       "      <th>Management Risk</th>\n",
       "      <th>Financial Flexibility</th>\n",
       "      <th>Credibility</th>\n",
       "      <th>Competitiveness</th>\n",
       "      <th>Operating Risk</th>\n",
       "      <th>Class</th>\n",
       "    </tr>\n",
       "  </thead>\n",
       "  <tbody>\n",
       "    <tr>\n",
       "      <td>0</td>\n",
       "      <td>P</td>\n",
       "      <td>P</td>\n",
       "      <td>A</td>\n",
       "      <td>A</td>\n",
       "      <td>A</td>\n",
       "      <td>P</td>\n",
       "      <td>NB</td>\n",
       "    </tr>\n",
       "    <tr>\n",
       "      <td>1</td>\n",
       "      <td>N</td>\n",
       "      <td>N</td>\n",
       "      <td>A</td>\n",
       "      <td>A</td>\n",
       "      <td>A</td>\n",
       "      <td>N</td>\n",
       "      <td>NB</td>\n",
       "    </tr>\n",
       "    <tr>\n",
       "      <td>2</td>\n",
       "      <td>A</td>\n",
       "      <td>A</td>\n",
       "      <td>A</td>\n",
       "      <td>A</td>\n",
       "      <td>A</td>\n",
       "      <td>A</td>\n",
       "      <td>NB</td>\n",
       "    </tr>\n",
       "    <tr>\n",
       "      <td>3</td>\n",
       "      <td>P</td>\n",
       "      <td>P</td>\n",
       "      <td>P</td>\n",
       "      <td>P</td>\n",
       "      <td>P</td>\n",
       "      <td>P</td>\n",
       "      <td>NB</td>\n",
       "    </tr>\n",
       "    <tr>\n",
       "      <td>4</td>\n",
       "      <td>N</td>\n",
       "      <td>N</td>\n",
       "      <td>P</td>\n",
       "      <td>P</td>\n",
       "      <td>P</td>\n",
       "      <td>N</td>\n",
       "      <td>NB</td>\n",
       "    </tr>\n",
       "    <tr>\n",
       "      <td>5</td>\n",
       "      <td>A</td>\n",
       "      <td>A</td>\n",
       "      <td>P</td>\n",
       "      <td>P</td>\n",
       "      <td>P</td>\n",
       "      <td>A</td>\n",
       "      <td>NB</td>\n",
       "    </tr>\n",
       "    <tr>\n",
       "      <td>6</td>\n",
       "      <td>P</td>\n",
       "      <td>P</td>\n",
       "      <td>A</td>\n",
       "      <td>P</td>\n",
       "      <td>P</td>\n",
       "      <td>P</td>\n",
       "      <td>NB</td>\n",
       "    </tr>\n",
       "    <tr>\n",
       "      <td>7</td>\n",
       "      <td>P</td>\n",
       "      <td>P</td>\n",
       "      <td>P</td>\n",
       "      <td>A</td>\n",
       "      <td>A</td>\n",
       "      <td>P</td>\n",
       "      <td>NB</td>\n",
       "    </tr>\n",
       "    <tr>\n",
       "      <td>8</td>\n",
       "      <td>P</td>\n",
       "      <td>P</td>\n",
       "      <td>A</td>\n",
       "      <td>P</td>\n",
       "      <td>A</td>\n",
       "      <td>P</td>\n",
       "      <td>NB</td>\n",
       "    </tr>\n",
       "    <tr>\n",
       "      <td>9</td>\n",
       "      <td>P</td>\n",
       "      <td>P</td>\n",
       "      <td>A</td>\n",
       "      <td>A</td>\n",
       "      <td>P</td>\n",
       "      <td>P</td>\n",
       "      <td>NB</td>\n",
       "    </tr>\n",
       "  </tbody>\n",
       "</table>\n",
       "</div>"
      ],
      "text/plain": [
       "  Industrial Risk Management Risk Financial Flexibility Credibility  \\\n",
       "0               P               P                     A           A   \n",
       "1               N               N                     A           A   \n",
       "2               A               A                     A           A   \n",
       "3               P               P                     P           P   \n",
       "4               N               N                     P           P   \n",
       "5               A               A                     P           P   \n",
       "6               P               P                     A           P   \n",
       "7               P               P                     P           A   \n",
       "8               P               P                     A           P   \n",
       "9               P               P                     A           A   \n",
       "\n",
       "  Competitiveness Operating Risk Class  \n",
       "0               A              P    NB  \n",
       "1               A              N    NB  \n",
       "2               A              A    NB  \n",
       "3               P              P    NB  \n",
       "4               P              N    NB  \n",
       "5               P              A    NB  \n",
       "6               P              P    NB  \n",
       "7               A              P    NB  \n",
       "8               A              P    NB  \n",
       "9               P              P    NB  "
      ]
     },
     "execution_count": 373,
     "metadata": {},
     "output_type": "execute_result"
    }
   ],
   "source": [
    "data = pd.read_csv('Qualitative_Bankruptcy.data.txt', header = None, \n",
    "names=['Industrial Risk','Management Risk','Financial Flexibility','Credibility','Competitiveness','Operating Risk','Class'])\n",
    "data.head(10)"
   ]
  },
  {
   "cell_type": "markdown",
   "metadata": {},
   "source": [
    "#### This is the data from Qualitative_Bankruptcy database with 6 categorical attributes which assess each datapoint based on three potential values : \"Positive\", \"Negative\" and \"Average\""
   ]
  },
  {
   "cell_type": "markdown",
   "metadata": {},
   "source": [
    "##### Printing Datatypes:"
   ]
  },
  {
   "cell_type": "code",
   "execution_count": 374,
   "metadata": {},
   "outputs": [
    {
     "data": {
      "text/html": [
       "<div>\n",
       "<style scoped>\n",
       "    .dataframe tbody tr th:only-of-type {\n",
       "        vertical-align: middle;\n",
       "    }\n",
       "\n",
       "    .dataframe tbody tr th {\n",
       "        vertical-align: top;\n",
       "    }\n",
       "\n",
       "    .dataframe thead th {\n",
       "        text-align: right;\n",
       "    }\n",
       "</style>\n",
       "<table border=\"1\" class=\"dataframe\">\n",
       "  <thead>\n",
       "    <tr style=\"text-align: right;\">\n",
       "      <th></th>\n",
       "      <th>Columns</th>\n",
       "      <th>Datatypes</th>\n",
       "    </tr>\n",
       "  </thead>\n",
       "  <tbody>\n",
       "    <tr>\n",
       "      <td>0</td>\n",
       "      <td>Industrial Risk</td>\n",
       "      <td>object</td>\n",
       "    </tr>\n",
       "    <tr>\n",
       "      <td>1</td>\n",
       "      <td>Management Risk</td>\n",
       "      <td>object</td>\n",
       "    </tr>\n",
       "    <tr>\n",
       "      <td>2</td>\n",
       "      <td>Financial Flexibility</td>\n",
       "      <td>object</td>\n",
       "    </tr>\n",
       "    <tr>\n",
       "      <td>3</td>\n",
       "      <td>Credibility</td>\n",
       "      <td>object</td>\n",
       "    </tr>\n",
       "    <tr>\n",
       "      <td>4</td>\n",
       "      <td>Competitiveness</td>\n",
       "      <td>object</td>\n",
       "    </tr>\n",
       "    <tr>\n",
       "      <td>5</td>\n",
       "      <td>Operating Risk</td>\n",
       "      <td>object</td>\n",
       "    </tr>\n",
       "    <tr>\n",
       "      <td>6</td>\n",
       "      <td>Class</td>\n",
       "      <td>object</td>\n",
       "    </tr>\n",
       "  </tbody>\n",
       "</table>\n",
       "</div>"
      ],
      "text/plain": [
       "                 Columns Datatypes\n",
       "0        Industrial Risk    object\n",
       "1        Management Risk    object\n",
       "2  Financial Flexibility    object\n",
       "3            Credibility    object\n",
       "4        Competitiveness    object\n",
       "5         Operating Risk    object\n",
       "6                  Class    object"
      ]
     },
     "execution_count": 374,
     "metadata": {},
     "output_type": "execute_result"
    }
   ],
   "source": [
    "DT=data.dtypes.to_frame(name='Datatypes')\n",
    "DT.reset_index(level=None, drop=False, inplace=True)\n",
    "DT.rename(columns ={'index':'Columns'},inplace=True)\n",
    "DT"
   ]
  },
  {
   "cell_type": "code",
   "execution_count": 375,
   "metadata": {},
   "outputs": [
    {
     "name": "stdout",
     "output_type": "stream",
     "text": [
      "Number of features (including the Target): 7 & Number of datapoints: 250\n"
     ]
    }
   ],
   "source": [
    "print('Number of features (including the Target):',data.shape[1], '& Number of datapoints:', data.shape[0])"
   ]
  },
  {
   "cell_type": "markdown",
   "metadata": {},
   "source": [
    "##### Data Distribution"
   ]
  },
  {
   "cell_type": "code",
   "execution_count": 376,
   "metadata": {},
   "outputs": [
    {
     "data": {
      "text/plain": [
       "array([<matplotlib.axes._subplots.AxesSubplot object at 0x000001EFA8A1E708>],\n",
       "      dtype=object)"
      ]
     },
     "execution_count": 376,
     "metadata": {},
     "output_type": "execute_result"
    },
    {
     "data": {
      "text/plain": [
       "<Figure size 80x80 with 0 Axes>"
      ]
     },
     "metadata": {},
     "output_type": "display_data"
    },
    {
     "data": {
      "image/png": "[encoded data removed]",
      "text/plain": [
       "<Figure size 640x480 with 1 Axes>"
      ]
     },
     "metadata": {},
     "output_type": "display_data"
    }
   ],
   "source": [
    "Target='Class'\n",
    "plt.style.use('classic')\n",
    "plt.figure(figsize = (1,1))\n",
    "cols= pd.crosstab(index=data[Target],columns=\"count\")\n",
    "cols.plot(kind='pie',subplots=True,legend=True,fontsize=10,autopct='%.2f',colormap ='Pastel2')"
   ]
  },
  {
   "cell_type": "markdown",
   "metadata": {},
   "source": [
    "##### 42 % of the data falls under Bankruptcy and rest 57% into Non-Bankruptcy. The data is balanced"
   ]
  },
  {
   "cell_type": "markdown",
   "metadata": {},
   "source": [
    "#### <span style=\"font-family: Arial; font-weight:bold;font-size:1.5em;color:#00b3e5;\"> Q2.\tEncode independent features."
   ]
  },
  {
   "cell_type": "markdown",
   "metadata": {},
   "source": [
    "##### The values can be Positive, Negative and Average, which is in an ordered fashion. So, I would assign an ordered number to labels : \"P\", \"A\", \"N\" "
   ]
  },
  {
   "cell_type": "code",
   "execution_count": 377,
   "metadata": {},
   "outputs": [
    {
     "data": {
      "text/html": [
       "<div>\n",
       "<style scoped>\n",
       "    .dataframe tbody tr th:only-of-type {\n",
       "        vertical-align: middle;\n",
       "    }\n",
       "\n",
       "    .dataframe tbody tr th {\n",
       "        vertical-align: top;\n",
       "    }\n",
       "\n",
       "    .dataframe thead th {\n",
       "        text-align: right;\n",
       "    }\n",
       "</style>\n",
       "<table border=\"1\" class=\"dataframe\">\n",
       "  <thead>\n",
       "    <tr style=\"text-align: right;\">\n",
       "      <th></th>\n",
       "      <th>Industrial Risk</th>\n",
       "      <th>Management Risk</th>\n",
       "      <th>Financial Flexibility</th>\n",
       "      <th>Credibility</th>\n",
       "      <th>Competitiveness</th>\n",
       "      <th>Operating Risk</th>\n",
       "      <th>Class</th>\n",
       "    </tr>\n",
       "  </thead>\n",
       "  <tbody>\n",
       "    <tr>\n",
       "      <td>0</td>\n",
       "      <td>2</td>\n",
       "      <td>2</td>\n",
       "      <td>1</td>\n",
       "      <td>1</td>\n",
       "      <td>1</td>\n",
       "      <td>2</td>\n",
       "      <td>NB</td>\n",
       "    </tr>\n",
       "    <tr>\n",
       "      <td>1</td>\n",
       "      <td>0</td>\n",
       "      <td>0</td>\n",
       "      <td>1</td>\n",
       "      <td>1</td>\n",
       "      <td>1</td>\n",
       "      <td>0</td>\n",
       "      <td>NB</td>\n",
       "    </tr>\n",
       "    <tr>\n",
       "      <td>2</td>\n",
       "      <td>1</td>\n",
       "      <td>1</td>\n",
       "      <td>1</td>\n",
       "      <td>1</td>\n",
       "      <td>1</td>\n",
       "      <td>1</td>\n",
       "      <td>NB</td>\n",
       "    </tr>\n",
       "    <tr>\n",
       "      <td>3</td>\n",
       "      <td>2</td>\n",
       "      <td>2</td>\n",
       "      <td>2</td>\n",
       "      <td>2</td>\n",
       "      <td>2</td>\n",
       "      <td>2</td>\n",
       "      <td>NB</td>\n",
       "    </tr>\n",
       "    <tr>\n",
       "      <td>4</td>\n",
       "      <td>0</td>\n",
       "      <td>0</td>\n",
       "      <td>2</td>\n",
       "      <td>2</td>\n",
       "      <td>2</td>\n",
       "      <td>0</td>\n",
       "      <td>NB</td>\n",
       "    </tr>\n",
       "    <tr>\n",
       "      <td>...</td>\n",
       "      <td>...</td>\n",
       "      <td>...</td>\n",
       "      <td>...</td>\n",
       "      <td>...</td>\n",
       "      <td>...</td>\n",
       "      <td>...</td>\n",
       "      <td>...</td>\n",
       "    </tr>\n",
       "    <tr>\n",
       "      <td>245</td>\n",
       "      <td>0</td>\n",
       "      <td>0</td>\n",
       "      <td>1</td>\n",
       "      <td>0</td>\n",
       "      <td>0</td>\n",
       "      <td>0</td>\n",
       "      <td>B</td>\n",
       "    </tr>\n",
       "    <tr>\n",
       "      <td>246</td>\n",
       "      <td>2</td>\n",
       "      <td>0</td>\n",
       "      <td>0</td>\n",
       "      <td>0</td>\n",
       "      <td>0</td>\n",
       "      <td>0</td>\n",
       "      <td>B</td>\n",
       "    </tr>\n",
       "    <tr>\n",
       "      <td>247</td>\n",
       "      <td>1</td>\n",
       "      <td>0</td>\n",
       "      <td>0</td>\n",
       "      <td>0</td>\n",
       "      <td>0</td>\n",
       "      <td>0</td>\n",
       "      <td>B</td>\n",
       "    </tr>\n",
       "    <tr>\n",
       "      <td>248</td>\n",
       "      <td>0</td>\n",
       "      <td>0</td>\n",
       "      <td>0</td>\n",
       "      <td>0</td>\n",
       "      <td>0</td>\n",
       "      <td>0</td>\n",
       "      <td>B</td>\n",
       "    </tr>\n",
       "    <tr>\n",
       "      <td>249</td>\n",
       "      <td>2</td>\n",
       "      <td>0</td>\n",
       "      <td>0</td>\n",
       "      <td>0</td>\n",
       "      <td>1</td>\n",
       "      <td>1</td>\n",
       "      <td>B</td>\n",
       "    </tr>\n",
       "  </tbody>\n",
       "</table>\n",
       "<p>250 rows × 7 columns</p>\n",
       "</div>"
      ],
      "text/plain": [
       "     Industrial Risk  Management Risk  Financial Flexibility  Credibility  \\\n",
       "0                  2                2                      1            1   \n",
       "1                  0                0                      1            1   \n",
       "2                  1                1                      1            1   \n",
       "3                  2                2                      2            2   \n",
       "4                  0                0                      2            2   \n",
       "..               ...              ...                    ...          ...   \n",
       "245                0                0                      1            0   \n",
       "246                2                0                      0            0   \n",
       "247                1                0                      0            0   \n",
       "248                0                0                      0            0   \n",
       "249                2                0                      0            0   \n",
       "\n",
       "     Competitiveness  Operating Risk Class  \n",
       "0                  1               2    NB  \n",
       "1                  1               0    NB  \n",
       "2                  1               1    NB  \n",
       "3                  2               2    NB  \n",
       "4                  2               0    NB  \n",
       "..               ...             ...   ...  \n",
       "245                0               0     B  \n",
       "246                0               0     B  \n",
       "247                0               0     B  \n",
       "248                0               0     B  \n",
       "249                1               1     B  \n",
       "\n",
       "[250 rows x 7 columns]"
      ]
     },
     "execution_count": 377,
     "metadata": {},
     "output_type": "execute_result"
    }
   ],
   "source": [
    "temp_dict={'N': 0, 'A':1, 'P':2}\n",
    "data_original=data\n",
    "col_list=data.columns.tolist()\n",
    "col_list.remove('Class')\n",
    "for col in col_list:\n",
    "    data[col]=data[col].map(temp_dict)\n",
    "data"
   ]
  },
  {
   "cell_type": "markdown",
   "metadata": {},
   "source": [
    "##### PCA is capturing the covariance between independent variables. Let us check the correlation . We can also use the Pair Plot to capture the same. However, since all these are categorical variable with discrete values, I am plotting the heatmap rather, to understand the relation between them."
   ]
  },
  {
   "cell_type": "code",
   "execution_count": 378,
   "metadata": {},
   "outputs": [
    {
     "data": {
      "text/plain": [
       "<matplotlib.axes._subplots.AxesSubplot at 0x1efa795aec8>"
      ]
     },
     "execution_count": 378,
     "metadata": {},
     "output_type": "execute_result"
    },
    {
     "data": {
      "text/plain": [
       "<Figure size 800x800 with 0 Axes>"
      ]
     },
     "metadata": {},
     "output_type": "display_data"
    },
    {
     "data": {
      "image/png": "[encoded data removed]",
      "text/plain": [
       "<Figure size 1600x1200 with 2 Axes>"
      ]
     },
     "metadata": {},
     "output_type": "display_data"
    }
   ],
   "source": [
    "import pylab as pl\n",
    "pl.figure(figsize = (10,10))\n",
    "\n",
    "corr = data.corr()\n",
    "\n",
    "mask = np.zeros_like(corr)\n",
    "mask[np.triu_indices_from(mask)] = True\n",
    "\n",
    "plt.figure(figsize=(20,15))\n",
    "sns.heatmap(corr, mask=mask,annot=True,square=True, fmt='0.2f',cmap='Pastel1_r')"
   ]
  },
  {
   "cell_type": "markdown",
   "metadata": {},
   "source": [
    "#### <span style=\"font-family: Arial; font-weight:bold;font-size:1.5em;color:#00b3e5;\"> Q3.\tSeparate the dependant variable from the rest of the train data "
   ]
  },
  {
   "cell_type": "code",
   "execution_count": 379,
   "metadata": {},
   "outputs": [],
   "source": [
    "X1 = data[data.columns[0:-1]]\n",
    "y1 = data[\"Class\"]"
   ]
  },
  {
   "cell_type": "markdown",
   "metadata": {},
   "source": [
    "#### <span style=\"font-family: Arial; font-weight:bold;font-size:1.5em;color:#00b3e5;\"> Q4.Split the dataset into training and test data ( Take 80:20 ratio). "
   ]
  },
  {
   "cell_type": "code",
   "execution_count": 380,
   "metadata": {},
   "outputs": [
    {
     "data": {
      "text/plain": [
       "((200, 6), (50, 6), (200,), (50,))"
      ]
     },
     "execution_count": 380,
     "metadata": {},
     "output_type": "execute_result"
    }
   ],
   "source": [
    "from sklearn.model_selection import train_test_split\n",
    "X_train, X_test, y_train, y_test = train_test_split(X1, y1, test_size=0.20, random_state=1)\n",
    "X_train.shape,X_test.shape,y_train.shape,y_test.shape"
   ]
  },
  {
   "cell_type": "markdown",
   "metadata": {},
   "source": [
    "#### <span style=\"font-family: Arial; font-weight:bold;font-size:1.5em;color:#00b3e5;\"> Q5.Apply PCA on the independent features of train data. "
   ]
  },
  {
   "cell_type": "markdown",
   "metadata": {},
   "source": [
    "##### I am skipping the scaling, as all the attributes are categorical and z-score or any other scaling method will not have any impact other than assigning new labels. Categorical data here is unit less and can be proceeded with PCA steps."
   ]
  },
  {
   "cell_type": "markdown",
   "metadata": {},
   "source": [
    "##### Covariance Matrix"
   ]
  },
  {
   "cell_type": "code",
   "execution_count": 381,
   "metadata": {},
   "outputs": [
    {
     "name": "stdout",
     "output_type": "stream",
     "text": [
      "Covariance Matrix \n",
      "%s [[0.65404523 0.18532663 0.13572864 0.03125628 0.22188442 0.13351759]\n",
      " [0.18532663 0.67577889 0.16060302 0.20663317 0.20542714 0.14432161]\n",
      " [0.13572864 0.16060302 0.66040201 0.3479397  0.49251256 0.06      ]\n",
      " [0.03125628 0.20663317 0.3479397  0.68984925 0.47849246 0.19939698]\n",
      " [0.22188442 0.20542714 0.49251256 0.47849246 0.76459799 0.13854271]\n",
      " [0.13351759 0.14432161 0.06       0.19939698 0.13854271 0.75165829]]\n"
     ]
    }
   ],
   "source": [
    "train_cov_matrix = np.cov(X_train.T)\n",
    "print('Covariance Matrix \\n%s', train_cov_matrix) "
   ]
  },
  {
   "cell_type": "markdown",
   "metadata": {},
   "source": [
    "##### EigenValues and EigenVectors:"
   ]
  },
  {
   "cell_type": "code",
   "execution_count": 382,
   "metadata": {},
   "outputs": [
    {
     "name": "stdout",
     "output_type": "stream",
     "text": [
      "Eigen Vectors \n",
      "%s [[ 0.24945874  0.25616152 -0.2645557   0.42382946 -0.42994993 -0.661569  ]\n",
      " [ 0.31945349 -0.08763221  0.12806799  0.34445058  0.82305912 -0.27891959]\n",
      " [ 0.46224373  0.37368037  0.70861061 -0.3416026  -0.13850929 -0.09320704]\n",
      " [ 0.48230608  0.47819791 -0.58142691 -0.19642015  0.16137513  0.36881912]\n",
      " [ 0.56840784 -0.74466952 -0.14305741 -0.25031485 -0.19088293 -0.05310923]\n",
      " [ 0.2575731  -0.06212019  0.23012432  0.69555133 -0.23675663  0.58051238]]\n",
      "\n",
      " Eigen Values \n",
      "%s [1.84674521 0.16958734 0.27331876 0.76885229 0.50329753 0.63453052]\n"
     ]
    }
   ],
   "source": [
    "eigenvalues, eigenvectors = np.linalg.eig(train_cov_matrix)\n",
    "print('Eigen Vectors \\n%s', eigenvectors)\n",
    "print('\\n Eigen Values \\n%s', eigenvalues)"
   ]
  },
  {
   "cell_type": "markdown",
   "metadata": {},
   "source": [
    "##### Sort eigenvalues in descending order and Make a set of (eigenvalue, eigenvector) pairs"
   ]
  },
  {
   "cell_type": "code",
   "execution_count": 383,
   "metadata": {},
   "outputs": [
    {
     "name": "stdout",
     "output_type": "stream",
     "text": [
      "[(1.8467452108166929, array([0.24945874, 0.31945349, 0.46224373, 0.48230608, 0.56840784,\n",
      "       0.2575731 ])), (0.7688522896209736, array([ 0.42382946,  0.34445058, -0.3416026 , -0.19642015, -0.25031485,\n",
      "        0.69555133])), (0.6345305235614778, array([-0.661569  , -0.27891959, -0.09320704,  0.36881912, -0.05310923,\n",
      "        0.58051238])), (0.5032975305916022, array([-0.42994993,  0.82305912, -0.13850929,  0.16137513, -0.19088293,\n",
      "       -0.23675663])), (0.2733187617417952, array([-0.2645557 ,  0.12806799,  0.70861061, -0.58142691, -0.14305741,\n",
      "        0.23012432])), (0.1695873419589173, array([ 0.25616152, -0.08763221,  0.37368037,  0.47819791, -0.74466952,\n",
      "       -0.06212019]))]\n",
      "Eigenvalues in descending order: \n",
      "[1.8467452108166929, 0.7688522896209736, 0.6345305235614778, 0.5032975305916022, 0.2733187617417952, 0.1695873419589173]\n"
     ]
    }
   ],
   "source": [
    "eig_pairs = [(eigenvalues[index], eigenvectors[:,index]) for index in range(len(eigenvalues))]\n",
    "\n",
    "# Sort the (eigenvalue, eigenvector) pairs from highest to lowest with respect to eigenvalue\n",
    "eig_pairs.sort()\n",
    "\n",
    "eig_pairs.reverse()\n",
    "print(eig_pairs)\n",
    "\n",
    "# Extract the descending ordered eigenvalues and eigenvectors\n",
    "eigvalues_sorted = [eig_pairs[index][0] for index in range(len(eigenvalues))]\n",
    "eigvectors_sorted = [eig_pairs[index][1] for index in range(len(eigenvalues))]\n",
    "\n",
    "# Let's confirm our sorting worked, print out eigenvalues\n",
    "print('Eigenvalues in descending order: \\n%s' %eigvalues_sorted)"
   ]
  },
  {
   "cell_type": "markdown",
   "metadata": {},
   "source": [
    "##### Find out cumulative variance"
   ]
  },
  {
   "cell_type": "code",
   "execution_count": 384,
   "metadata": {},
   "outputs": [
    {
     "data": {
      "text/plain": [
       "array([0.44008562, 0.62330571, 0.77451648, 0.89445398, 0.95958676,\n",
       "       1.        ])"
      ]
     },
     "execution_count": 384,
     "metadata": {},
     "output_type": "execute_result"
    }
   ],
   "source": [
    "tot = sum(eigenvalues)\n",
    "var_explained = [(i / tot) for i in sorted(eigenvalues, reverse=True)]  # an array of variance explained by each \n",
    "# eigen vector... there will be 6 entries as there are 6 eigen vectors)\n",
    "cum_var_exp = np.cumsum(var_explained)  # an array of cumulative variance. There will be 8 entries with 8 th entry \n",
    "# cumulative reaching almost 100%\n",
    "cum_var_exp"
   ]
  },
  {
   "cell_type": "markdown",
   "metadata": {},
   "source": [
    "##### The above means PC1 contributes 44% of information in the dataset, PC1 & PC2 combinely contributes to 62% of information, PC1, PC2 & PC3 contributes 77% and so on"
   ]
  },
  {
   "cell_type": "markdown",
   "metadata": {},
   "source": [
    "#### <span style=\"font-family: Arial; font-weight:bold;font-size:1.5em;color:#00b3e5;\"> Q6.Display elbow plot to find out reduced number of dimensions (which covers more than 95% of the variance). "
   ]
  },
  {
   "cell_type": "markdown",
   "metadata": {},
   "source": [
    "##### The below plot shows that PC5 covers untill 95% approx. of the information in the dataset. I choose to drop the last dimension and reduce the 6D space into 5D"
   ]
  },
  {
   "cell_type": "code",
   "execution_count": 385,
   "metadata": {},
   "outputs": [
    {
     "data": {
      "image/png": "[encoded data removed]",
      "text/plain": [
       "<Figure size 640x480 with 1 Axes>"
      ]
     },
     "metadata": {},
     "output_type": "display_data"
    }
   ],
   "source": [
    "plt.bar(range(1,7), var_explained, align='center', label='individual explained variance')\n",
    "plt.step(range(1,7),cum_var_exp, where= 'mid', label='cumulative explained variance')\n",
    "plt.ylabel('Explained variance ratio')\n",
    "plt.xlabel('Principal components')\n",
    "plt.legend(loc = 'best')\n",
    "plt.show()"
   ]
  },
  {
   "cell_type": "markdown",
   "metadata": {},
   "source": [
    "#### <span style=\"font-family: Arial; font-weight:bold;font-size:1.5em;color:#00b3e5;\"> Q7.Transform the data using PCA ( select optimum number of PCs). "
   ]
  },
  {
   "cell_type": "markdown",
   "metadata": {},
   "source": [
    "##### Apply PCA on the training dataset"
   ]
  },
  {
   "cell_type": "code",
   "execution_count": 386,
   "metadata": {},
   "outputs": [
    {
     "data": {
      "text/html": [
       "<div>\n",
       "<style scoped>\n",
       "    .dataframe tbody tr th:only-of-type {\n",
       "        vertical-align: middle;\n",
       "    }\n",
       "\n",
       "    .dataframe tbody tr th {\n",
       "        vertical-align: top;\n",
       "    }\n",
       "\n",
       "    .dataframe thead th {\n",
       "        text-align: right;\n",
       "    }\n",
       "</style>\n",
       "<table border=\"1\" class=\"dataframe\">\n",
       "  <thead>\n",
       "    <tr style=\"text-align: right;\">\n",
       "      <th></th>\n",
       "      <th>0</th>\n",
       "      <th>1</th>\n",
       "      <th>2</th>\n",
       "      <th>3</th>\n",
       "      <th>4</th>\n",
       "    </tr>\n",
       "  </thead>\n",
       "  <tbody>\n",
       "    <tr>\n",
       "      <td>0</td>\n",
       "      <td>-1.477113</td>\n",
       "      <td>-0.172890</td>\n",
       "      <td>-0.851862</td>\n",
       "      <td>0.513736</td>\n",
       "      <td>0.056601</td>\n",
       "    </tr>\n",
       "    <tr>\n",
       "      <td>1</td>\n",
       "      <td>-0.144605</td>\n",
       "      <td>-0.718912</td>\n",
       "      <td>0.481864</td>\n",
       "      <td>-1.164602</td>\n",
       "      <td>0.010535</td>\n",
       "    </tr>\n",
       "    <tr>\n",
       "      <td>2</td>\n",
       "      <td>0.979890</td>\n",
       "      <td>2.172066</td>\n",
       "      <td>0.533632</td>\n",
       "      <td>-0.215407</td>\n",
       "      <td>-0.048140</td>\n",
       "    </tr>\n",
       "    <tr>\n",
       "      <td>3</td>\n",
       "      <td>-1.306146</td>\n",
       "      <td>0.096259</td>\n",
       "      <td>1.037958</td>\n",
       "      <td>0.045245</td>\n",
       "      <td>0.271416</td>\n",
       "    </tr>\n",
       "    <tr>\n",
       "      <td>4</td>\n",
       "      <td>-1.157660</td>\n",
       "      <td>-0.517340</td>\n",
       "      <td>-1.130782</td>\n",
       "      <td>1.336795</td>\n",
       "      <td>-0.071467</td>\n",
       "    </tr>\n",
       "    <tr>\n",
       "      <td>...</td>\n",
       "      <td>...</td>\n",
       "      <td>...</td>\n",
       "      <td>...</td>\n",
       "      <td>...</td>\n",
       "      <td>...</td>\n",
       "    </tr>\n",
       "    <tr>\n",
       "      <td>195</td>\n",
       "      <td>1.618797</td>\n",
       "      <td>1.483164</td>\n",
       "      <td>-0.024207</td>\n",
       "      <td>1.430711</td>\n",
       "      <td>-0.304276</td>\n",
       "    </tr>\n",
       "    <tr>\n",
       "      <td>196</td>\n",
       "      <td>1.831101</td>\n",
       "      <td>-0.607567</td>\n",
       "      <td>-0.276220</td>\n",
       "      <td>-0.887137</td>\n",
       "      <td>-0.688772</td>\n",
       "    </tr>\n",
       "    <tr>\n",
       "      <td>197</td>\n",
       "      <td>0.943240</td>\n",
       "      <td>-0.513431</td>\n",
       "      <td>0.055809</td>\n",
       "      <td>-1.519313</td>\n",
       "      <td>-0.703761</td>\n",
       "    </tr>\n",
       "    <tr>\n",
       "      <td>198</td>\n",
       "      <td>-1.538994</td>\n",
       "      <td>-0.523990</td>\n",
       "      <td>0.007570</td>\n",
       "      <td>-0.546080</td>\n",
       "      <td>-0.045456</td>\n",
       "    </tr>\n",
       "    <tr>\n",
       "      <td>199</td>\n",
       "      <td>1.024678</td>\n",
       "      <td>0.711082</td>\n",
       "      <td>0.545783</td>\n",
       "      <td>-0.743605</td>\n",
       "      <td>0.694902</td>\n",
       "    </tr>\n",
       "  </tbody>\n",
       "</table>\n",
       "<p>200 rows × 5 columns</p>\n",
       "</div>"
      ],
      "text/plain": [
       "            0         1         2         3         4\n",
       "0   -1.477113 -0.172890 -0.851862  0.513736  0.056601\n",
       "1   -0.144605 -0.718912  0.481864 -1.164602  0.010535\n",
       "2    0.979890  2.172066  0.533632 -0.215407 -0.048140\n",
       "3   -1.306146  0.096259  1.037958  0.045245  0.271416\n",
       "4   -1.157660 -0.517340 -1.130782  1.336795 -0.071467\n",
       "..        ...       ...       ...       ...       ...\n",
       "195  1.618797  1.483164 -0.024207  1.430711 -0.304276\n",
       "196  1.831101 -0.607567 -0.276220 -0.887137 -0.688772\n",
       "197  0.943240 -0.513431  0.055809 -1.519313 -0.703761\n",
       "198 -1.538994 -0.523990  0.007570 -0.546080 -0.045456\n",
       "199  1.024678  0.711082  0.545783 -0.743605  0.694902\n",
       "\n",
       "[200 rows x 5 columns]"
      ]
     },
     "execution_count": 386,
     "metadata": {},
     "output_type": "execute_result"
    }
   ],
   "source": [
    "from sklearn.decomposition import PCA\n",
    "datapca=PCA(n_components=5)\n",
    "df_reduced_1=datapca.fit_transform(X_train)\n",
    "\n",
    "Proj_data_df_train = pd.DataFrame(df_reduced_1)\n",
    "Proj_data_df_train"
   ]
  },
  {
   "cell_type": "markdown",
   "metadata": {},
   "source": [
    "##### Apply PCA on the test dataset"
   ]
  },
  {
   "cell_type": "code",
   "execution_count": 387,
   "metadata": {},
   "outputs": [
    {
     "data": {
      "text/html": [
       "<div>\n",
       "<style scoped>\n",
       "    .dataframe tbody tr th:only-of-type {\n",
       "        vertical-align: middle;\n",
       "    }\n",
       "\n",
       "    .dataframe tbody tr th {\n",
       "        vertical-align: top;\n",
       "    }\n",
       "\n",
       "    .dataframe thead th {\n",
       "        text-align: right;\n",
       "    }\n",
       "</style>\n",
       "<table border=\"1\" class=\"dataframe\">\n",
       "  <thead>\n",
       "    <tr style=\"text-align: right;\">\n",
       "      <th></th>\n",
       "      <th>0</th>\n",
       "      <th>1</th>\n",
       "      <th>2</th>\n",
       "      <th>3</th>\n",
       "      <th>4</th>\n",
       "    </tr>\n",
       "  </thead>\n",
       "  <tbody>\n",
       "    <tr>\n",
       "      <td>0</td>\n",
       "      <td>0.146547</td>\n",
       "      <td>-0.877722</td>\n",
       "      <td>-0.830331</td>\n",
       "      <td>-0.081229</td>\n",
       "      <td>0.838197</td>\n",
       "    </tr>\n",
       "    <tr>\n",
       "      <td>1</td>\n",
       "      <td>-0.933950</td>\n",
       "      <td>-0.795738</td>\n",
       "      <td>0.323849</td>\n",
       "      <td>-0.943277</td>\n",
       "      <td>-0.013950</td>\n",
       "    </tr>\n",
       "    <tr>\n",
       "      <td>2</td>\n",
       "      <td>-1.220098</td>\n",
       "      <td>-0.563960</td>\n",
       "      <td>0.143952</td>\n",
       "      <td>1.582204</td>\n",
       "      <td>0.042754</td>\n",
       "    </tr>\n",
       "    <tr>\n",
       "      <td>3</td>\n",
       "      <td>-1.882468</td>\n",
       "      <td>0.114769</td>\n",
       "      <td>-0.165689</td>\n",
       "      <td>-0.146415</td>\n",
       "      <td>-0.077997</td>\n",
       "    </tr>\n",
       "    <tr>\n",
       "      <td>4</td>\n",
       "      <td>1.751392</td>\n",
       "      <td>-0.670610</td>\n",
       "      <td>0.503437</td>\n",
       "      <td>-0.846430</td>\n",
       "      <td>0.396486</td>\n",
       "    </tr>\n",
       "  </tbody>\n",
       "</table>\n",
       "</div>"
      ],
      "text/plain": [
       "          0         1         2         3         4\n",
       "0  0.146547 -0.877722 -0.830331 -0.081229  0.838197\n",
       "1 -0.933950 -0.795738  0.323849 -0.943277 -0.013950\n",
       "2 -1.220098 -0.563960  0.143952  1.582204  0.042754\n",
       "3 -1.882468  0.114769 -0.165689 -0.146415 -0.077997\n",
       "4  1.751392 -0.670610  0.503437 -0.846430  0.396486"
      ]
     },
     "execution_count": 387,
     "metadata": {},
     "output_type": "execute_result"
    }
   ],
   "source": [
    "from sklearn.decomposition import PCA\n",
    "datapca=PCA(n_components=5)\n",
    "df_reduced_1=datapca.fit_transform(X_test)\n",
    "\n",
    "Proj_data_df_test = pd.DataFrame(df_reduced_1)\n",
    "Proj_data_df_test.head()"
   ]
  },
  {
   "cell_type": "markdown",
   "metadata": {},
   "source": [
    "##### Let us check accuracy score on the transformed data"
   ]
  },
  {
   "cell_type": "code",
   "execution_count": 388,
   "metadata": {},
   "outputs": [
    {
     "name": "stderr",
     "output_type": "stream",
     "text": [
      "C:\\Users\\sense\\Anaconda3\\lib\\site-packages\\sklearn\\linear_model\\logistic.py:432: FutureWarning: Default solver will be changed to 'lbfgs' in 0.22. Specify a solver to silence this warning.\n",
      "  FutureWarning)\n"
     ]
    },
    {
     "data": {
      "text/plain": [
       "array([[ 3.44123073,  1.12195756, -0.00994599, -0.51924612,  0.20482186]])"
      ]
     },
     "execution_count": 388,
     "metadata": {},
     "output_type": "execute_result"
    }
   ],
   "source": [
    "# Let us build a linear regression model on the PCA dimensions \n",
    "\n",
    "# Import Linear Regression machine learning library\n",
    "from sklearn.linear_model import LogisticRegression\n",
    "\n",
    "regression_model = LogisticRegression()\n",
    "regression_model.fit(Proj_data_df_train, y_train)\n",
    "\n",
    "regression_model.coef_"
   ]
  },
  {
   "cell_type": "markdown",
   "metadata": {},
   "source": [
    "##### Training Score:"
   ]
  },
  {
   "cell_type": "code",
   "execution_count": 389,
   "metadata": {},
   "outputs": [
    {
     "data": {
      "text/plain": [
       "0.995"
      ]
     },
     "execution_count": 389,
     "metadata": {},
     "output_type": "execute_result"
    }
   ],
   "source": [
    "regression_model.score(Proj_data_df_train, y_train)"
   ]
  },
  {
   "cell_type": "markdown",
   "metadata": {},
   "source": [
    "##### Testing Score:"
   ]
  },
  {
   "cell_type": "code",
   "execution_count": 390,
   "metadata": {},
   "outputs": [
    {
     "data": {
      "text/plain": [
       "0.98"
      ]
     },
     "execution_count": 390,
     "metadata": {},
     "output_type": "execute_result"
    }
   ],
   "source": [
    "regression_model.score(Proj_data_df_test, y_test)"
   ]
  },
  {
   "cell_type": "markdown",
   "metadata": {},
   "source": [
    "#### <span style=\"font-family: Arial; font-weight:bold;font-size:1.5em;color:#00b3e5;\"> Q8.Apply KMeans algorithm on the above transformed data. "
   ]
  },
  {
   "cell_type": "markdown",
   "metadata": {},
   "source": [
    "##### First step would be finding optimal no. of clusters"
   ]
  },
  {
   "cell_type": "code",
   "execution_count": 391,
   "metadata": {},
   "outputs": [
    {
     "data": {
      "text/plain": [
       "Text(0.5, 1.0, 'Selecting k with the Elbow Method')"
      ]
     },
     "execution_count": 391,
     "metadata": {},
     "output_type": "execute_result"
    },
    {
     "data": {
      "image/png": "[encoded data removed]",
      "text/plain": [
       "<Figure size 640x480 with 1 Axes>"
      ]
     },
     "metadata": {},
     "output_type": "display_data"
    }
   ],
   "source": [
    "from sklearn.cluster import KMeans\n",
    "from scipy.spatial.distance import cdist\n",
    "clusters=range(1,10)\n",
    "meanDistortions=[]\n",
    "\n",
    "for k in clusters:\n",
    "    model=KMeans(n_clusters=k)\n",
    "    model.fit(Proj_data_df_train)\n",
    "    prediction=model.predict(Proj_data_df_train)\n",
    "    meanDistortions.append(sum(np.min(cdist(Proj_data_df_train, model.cluster_centers_, 'euclidean'), axis=1)) / Proj_data_df_train.shape[0])\n",
    "\n",
    "\n",
    "plt.plot(clusters, meanDistortions, 'bx-')\n",
    "plt.xlabel('k')\n",
    "plt.ylabel('Average distortion')\n",
    "plt.title('Selecting k with the Elbow Method')\n"
   ]
  },
  {
   "cell_type": "markdown",
   "metadata": {},
   "source": [
    "#### <span style=\"font-family: Arial; font-weight:bold;font-size:1.5em;color:#00b3e5;\"> Q9.Select optimal number of clusters and form clusters out of the train data. "
   ]
  },
  {
   "cell_type": "markdown",
   "metadata": {},
   "source": [
    "##### Lets start with  k=2 as the sharp decrease fades away after that."
   ]
  },
  {
   "cell_type": "markdown",
   "metadata": {},
   "source": [
    "##### Also please note that in clustering train and test data split is not necessary. As per the question, I am using the train data split"
   ]
  },
  {
   "cell_type": "code",
   "execution_count": 392,
   "metadata": {},
   "outputs": [],
   "source": [
    "final_model=KMeans(2)\n",
    "final_model.fit(Proj_data_df_train)\n",
    "prediction=final_model.predict(Proj_data_df_train)"
   ]
  },
  {
   "cell_type": "markdown",
   "metadata": {},
   "source": [
    "##### I have done further iterations with different k values. Please check below."
   ]
  },
  {
   "cell_type": "markdown",
   "metadata": {},
   "source": [
    "#### <span style=\"font-family: Arial; font-weight:bold;font-size:1.5em;color:#00b3e5;\"> Q10.Create a new column in the train data and populate it with the cluster labels. "
   ]
  },
  {
   "cell_type": "code",
   "execution_count": 393,
   "metadata": {},
   "outputs": [
    {
     "name": "stdout",
     "output_type": "stream",
     "text": [
      "Class Assigned : \n",
      "\n"
     ]
    },
    {
     "data": {
      "text/html": [
       "<div>\n",
       "<style scoped>\n",
       "    .dataframe tbody tr th:only-of-type {\n",
       "        vertical-align: middle;\n",
       "    }\n",
       "\n",
       "    .dataframe tbody tr th {\n",
       "        vertical-align: top;\n",
       "    }\n",
       "\n",
       "    .dataframe thead th {\n",
       "        text-align: right;\n",
       "    }\n",
       "</style>\n",
       "<table border=\"1\" class=\"dataframe\">\n",
       "  <thead>\n",
       "    <tr style=\"text-align: right;\">\n",
       "      <th></th>\n",
       "      <th>ClusterLabel</th>\n",
       "    </tr>\n",
       "  </thead>\n",
       "  <tbody>\n",
       "    <tr>\n",
       "      <td>0</td>\n",
       "      <td>0</td>\n",
       "    </tr>\n",
       "    <tr>\n",
       "      <td>1</td>\n",
       "      <td>0</td>\n",
       "    </tr>\n",
       "    <tr>\n",
       "      <td>2</td>\n",
       "      <td>1</td>\n",
       "    </tr>\n",
       "    <tr>\n",
       "      <td>3</td>\n",
       "      <td>0</td>\n",
       "    </tr>\n",
       "    <tr>\n",
       "      <td>4</td>\n",
       "      <td>0</td>\n",
       "    </tr>\n",
       "    <tr>\n",
       "      <td>...</td>\n",
       "      <td>...</td>\n",
       "    </tr>\n",
       "    <tr>\n",
       "      <td>195</td>\n",
       "      <td>1</td>\n",
       "    </tr>\n",
       "    <tr>\n",
       "      <td>196</td>\n",
       "      <td>1</td>\n",
       "    </tr>\n",
       "    <tr>\n",
       "      <td>197</td>\n",
       "      <td>1</td>\n",
       "    </tr>\n",
       "    <tr>\n",
       "      <td>198</td>\n",
       "      <td>0</td>\n",
       "    </tr>\n",
       "    <tr>\n",
       "      <td>199</td>\n",
       "      <td>1</td>\n",
       "    </tr>\n",
       "  </tbody>\n",
       "</table>\n",
       "<p>200 rows × 1 columns</p>\n",
       "</div>"
      ],
      "text/plain": [
       "     ClusterLabel\n",
       "0               0\n",
       "1               0\n",
       "2               1\n",
       "3               0\n",
       "4               0\n",
       "..            ...\n",
       "195             1\n",
       "196             1\n",
       "197             1\n",
       "198             0\n",
       "199             1\n",
       "\n",
       "[200 rows x 1 columns]"
      ]
     },
     "execution_count": 393,
     "metadata": {},
     "output_type": "execute_result"
    }
   ],
   "source": [
    "#Append the prediction \n",
    "#Proj_data_df_pca[\"Class\"] = y1\n",
    "Proj_data_df_train[\"ClusterLabel\"] = prediction\n",
    "print(\"Class Assigned : \\n\")\n",
    "Proj_data_df_train[[\"ClusterLabel\"]]"
   ]
  },
  {
   "cell_type": "code",
   "execution_count": 394,
   "metadata": {},
   "outputs": [
    {
     "data": {
      "text/plain": [
       "array([<matplotlib.axes._subplots.AxesSubplot object at 0x000001EFA9BD8B08>,\n",
       "       <matplotlib.axes._subplots.AxesSubplot object at 0x000001EFA7771508>,\n",
       "       <matplotlib.axes._subplots.AxesSubplot object at 0x000001EFA8CA5DC8>,\n",
       "       <matplotlib.axes._subplots.AxesSubplot object at 0x000001EFA7963788>,\n",
       "       <matplotlib.axes._subplots.AxesSubplot object at 0x000001EFA7702788>],\n",
       "      dtype=object)"
      ]
     },
     "execution_count": 394,
     "metadata": {},
     "output_type": "execute_result"
    },
    {
     "data": {
      "image/png": "[encoded data removed]",
      "text/plain": [
       "<Figure size 1200x400 with 5 Axes>"
      ]
     },
     "metadata": {},
     "output_type": "display_data"
    }
   ],
   "source": [
    "Proj_data_df_train.boxplot(by='ClusterLabel', layout=(1,5), figsize=(15,5))"
   ]
  },
  {
   "cell_type": "markdown",
   "metadata": {},
   "source": [
    "##### KMeans with k=2 has outliers. Outlier can impact clustering. So we try with k=3"
   ]
  },
  {
   "cell_type": "code",
   "execution_count": 395,
   "metadata": {},
   "outputs": [
    {
     "name": "stdout",
     "output_type": "stream",
     "text": [
      "Class Assigned : \n",
      "\n"
     ]
    },
    {
     "data": {
      "text/plain": [
       "array([<matplotlib.axes._subplots.AxesSubplot object at 0x000001EFA9DB5AC8>,\n",
       "       <matplotlib.axes._subplots.AxesSubplot object at 0x000001EFA9970388>,\n",
       "       <matplotlib.axes._subplots.AxesSubplot object at 0x000001EFA99A8248>,\n",
       "       <matplotlib.axes._subplots.AxesSubplot object at 0x000001EFA99E1248>,\n",
       "       <matplotlib.axes._subplots.AxesSubplot object at 0x000001EFA9A19208>],\n",
       "      dtype=object)"
      ]
     },
     "execution_count": 395,
     "metadata": {},
     "output_type": "execute_result"
    },
    {
     "data": {
      "image/png": "[encoded data removed]",
      "text/plain": [
       "<Figure size 1200x400 with 5 Axes>"
      ]
     },
     "metadata": {},
     "output_type": "display_data"
    }
   ],
   "source": [
    "final_model=KMeans(3)\n",
    "final_model.fit(Proj_data_df_train)\n",
    "prediction=final_model.predict(Proj_data_df_train)\n",
    "#Append the prediction \n",
    "#Proj_data_df_pca[\"Class\"] = y1\n",
    "Proj_data_df_train[\"ClusterLabel\"] = prediction\n",
    "print(\"Class Assigned : \\n\")\n",
    "Proj_data_df_train[[\"ClusterLabel\"]]\n",
    "Proj_data_df_train.boxplot(by='ClusterLabel', layout=(1,5), figsize=(15,5))"
   ]
  },
  {
   "cell_type": "markdown",
   "metadata": {},
   "source": [
    "##### K=4. "
   ]
  },
  {
   "cell_type": "code",
   "execution_count": 396,
   "metadata": {},
   "outputs": [
    {
     "name": "stdout",
     "output_type": "stream",
     "text": [
      "Class Assigned : \n",
      "\n"
     ]
    },
    {
     "data": {
      "text/plain": [
       "array([<matplotlib.axes._subplots.AxesSubplot object at 0x000001EFAA34AB08>,\n",
       "       <matplotlib.axes._subplots.AxesSubplot object at 0x000001EFAA3625C8>,\n",
       "       <matplotlib.axes._subplots.AxesSubplot object at 0x000001EFAA0284C8>,\n",
       "       <matplotlib.axes._subplots.AxesSubplot object at 0x000001EFAA0624C8>,\n",
       "       <matplotlib.axes._subplots.AxesSubplot object at 0x000001EFAA09A488>],\n",
       "      dtype=object)"
      ]
     },
     "execution_count": 396,
     "metadata": {},
     "output_type": "execute_result"
    },
    {
     "data": {
      "image/png": "[encoded data removed]",
      "text/plain": [
       "<Figure size 1200x400 with 5 Axes>"
      ]
     },
     "metadata": {},
     "output_type": "display_data"
    }
   ],
   "source": [
    "final_model=KMeans(4)\n",
    "final_model.fit(Proj_data_df_train)\n",
    "prediction=final_model.predict(Proj_data_df_train)\n",
    "#Append the prediction \n",
    "#Proj_data_df_pca[\"Class\"] = y1\n",
    "Proj_data_df_train[\"ClusterLabel\"] = prediction\n",
    "print(\"Class Assigned : \\n\")\n",
    "Proj_data_df_train[[\"ClusterLabel\"]]\n",
    "Proj_data_df_train.boxplot(by='ClusterLabel', layout=(1,5), figsize=(15,5))"
   ]
  },
  {
   "cell_type": "markdown",
   "metadata": {},
   "source": [
    "##### As k=24 looks like the most optimal value (Number of outliers reduced), we will proceed with that."
   ]
  },
  {
   "cell_type": "markdown",
   "metadata": {},
   "source": [
    "#### <span style=\"font-family: Arial; font-weight:bold;font-size:1.5em;color:#00b3e5;\"> Q11.Transform the test data using the same PCA object that was fit on the train data. "
   ]
  },
  {
   "cell_type": "code",
   "execution_count": 397,
   "metadata": {},
   "outputs": [
    {
     "data": {
      "text/html": [
       "<div>\n",
       "<style scoped>\n",
       "    .dataframe tbody tr th:only-of-type {\n",
       "        vertical-align: middle;\n",
       "    }\n",
       "\n",
       "    .dataframe tbody tr th {\n",
       "        vertical-align: top;\n",
       "    }\n",
       "\n",
       "    .dataframe thead th {\n",
       "        text-align: right;\n",
       "    }\n",
       "</style>\n",
       "<table border=\"1\" class=\"dataframe\">\n",
       "  <thead>\n",
       "    <tr style=\"text-align: right;\">\n",
       "      <th></th>\n",
       "      <th>0</th>\n",
       "      <th>1</th>\n",
       "      <th>2</th>\n",
       "      <th>3</th>\n",
       "      <th>4</th>\n",
       "    </tr>\n",
       "  </thead>\n",
       "  <tbody>\n",
       "    <tr>\n",
       "      <td>0</td>\n",
       "      <td>0.146547</td>\n",
       "      <td>-0.877722</td>\n",
       "      <td>-0.830331</td>\n",
       "      <td>-0.081229</td>\n",
       "      <td>0.838197</td>\n",
       "    </tr>\n",
       "    <tr>\n",
       "      <td>1</td>\n",
       "      <td>-0.933950</td>\n",
       "      <td>-0.795738</td>\n",
       "      <td>0.323849</td>\n",
       "      <td>-0.943277</td>\n",
       "      <td>-0.013950</td>\n",
       "    </tr>\n",
       "    <tr>\n",
       "      <td>2</td>\n",
       "      <td>-1.220098</td>\n",
       "      <td>-0.563960</td>\n",
       "      <td>0.143952</td>\n",
       "      <td>1.582204</td>\n",
       "      <td>0.042754</td>\n",
       "    </tr>\n",
       "    <tr>\n",
       "      <td>3</td>\n",
       "      <td>-1.882468</td>\n",
       "      <td>0.114769</td>\n",
       "      <td>-0.165689</td>\n",
       "      <td>-0.146415</td>\n",
       "      <td>-0.077997</td>\n",
       "    </tr>\n",
       "    <tr>\n",
       "      <td>4</td>\n",
       "      <td>1.751392</td>\n",
       "      <td>-0.670610</td>\n",
       "      <td>0.503437</td>\n",
       "      <td>-0.846430</td>\n",
       "      <td>0.396486</td>\n",
       "    </tr>\n",
       "  </tbody>\n",
       "</table>\n",
       "</div>"
      ],
      "text/plain": [
       "          0         1         2         3         4\n",
       "0  0.146547 -0.877722 -0.830331 -0.081229  0.838197\n",
       "1 -0.933950 -0.795738  0.323849 -0.943277 -0.013950\n",
       "2 -1.220098 -0.563960  0.143952  1.582204  0.042754\n",
       "3 -1.882468  0.114769 -0.165689 -0.146415 -0.077997\n",
       "4  1.751392 -0.670610  0.503437 -0.846430  0.396486"
      ]
     },
     "execution_count": 397,
     "metadata": {},
     "output_type": "execute_result"
    }
   ],
   "source": [
    "from sklearn.decomposition import PCA\n",
    "datapca=PCA(n_components=5)\n",
    "df_reduced_1=datapca.fit_transform(X_test)\n",
    "\n",
    "Proj_data_df_test = pd.DataFrame(df_reduced_1)\n",
    "Proj_data_df_test.head()"
   ]
  },
  {
   "cell_type": "markdown",
   "metadata": {},
   "source": [
    "#### <span style=\"font-family: Arial; font-weight:bold;font-size:1.5em;color:#00b3e5;\"> Q12.Use the same kmeans object, assign cluster labels to the test data and store it as a feature. "
   ]
  },
  {
   "cell_type": "code",
   "execution_count": 398,
   "metadata": {},
   "outputs": [
    {
     "name": "stdout",
     "output_type": "stream",
     "text": [
      "Class Assigned : \n",
      "\n"
     ]
    },
    {
     "data": {
      "text/html": [
       "<div>\n",
       "<style scoped>\n",
       "    .dataframe tbody tr th:only-of-type {\n",
       "        vertical-align: middle;\n",
       "    }\n",
       "\n",
       "    .dataframe tbody tr th {\n",
       "        vertical-align: top;\n",
       "    }\n",
       "\n",
       "    .dataframe thead th {\n",
       "        text-align: right;\n",
       "    }\n",
       "</style>\n",
       "<table border=\"1\" class=\"dataframe\">\n",
       "  <thead>\n",
       "    <tr style=\"text-align: right;\">\n",
       "      <th></th>\n",
       "      <th>ClusterLabel</th>\n",
       "    </tr>\n",
       "  </thead>\n",
       "  <tbody>\n",
       "    <tr>\n",
       "      <td>0</td>\n",
       "      <td>3</td>\n",
       "    </tr>\n",
       "    <tr>\n",
       "      <td>1</td>\n",
       "      <td>2</td>\n",
       "    </tr>\n",
       "    <tr>\n",
       "      <td>2</td>\n",
       "      <td>2</td>\n",
       "    </tr>\n",
       "    <tr>\n",
       "      <td>3</td>\n",
       "      <td>2</td>\n",
       "    </tr>\n",
       "    <tr>\n",
       "      <td>4</td>\n",
       "      <td>3</td>\n",
       "    </tr>\n",
       "    <tr>\n",
       "      <td>5</td>\n",
       "      <td>2</td>\n",
       "    </tr>\n",
       "    <tr>\n",
       "      <td>6</td>\n",
       "      <td>0</td>\n",
       "    </tr>\n",
       "    <tr>\n",
       "      <td>7</td>\n",
       "      <td>1</td>\n",
       "    </tr>\n",
       "    <tr>\n",
       "      <td>8</td>\n",
       "      <td>1</td>\n",
       "    </tr>\n",
       "    <tr>\n",
       "      <td>9</td>\n",
       "      <td>0</td>\n",
       "    </tr>\n",
       "    <tr>\n",
       "      <td>10</td>\n",
       "      <td>1</td>\n",
       "    </tr>\n",
       "    <tr>\n",
       "      <td>11</td>\n",
       "      <td>2</td>\n",
       "    </tr>\n",
       "    <tr>\n",
       "      <td>12</td>\n",
       "      <td>3</td>\n",
       "    </tr>\n",
       "    <tr>\n",
       "      <td>13</td>\n",
       "      <td>1</td>\n",
       "    </tr>\n",
       "    <tr>\n",
       "      <td>14</td>\n",
       "      <td>0</td>\n",
       "    </tr>\n",
       "    <tr>\n",
       "      <td>15</td>\n",
       "      <td>3</td>\n",
       "    </tr>\n",
       "    <tr>\n",
       "      <td>16</td>\n",
       "      <td>1</td>\n",
       "    </tr>\n",
       "    <tr>\n",
       "      <td>17</td>\n",
       "      <td>0</td>\n",
       "    </tr>\n",
       "    <tr>\n",
       "      <td>18</td>\n",
       "      <td>2</td>\n",
       "    </tr>\n",
       "    <tr>\n",
       "      <td>19</td>\n",
       "      <td>3</td>\n",
       "    </tr>\n",
       "    <tr>\n",
       "      <td>20</td>\n",
       "      <td>2</td>\n",
       "    </tr>\n",
       "    <tr>\n",
       "      <td>21</td>\n",
       "      <td>0</td>\n",
       "    </tr>\n",
       "    <tr>\n",
       "      <td>22</td>\n",
       "      <td>3</td>\n",
       "    </tr>\n",
       "    <tr>\n",
       "      <td>23</td>\n",
       "      <td>1</td>\n",
       "    </tr>\n",
       "    <tr>\n",
       "      <td>24</td>\n",
       "      <td>0</td>\n",
       "    </tr>\n",
       "    <tr>\n",
       "      <td>25</td>\n",
       "      <td>3</td>\n",
       "    </tr>\n",
       "    <tr>\n",
       "      <td>26</td>\n",
       "      <td>2</td>\n",
       "    </tr>\n",
       "    <tr>\n",
       "      <td>27</td>\n",
       "      <td>1</td>\n",
       "    </tr>\n",
       "    <tr>\n",
       "      <td>28</td>\n",
       "      <td>3</td>\n",
       "    </tr>\n",
       "    <tr>\n",
       "      <td>29</td>\n",
       "      <td>2</td>\n",
       "    </tr>\n",
       "    <tr>\n",
       "      <td>30</td>\n",
       "      <td>1</td>\n",
       "    </tr>\n",
       "    <tr>\n",
       "      <td>31</td>\n",
       "      <td>0</td>\n",
       "    </tr>\n",
       "    <tr>\n",
       "      <td>32</td>\n",
       "      <td>3</td>\n",
       "    </tr>\n",
       "    <tr>\n",
       "      <td>33</td>\n",
       "      <td>2</td>\n",
       "    </tr>\n",
       "    <tr>\n",
       "      <td>34</td>\n",
       "      <td>1</td>\n",
       "    </tr>\n",
       "    <tr>\n",
       "      <td>35</td>\n",
       "      <td>2</td>\n",
       "    </tr>\n",
       "    <tr>\n",
       "      <td>36</td>\n",
       "      <td>0</td>\n",
       "    </tr>\n",
       "    <tr>\n",
       "      <td>37</td>\n",
       "      <td>0</td>\n",
       "    </tr>\n",
       "    <tr>\n",
       "      <td>38</td>\n",
       "      <td>0</td>\n",
       "    </tr>\n",
       "    <tr>\n",
       "      <td>39</td>\n",
       "      <td>2</td>\n",
       "    </tr>\n",
       "    <tr>\n",
       "      <td>40</td>\n",
       "      <td>2</td>\n",
       "    </tr>\n",
       "    <tr>\n",
       "      <td>41</td>\n",
       "      <td>0</td>\n",
       "    </tr>\n",
       "    <tr>\n",
       "      <td>42</td>\n",
       "      <td>0</td>\n",
       "    </tr>\n",
       "    <tr>\n",
       "      <td>43</td>\n",
       "      <td>3</td>\n",
       "    </tr>\n",
       "    <tr>\n",
       "      <td>44</td>\n",
       "      <td>0</td>\n",
       "    </tr>\n",
       "    <tr>\n",
       "      <td>45</td>\n",
       "      <td>0</td>\n",
       "    </tr>\n",
       "    <tr>\n",
       "      <td>46</td>\n",
       "      <td>0</td>\n",
       "    </tr>\n",
       "    <tr>\n",
       "      <td>47</td>\n",
       "      <td>3</td>\n",
       "    </tr>\n",
       "    <tr>\n",
       "      <td>48</td>\n",
       "      <td>0</td>\n",
       "    </tr>\n",
       "    <tr>\n",
       "      <td>49</td>\n",
       "      <td>3</td>\n",
       "    </tr>\n",
       "  </tbody>\n",
       "</table>\n",
       "</div>"
      ],
      "text/plain": [
       "    ClusterLabel\n",
       "0              3\n",
       "1              2\n",
       "2              2\n",
       "3              2\n",
       "4              3\n",
       "5              2\n",
       "6              0\n",
       "7              1\n",
       "8              1\n",
       "9              0\n",
       "10             1\n",
       "11             2\n",
       "12             3\n",
       "13             1\n",
       "14             0\n",
       "15             3\n",
       "16             1\n",
       "17             0\n",
       "18             2\n",
       "19             3\n",
       "20             2\n",
       "21             0\n",
       "22             3\n",
       "23             1\n",
       "24             0\n",
       "25             3\n",
       "26             2\n",
       "27             1\n",
       "28             3\n",
       "29             2\n",
       "30             1\n",
       "31             0\n",
       "32             3\n",
       "33             2\n",
       "34             1\n",
       "35             2\n",
       "36             0\n",
       "37             0\n",
       "38             0\n",
       "39             2\n",
       "40             2\n",
       "41             0\n",
       "42             0\n",
       "43             3\n",
       "44             0\n",
       "45             0\n",
       "46             0\n",
       "47             3\n",
       "48             0\n",
       "49             3"
      ]
     },
     "execution_count": 398,
     "metadata": {},
     "output_type": "execute_result"
    }
   ],
   "source": [
    "final_model.fit(Proj_data_df_test)\n",
    "prediction=final_model.predict(Proj_data_df_test)\n",
    "#Append the prediction \n",
    "#Proj_data_df_pca[\"Class\"] = y1\n",
    "Proj_data_df_test[\"ClusterLabel\"] = prediction\n",
    "print(\"Class Assigned : \\n\")\n",
    "Proj_data_df_test[[\"ClusterLabel\"]]"
   ]
  },
  {
   "cell_type": "markdown",
   "metadata": {},
   "source": [
    "#### <span style=\"font-family: Arial; font-weight:bold;font-size:1.5em;color:#00b3e5;\"> Q13.Apply SVC model on train dataset and predict target for test dataset. "
   ]
  },
  {
   "cell_type": "code",
   "execution_count": 399,
   "metadata": {},
   "outputs": [
    {
     "data": {
      "text/plain": [
       "SVC(C=2, cache_size=200, class_weight=None, coef0=0.0,\n",
       "    decision_function_shape='ovr', degree=3, gamma=0.025, kernel='rbf',\n",
       "    max_iter=-1, probability=False, random_state=None, shrinking=True,\n",
       "    tol=0.001, verbose=False)"
      ]
     },
     "execution_count": 399,
     "metadata": {},
     "output_type": "execute_result"
    }
   ],
   "source": [
    "from sklearn import svm\n",
    "clf = svm.SVC(gamma=0.025, C=2)    \n",
    "# gamma is a measure of influence of a data point. It is inverse of distance of influence. C is complexity of the model\n",
    "# lower C value creates simple hyper surface while higher C creates complex surface\n",
    "\n",
    "clf.fit(Proj_data_df_train , y_train)"
   ]
  },
  {
   "cell_type": "code",
   "execution_count": 400,
   "metadata": {},
   "outputs": [],
   "source": [
    "y_pred = clf.predict(Proj_data_df_test)"
   ]
  },
  {
   "cell_type": "code",
   "execution_count": 401,
   "metadata": {},
   "outputs": [],
   "source": [
    "y_train=y_train.reset_index()\n",
    "y_train=y_train.drop('index',axis=1)\n",
    "y_test=y_test.reset_index()\n",
    "y_test=y_test.drop('index',axis=1)"
   ]
  },
  {
   "cell_type": "markdown",
   "metadata": {},
   "source": [
    "##### Training Score"
   ]
  },
  {
   "cell_type": "code",
   "execution_count": 402,
   "metadata": {},
   "outputs": [
    {
     "data": {
      "text/plain": [
       "0.99"
      ]
     },
     "execution_count": 402,
     "metadata": {},
     "output_type": "execute_result"
    }
   ],
   "source": [
    "clf.score(Proj_data_df_train, y_train)"
   ]
  },
  {
   "cell_type": "markdown",
   "metadata": {},
   "source": [
    "##### Testing Score"
   ]
  },
  {
   "cell_type": "code",
   "execution_count": 403,
   "metadata": {},
   "outputs": [
    {
     "data": {
      "text/plain": [
       "0.98"
      ]
     },
     "execution_count": 403,
     "metadata": {},
     "output_type": "execute_result"
    }
   ],
   "source": [
    "clf.score(Proj_data_df_test, y_test)"
   ]
  },
  {
   "cell_type": "markdown",
   "metadata": {},
   "source": [
    "#### <span style=\"font-family: Arial; font-weight:bold;font-size:1.5em;color:#00b3e5;\"> Q14.Check accuracy and confusion matrix. "
   ]
  },
  {
   "cell_type": "code",
   "execution_count": 404,
   "metadata": {},
   "outputs": [],
   "source": [
    "def getAccuracy(testSet, predictions):\n",
    "    correct = 0\n",
    "    for x in range(len(testSet)):\n",
    "        if testSet['Class'][x]== predictions[x]:\n",
    "            correct += 1\n",
    "    return (correct/float(len(testSet))) * 100.0"
   ]
  },
  {
   "cell_type": "markdown",
   "metadata": {},
   "source": [
    "##### Accuracy:"
   ]
  },
  {
   "cell_type": "code",
   "execution_count": 405,
   "metadata": {},
   "outputs": [
    {
     "data": {
      "text/plain": [
       "98.0"
      ]
     },
     "execution_count": 405,
     "metadata": {},
     "output_type": "execute_result"
    }
   ],
   "source": [
    "getAccuracy(y_test , y_pred)"
   ]
  },
  {
   "cell_type": "markdown",
   "metadata": {},
   "source": [
    "##### Confusion Matrix:"
   ]
  },
  {
   "cell_type": "code",
   "execution_count": 406,
   "metadata": {},
   "outputs": [
    {
     "data": {
      "text/plain": [
       "<Figure size 640x480 with 0 Axes>"
      ]
     },
     "metadata": {},
     "output_type": "display_data"
    },
    {
     "data": {
      "image/png": "[encoded data removed]",
      "text/plain": [
       "<Figure size 400x400 with 1 Axes>"
      ]
     },
     "metadata": {},
     "output_type": "display_data"
    }
   ],
   "source": [
    "from sklearn.metrics import confusion_matrix\n",
    "cm = confusion_matrix(y_test, y_pred)\n",
    "plt.clf()\n",
    "plt.figure(figsize=(5,5))\n",
    "plt.imshow(cm, interpolation='nearest', cmap=plt.cm.Wistia)\n",
    "classNames = ['Non-Bankruptcy','Bankruptcy']\n",
    "plt.ylabel('Actual label')\n",
    "plt.xlabel('Predicted label')\n",
    "tick_marks = np.arange(len(classNames))\n",
    "plt.xticks(tick_marks, classNames, rotation=45)\n",
    "plt.yticks(tick_marks, classNames)\n",
    "\n",
    "s = [['G1', 'G2'], ['G1','G2']]\n",
    "for i in range(2):\n",
    "    for j in range(2):\n",
    "        plt.text(j,i, str(s[i][j])+\"=\"+str(cm[i][j]))\n",
    "plt.show()"
   ]
  }
 ],
 "metadata": {
  "kernelspec": {
   "display_name": "Python 3",
   "language": "python",
   "name": "python3"
  },
  "language_info": {
   "codemirror_mode": {
    "name": "ipython",
    "version": 3
   },
   "file_extension": ".py",
   "mimetype": "text/x-python",
   "name": "python",
   "nbconvert_exporter": "python",
   "pygments_lexer": "ipython3",
   "version": "3.7.4"
  }
 },
 "nbformat": 4,
 "nbformat_minor": 2
}
