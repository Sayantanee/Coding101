{
 "cells": [
  {
   "cell_type": "code",
   "execution_count": 1,
   "metadata": {
    "colab": {
     "base_uri": "https://localhost:8080/"
    },
    "id": "B33cT7Ze0EQ_",
    "outputId": "57ec03f2-8872-4363-de04-efc08be4d57d"
   },
   "outputs": [
    {
     "name": "stdout",
     "output_type": "stream",
     "text": [
      "Mounted at /content/drive/\n"
     ]
    }
   ],
   "source": [
    "from google.colab import drive\n",
    "drive.mount('/content/drive/')"
   ]
  },
  {
   "cell_type": "code",
   "execution_count": 2,
   "metadata": {
    "id": "Lmq-4ethzPS8"
   },
   "outputs": [],
   "source": [
    "import pandas as pd\n",
    "import numpy as np\n",
    "import matplotlib.pyplot as plt\n",
    "import seaborn as sns\n",
    "import os\n",
    "import json\n",
    "%matplotlib inline"
   ]
  },
  {
   "cell_type": "code",
   "execution_count": 3,
   "metadata": {
    "colab": {
     "base_uri": "https://localhost:8080/"
    },
    "id": "O6NAXPQwzP7e",
    "outputId": "11ffe2f9-faf3-48c6-d551-d399d33356aa"
   },
   "outputs": [
    {
     "name": "stdout",
     "output_type": "stream",
     "text": [
      "Current working directory /content/drive/MyDrive\n"
     ]
    }
   ],
   "source": [
    "path='/content/drive/MyDrive/'\n",
    "os.chdir(path)\n",
    "retval = os.getcwd()\n",
    "print (\"Current working directory %s\" % retval)"
   ]
  },
  {
   "cell_type": "markdown",
   "metadata": {
    "id": "05LjCREG7vs1"
   },
   "source": [
    "### <font color='green'> Read and explore the data </font>"
   ]
  },
  {
   "cell_type": "markdown",
   "metadata": {
    "id": "UA4L1q9D7vs1"
   },
   "source": [
    "Past studies in Sarcasm Detection mostly make use of Twitter datasets collected using   hashtag   based   supervision   but   such   datasets   are   noisy   in   terms   of   labels   and language.  Furthermore,  many  tweets  are  replies  to  other  tweets  and  detecting  sarcasm  in these  requires  the  availability  of  contextual  tweets.In  this  hands-on  project,  the  goal  is  to build a model to detect whether a sentence is sarcastic or not, using Bidirectional LSTMs\n",
    "\n",
    "To overcome the limitations related to noise in Twitter datasets, this News Headlines dataset for Sarcasm Detection is collected from two news website. TheOnion aims at producing sarcastic versions of current events and we collected all the headlines from News in Brief and News in Photos categories (which are sarcastic). We collect real (and non-sarcastic) news headlines from HuffPost.\n",
    "\n",
    "**This new dataset has following advantages over the existing Twitter datasets:**\n",
    "\n",
    "· Since news headlines are written by professionals in a formal manner, there are no spelling mistakes and informal usage. This reduces the sparsity and also increases the chance of finding pre-trained embeddings.\n",
    "\n",
    "· Furthermore, since the sole purpose of TheOnion is to publish sarcastic news, we get high-quality labels with much less noise as compared to Twitter datasets.\n",
    "\n",
    "· Unlike tweets which are replies to other tweets, the news headlines we obtained are self-contained. This would help us in teasing apart the real sarcastic elements."
   ]
  },
  {
   "cell_type": "code",
   "execution_count": 4,
   "metadata": {
    "colab": {
     "base_uri": "https://localhost:8080/",
     "height": 363
    },
    "id": "t2-ADePZzTGz",
    "outputId": "81e351a6-9a3e-4a95-a6d6-3a703503ebc1"
   },
   "outputs": [
    {
     "data": {
      "text/html": [
       "<div>\n",
       "<style scoped>\n",
       "    .dataframe tbody tr th:only-of-type {\n",
       "        vertical-align: middle;\n",
       "    }\n",
       "\n",
       "    .dataframe tbody tr th {\n",
       "        vertical-align: top;\n",
       "    }\n",
       "\n",
       "    .dataframe thead th {\n",
       "        text-align: right;\n",
       "    }\n",
       "</style>\n",
       "<table border=\"1\" class=\"dataframe\">\n",
       "  <thead>\n",
       "    <tr style=\"text-align: right;\">\n",
       "      <th></th>\n",
       "      <th>is_sarcastic</th>\n",
       "      <th>headline</th>\n",
       "      <th>article_link</th>\n",
       "    </tr>\n",
       "  </thead>\n",
       "  <tbody>\n",
       "    <tr>\n",
       "      <th>0</th>\n",
       "      <td>1</td>\n",
       "      <td>thirtysomething scientists unveil doomsday clo...</td>\n",
       "      <td>https://www.theonion.com/thirtysomething-scien...</td>\n",
       "    </tr>\n",
       "    <tr>\n",
       "      <th>1</th>\n",
       "      <td>0</td>\n",
       "      <td>dem rep. totally nails why congress is falling...</td>\n",
       "      <td>https://www.huffingtonpost.com/entry/donna-edw...</td>\n",
       "    </tr>\n",
       "    <tr>\n",
       "      <th>2</th>\n",
       "      <td>0</td>\n",
       "      <td>eat your veggies: 9 deliciously different recipes</td>\n",
       "      <td>https://www.huffingtonpost.com/entry/eat-your-...</td>\n",
       "    </tr>\n",
       "    <tr>\n",
       "      <th>3</th>\n",
       "      <td>1</td>\n",
       "      <td>inclement weather prevents liar from getting t...</td>\n",
       "      <td>https://local.theonion.com/inclement-weather-p...</td>\n",
       "    </tr>\n",
       "    <tr>\n",
       "      <th>4</th>\n",
       "      <td>1</td>\n",
       "      <td>mother comes pretty close to using word 'strea...</td>\n",
       "      <td>https://www.theonion.com/mother-comes-pretty-c...</td>\n",
       "    </tr>\n",
       "    <tr>\n",
       "      <th>5</th>\n",
       "      <td>0</td>\n",
       "      <td>my white inheritance</td>\n",
       "      <td>https://www.huffingtonpost.com/entry/my-white-...</td>\n",
       "    </tr>\n",
       "    <tr>\n",
       "      <th>6</th>\n",
       "      <td>0</td>\n",
       "      <td>5 ways to file your taxes with less stress</td>\n",
       "      <td>https://www.huffingtonpost.com/entry/5-ways-to...</td>\n",
       "    </tr>\n",
       "    <tr>\n",
       "      <th>7</th>\n",
       "      <td>1</td>\n",
       "      <td>richard branson's global-warming donation near...</td>\n",
       "      <td>https://www.theonion.com/richard-bransons-glob...</td>\n",
       "    </tr>\n",
       "    <tr>\n",
       "      <th>8</th>\n",
       "      <td>1</td>\n",
       "      <td>shadow government getting too large to meet in...</td>\n",
       "      <td>https://politics.theonion.com/shadow-governmen...</td>\n",
       "    </tr>\n",
       "    <tr>\n",
       "      <th>9</th>\n",
       "      <td>0</td>\n",
       "      <td>lots of parents know this scenario</td>\n",
       "      <td>https://www.huffingtonpost.comhttp://pubx.co/6...</td>\n",
       "    </tr>\n",
       "  </tbody>\n",
       "</table>\n",
       "</div>"
      ],
      "text/plain": [
       "   is_sarcastic  ...                                       article_link\n",
       "0             1  ...  https://www.theonion.com/thirtysomething-scien...\n",
       "1             0  ...  https://www.huffingtonpost.com/entry/donna-edw...\n",
       "2             0  ...  https://www.huffingtonpost.com/entry/eat-your-...\n",
       "3             1  ...  https://local.theonion.com/inclement-weather-p...\n",
       "4             1  ...  https://www.theonion.com/mother-comes-pretty-c...\n",
       "5             0  ...  https://www.huffingtonpost.com/entry/my-white-...\n",
       "6             0  ...  https://www.huffingtonpost.com/entry/5-ways-to...\n",
       "7             1  ...  https://www.theonion.com/richard-bransons-glob...\n",
       "8             1  ...  https://politics.theonion.com/shadow-governmen...\n",
       "9             0  ...  https://www.huffingtonpost.comhttp://pubx.co/6...\n",
       "\n",
       "[10 rows x 3 columns]"
      ]
     },
     "execution_count": 4,
     "metadata": {
      "tags": []
     },
     "output_type": "execute_result"
    }
   ],
   "source": [
    "data = pd.DataFrame([json.loads(line) for line in open('Sarcasm_Headlines_Dataset.json', 'r')])\n",
    "data.head(10)"
   ]
  },
  {
   "cell_type": "markdown",
   "metadata": {
    "id": "j40Rtnso7vs3"
   },
   "source": [
    "The dataset has three columns:\n",
    "\n",
    "1. \"Headline\" with the actual text, that needs to analyzed.\n",
    "\n",
    "2. \"Article Link\" with the source URL. This can be discarded during the model building process.\n",
    "\n",
    "3. \"is_sarcastic\" with the classification details, where 1 means Sarcastic and 0 means non sarcastic"
   ]
  },
  {
   "cell_type": "code",
   "execution_count": 5,
   "metadata": {
    "colab": {
     "base_uri": "https://localhost:8080/"
    },
    "id": "cs84k7nH0L7r",
    "outputId": "e60d52f6-dca7-4e5a-c758-56bbbae75803"
   },
   "outputs": [
    {
     "name": "stdout",
     "output_type": "stream",
     "text": [
      "<class 'pandas.core.frame.DataFrame'>\n",
      "RangeIndex: 28619 entries, 0 to 28618\n",
      "Data columns (total 3 columns):\n",
      " #   Column        Non-Null Count  Dtype \n",
      "---  ------        --------------  ----- \n",
      " 0   is_sarcastic  28619 non-null  int64 \n",
      " 1   headline      28619 non-null  object\n",
      " 2   article_link  28619 non-null  object\n",
      "dtypes: int64(1), object(2)\n",
      "memory usage: 670.9+ KB\n"
     ]
    }
   ],
   "source": [
    "data.info()"
   ]
  },
  {
   "cell_type": "markdown",
   "metadata": {
    "id": "0mRFbE7s7vs5"
   },
   "source": [
    "### <font color='green'> Checking Data Balance between the classes </font>"
   ]
  },
  {
   "cell_type": "code",
   "execution_count": 6,
   "metadata": {
    "colab": {
     "base_uri": "https://localhost:8080/",
     "height": 267
    },
    "id": "i-EACMyU0Qt5",
    "outputId": "53a68c98-87d3-43ad-d6fc-a9f9e7c68113"
   },
   "outputs": [
    {
     "data": {
      "text/plain": [
       "<matplotlib.axes._subplots.AxesSubplot at 0x7f1d014edd50>"
      ]
     },
     "execution_count": 6,
     "metadata": {
      "tags": []
     },
     "output_type": "execute_result"
    },
    {
     "data": {
      "image/png": "[encoded data removed]",
      "text/plain": [
       "<Figure size 432x288 with 1 Axes>"
      ]
     },
     "metadata": {
      "tags": []
     },
     "output_type": "display_data"
    }
   ],
   "source": [
    "data['is_sarcastic'].value_counts().plot(kind='pie')"
   ]
  },
  {
   "cell_type": "markdown",
   "metadata": {
    "id": "7oaPo_DK7vs6"
   },
   "source": [
    "### <font color='green'> Retain relevant columns - Drop column \"article_link\" </font>"
   ]
  },
  {
   "cell_type": "code",
   "execution_count": 7,
   "metadata": {
    "id": "JJAxUHev0Spk"
   },
   "outputs": [],
   "source": [
    "data.drop(['article_link'],inplace=True,axis=1)"
   ]
  },
  {
   "cell_type": "code",
   "execution_count": 8,
   "metadata": {
    "colab": {
     "base_uri": "https://localhost:8080/",
     "height": 363
    },
    "id": "uV8ky9P-0VSm",
    "outputId": "1a7ec618-8352-4e04-f1c2-63e20f2feb77"
   },
   "outputs": [
    {
     "data": {
      "text/html": [
       "<div>\n",
       "<style scoped>\n",
       "    .dataframe tbody tr th:only-of-type {\n",
       "        vertical-align: middle;\n",
       "    }\n",
       "\n",
       "    .dataframe tbody tr th {\n",
       "        vertical-align: top;\n",
       "    }\n",
       "\n",
       "    .dataframe thead th {\n",
       "        text-align: right;\n",
       "    }\n",
       "</style>\n",
       "<table border=\"1\" class=\"dataframe\">\n",
       "  <thead>\n",
       "    <tr style=\"text-align: right;\">\n",
       "      <th></th>\n",
       "      <th>is_sarcastic</th>\n",
       "      <th>headline</th>\n",
       "    </tr>\n",
       "  </thead>\n",
       "  <tbody>\n",
       "    <tr>\n",
       "      <th>0</th>\n",
       "      <td>1</td>\n",
       "      <td>thirtysomething scientists unveil doomsday clo...</td>\n",
       "    </tr>\n",
       "    <tr>\n",
       "      <th>1</th>\n",
       "      <td>0</td>\n",
       "      <td>dem rep. totally nails why congress is falling...</td>\n",
       "    </tr>\n",
       "    <tr>\n",
       "      <th>2</th>\n",
       "      <td>0</td>\n",
       "      <td>eat your veggies: 9 deliciously different recipes</td>\n",
       "    </tr>\n",
       "    <tr>\n",
       "      <th>3</th>\n",
       "      <td>1</td>\n",
       "      <td>inclement weather prevents liar from getting t...</td>\n",
       "    </tr>\n",
       "    <tr>\n",
       "      <th>4</th>\n",
       "      <td>1</td>\n",
       "      <td>mother comes pretty close to using word 'strea...</td>\n",
       "    </tr>\n",
       "    <tr>\n",
       "      <th>5</th>\n",
       "      <td>0</td>\n",
       "      <td>my white inheritance</td>\n",
       "    </tr>\n",
       "    <tr>\n",
       "      <th>6</th>\n",
       "      <td>0</td>\n",
       "      <td>5 ways to file your taxes with less stress</td>\n",
       "    </tr>\n",
       "    <tr>\n",
       "      <th>7</th>\n",
       "      <td>1</td>\n",
       "      <td>richard branson's global-warming donation near...</td>\n",
       "    </tr>\n",
       "    <tr>\n",
       "      <th>8</th>\n",
       "      <td>1</td>\n",
       "      <td>shadow government getting too large to meet in...</td>\n",
       "    </tr>\n",
       "    <tr>\n",
       "      <th>9</th>\n",
       "      <td>0</td>\n",
       "      <td>lots of parents know this scenario</td>\n",
       "    </tr>\n",
       "  </tbody>\n",
       "</table>\n",
       "</div>"
      ],
      "text/plain": [
       "   is_sarcastic                                           headline\n",
       "0             1  thirtysomething scientists unveil doomsday clo...\n",
       "1             0  dem rep. totally nails why congress is falling...\n",
       "2             0  eat your veggies: 9 deliciously different recipes\n",
       "3             1  inclement weather prevents liar from getting t...\n",
       "4             1  mother comes pretty close to using word 'strea...\n",
       "5             0                               my white inheritance\n",
       "6             0         5 ways to file your taxes with less stress\n",
       "7             1  richard branson's global-warming donation near...\n",
       "8             1  shadow government getting too large to meet in...\n",
       "9             0                 lots of parents know this scenario"
      ]
     },
     "execution_count": 8,
     "metadata": {
      "tags": []
     },
     "output_type": "execute_result"
    }
   ],
   "source": [
    "data.head(10)"
   ]
  },
  {
   "cell_type": "markdown",
   "metadata": {
    "id": "cavl5Oa17vs7"
   },
   "source": [
    "### <font color='green'> Get length of each sentence - Average length of News headlines</font>"
   ]
  },
  {
   "cell_type": "code",
   "execution_count": 9,
   "metadata": {
    "colab": {
     "base_uri": "https://localhost:8080/"
    },
    "id": "EmNeVdAE0XSR",
    "outputId": "b7c9e102-8bc2-440c-cc60-0d6e0ba499fd"
   },
   "outputs": [
    {
     "name": "stdout",
     "output_type": "stream",
     "text": [
      "Average length of News headlines: 62.30857122890387\n"
     ]
    }
   ],
   "source": [
    "from statistics import mean\n",
    "Average_len = [len(data['headline'][i]) for i in range(0,len(data))]\n",
    "print(\"Average length of News headlines:\",mean(Average_len))"
   ]
  },
  {
   "cell_type": "code",
   "execution_count": 10,
   "metadata": {
    "colab": {
     "base_uri": "https://localhost:8080/",
     "height": 36
    },
    "id": "x9o-tcoH0Yvu",
    "outputId": "a32ba35f-cfb4-4c1b-be63-d76d798afd4b"
   },
   "outputs": [
    {
     "data": {
      "application/vnd.google.colaboratory.intrinsic+json": {
       "type": "string"
      },
      "text/plain": [
       "'report: 70% of trump endorsements made after staring at bedroom ceiling for 4 hours'"
      ]
     },
     "execution_count": 10,
     "metadata": {
      "tags": []
     },
     "output_type": "execute_result"
    }
   ],
   "source": [
    "data['headline'][100]"
   ]
  },
  {
   "cell_type": "markdown",
   "metadata": {
    "id": "g_DNmgkm7vs8"
   },
   "source": [
    "### <font color='green'> Create features and labels</font>"
   ]
  },
  {
   "cell_type": "code",
   "execution_count": 11,
   "metadata": {
    "id": "kPpBn1-q0aIH"
   },
   "outputs": [],
   "source": [
    "from sklearn.model_selection import train_test_split\n",
    "X=data['headline'].values\n",
    "y=data['is_sarcastic'].values\n",
    "X_train, X_test, y_train, y_test = train_test_split(X, y, test_size=0.20, random_state=42,shuffle = True)"
   ]
  },
  {
   "cell_type": "markdown",
   "metadata": {
    "id": "9SvuQJS37vs9"
   },
   "source": [
    "### <font color='green'> Get indices for words </font>"
   ]
  },
  {
   "cell_type": "code",
   "execution_count": 12,
   "metadata": {
    "id": "KnGT3bKT0cFg"
   },
   "outputs": [],
   "source": [
    "from tensorflow.keras.preprocessing.text import Tokenizer\n",
    "from tensorflow.keras.preprocessing.sequence import pad_sequences\n",
    "\n",
    "vocab_size=10000\n",
    "embedding_dim=50\n",
    "max_length=32\n",
    "oov_tok='<oov>'\n",
    "\n",
    "tokenizer= Tokenizer(num_words=vocab_size, oov_token=oov_tok)\n",
    "tokenizer.fit_on_texts(X_train)\n",
    "word_index=tokenizer.word_index\n",
    "X_train_sequences=tokenizer.texts_to_sequences(X_train)\n",
    "X_train_padded=pad_sequences(X_train_sequences, maxlen=max_length, padding='pre', truncating='post')\n",
    "X_test_sequences=tokenizer.texts_to_sequences(X_test)\n",
    "X_test_padded=pad_sequences(X_test_sequences, maxlen=max_length, padding='pre', truncating='post')"
   ]
  },
  {
   "cell_type": "markdown",
   "metadata": {
    "id": "S4lPZeIxIN7D"
   },
   "source": [
    "### <font color='green'> Get vocabulary size </font>"
   ]
  },
  {
   "cell_type": "code",
   "execution_count": 50,
   "metadata": {
    "colab": {
     "base_uri": "https://localhost:8080/"
    },
    "id": "KRVDPXEoH_Mk",
    "outputId": "78ced403-46bd-4f2a-d241-1a94bfdd0424"
   },
   "outputs": [
    {
     "name": "stdout",
     "output_type": "stream",
     "text": [
      "[('how', 676), ('trump', 1118), ('really', 202), ('feels', 50), ('about', 903), ('queer', 42), ('people', 314), ('explained', 6), ('in', 3616), ('one', 449)]\n"
     ]
    }
   ],
   "source": [
    "dict_items = tokenizer.word_counts.items()\n",
    "print(list(dict_items)[:10])"
   ]
  },
  {
   "cell_type": "code",
   "execution_count": 51,
   "metadata": {
    "colab": {
     "base_uri": "https://localhost:8080/"
    },
    "id": "4yXtnfm3MkWc",
    "outputId": "15445573-8911-405e-a539-a1d5a0b0bfff"
   },
   "outputs": [
    {
     "name": "stdout",
     "output_type": "stream",
     "text": [
      "[('<oov>', 1), ('to', 2), ('of', 3), ('the', 4), ('in', 5), ('for', 6), ('a', 7), ('on', 8), ('and', 9), ('with', 10)]\n"
     ]
    }
   ],
   "source": [
    "dict_items = tokenizer.word_index.items()\n",
    "print(list(dict_items)[:10])"
   ]
  },
  {
   "cell_type": "code",
   "execution_count": 28,
   "metadata": {
    "colab": {
     "base_uri": "https://localhost:8080/"
    },
    "id": "jtEOWsbcIE4E",
    "outputId": "c304f178-8cf8-427c-e1fc-c3ef789e076f"
   },
   "outputs": [
    {
     "name": "stdout",
     "output_type": "stream",
     "text": [
      "22895\n"
     ]
    }
   ],
   "source": [
    "print(tokenizer.document_count)"
   ]
  },
  {
   "cell_type": "code",
   "execution_count": 52,
   "metadata": {
    "colab": {
     "base_uri": "https://localhost:8080/"
    },
    "id": "yR4pSqO4IFMJ",
    "outputId": "988c7ded-c533-4948-c773-9825fd0143b7"
   },
   "outputs": [
    {
     "name": "stdout",
     "output_type": "stream",
     "text": [
      "[('trump', 1110), ('really', 200), ('feels', 50), ('people', 312), ('about', 889), ('one', 443), ('how', 672), ('explained', 6), ('sentence', 18), ('in', 3508)]\n"
     ]
    }
   ],
   "source": [
    "dict_items = tokenizer.word_docs.items()\n",
    "print(list(dict_items)[:10])"
   ]
  },
  {
   "cell_type": "markdown",
   "metadata": {
    "id": "GqFoKr0KNWqa"
   },
   "source": [
    "### <font color='green'> Print shapes of Features and Labels after padding </font>"
   ]
  },
  {
   "cell_type": "code",
   "execution_count": 13,
   "metadata": {
    "colab": {
     "base_uri": "https://localhost:8080/"
    },
    "id": "spmxW3u603rv",
    "outputId": "e6751c41-783f-49da-fd77-5a26c4da7840"
   },
   "outputs": [
    {
     "data": {
      "text/plain": [
       "((22895, 32), (5724, 32))"
      ]
     },
     "execution_count": 13,
     "metadata": {
      "tags": []
     },
     "output_type": "execute_result"
    }
   ],
   "source": [
    "X_train_padded.shape,X_test_padded.shape"
   ]
  },
  {
   "cell_type": "code",
   "execution_count": 14,
   "metadata": {
    "colab": {
     "base_uri": "https://localhost:8080/"
    },
    "id": "4jNbAtg60-yi",
    "outputId": "26b96939-f344-4025-b9ae-960fb6d6dff4"
   },
   "outputs": [
    {
     "data": {
      "text/plain": [
       "array([   0,    0,    0,    0,    0,    0,    0,    0,    0,    0,    0,\n",
       "          0,    0,    0,    0,    0,    0,    0,    0,    0,    0,   27,\n",
       "         13,  109,  638,   17,  781,   67, 4774,    5,   43, 1939],\n",
       "      dtype=int32)"
      ]
     },
     "execution_count": 14,
     "metadata": {
      "tags": []
     },
     "output_type": "execute_result"
    }
   ],
   "source": [
    "X_train_padded[0]"
   ]
  },
  {
   "cell_type": "markdown",
   "metadata": {
    "id": "W2gSIbrH7vs-"
   },
   "source": [
    "### <font color='green'> Create a weight matrix using GloVe embeddings </font>"
   ]
  },
  {
   "cell_type": "code",
   "execution_count": 15,
   "metadata": {
    "colab": {
     "base_uri": "https://localhost:8080/"
    },
    "id": "Lqk1Cwwy1Akm",
    "outputId": "30c0eaa8-77d9-4903-99ff-bd8073ebc299"
   },
   "outputs": [
    {
     "name": "stdout",
     "output_type": "stream",
     "text": [
      "[==================================================] 100.0% 66.0/66.0MB downloaded\n"
     ]
    }
   ],
   "source": [
    "import gensim.downloader as api\n",
    "glove_model = api.load('glove-wiki-gigaword-50')\n",
    "embedding_vector_length = glove_model.vector_size"
   ]
  },
  {
   "cell_type": "code",
   "execution_count": 16,
   "metadata": {
    "id": "h4B4Z-_T1GZB"
   },
   "outputs": [],
   "source": [
    "embedding_matrix = np.zeros((vocab_size + 1, embedding_vector_length))\n",
    "\n",
    "for word, i in sorted(word_index.items(),key=lambda x:x[1]):\n",
    "    if i > (vocab_size+1):\n",
    "        break\n",
    "    try:\n",
    "        embedding_vector = glove_model[word] #Reading word's embedding from Glove model for a given word\n",
    "        embedding_matrix[i] = embedding_vector\n",
    "    except:\n",
    "        pass"
   ]
  },
  {
   "cell_type": "code",
   "execution_count": 40,
   "metadata": {
    "colab": {
     "base_uri": "https://localhost:8080/"
    },
    "id": "DoSBTFMuLhEL",
    "outputId": "23e833da-3d99-4a0b-a7de-11462d9d714c"
   },
   "outputs": [
    {
     "data": {
      "text/plain": [
       "(10001, 50)"
      ]
     },
     "execution_count": 40,
     "metadata": {
      "tags": []
     },
     "output_type": "execute_result"
    }
   ],
   "source": [
    "embedding_matrix.shape"
   ]
  },
  {
   "cell_type": "markdown",
   "metadata": {
    "id": "JuyXa0Sm7vs_"
   },
   "source": [
    "### <font color='green'> Define and compile a traditional LSTM model </font>"
   ]
  },
  {
   "cell_type": "markdown",
   "metadata": {
    "id": "B3Av0o2v7vs_"
   },
   "source": [
    "**Please note , I have build a bidirection LSTM model below.**"
   ]
  },
  {
   "cell_type": "code",
   "execution_count": 19,
   "metadata": {
    "colab": {
     "base_uri": "https://localhost:8080/"
    },
    "id": "H0tywnCr1Vo1",
    "outputId": "ee4e2d83-b9f4-482e-8eb3-c77549a90123"
   },
   "outputs": [
    {
     "name": "stdout",
     "output_type": "stream",
     "text": [
      "Model: \"sequential_2\"\n",
      "_________________________________________________________________\n",
      "Layer (type)                 Output Shape              Param #   \n",
      "=================================================================\n",
      "embedding_2 (Embedding)      (None, 32, 50)            500050    \n",
      "_________________________________________________________________\n",
      "lstm_1 (LSTM)                (None, 128)               91648     \n",
      "_________________________________________________________________\n",
      "flatten_2 (Flatten)          (None, 128)               0         \n",
      "_________________________________________________________________\n",
      "dense (Dense)                (None, 100)               12900     \n",
      "_________________________________________________________________\n",
      "dropout (Dropout)            (None, 100)               0         \n",
      "_________________________________________________________________\n",
      "dense_1 (Dense)              (None, 60)                6060      \n",
      "_________________________________________________________________\n",
      "dropout_1 (Dropout)          (None, 60)                0         \n",
      "_________________________________________________________________\n",
      "dense_2 (Dense)              (None, 1)                 61        \n",
      "=================================================================\n",
      "Total params: 610,719\n",
      "Trainable params: 110,669\n",
      "Non-trainable params: 500,050\n",
      "_________________________________________________________________\n"
     ]
    }
   ],
   "source": [
    "import tensorflow as tf\n",
    "from tensorflow.keras.models import Sequential\n",
    "from tensorflow.keras.layers import Dense, Dropout, Embedding, Flatten,LSTM\n",
    "model = Sequential()\n",
    "model.add(Embedding(vocab_size+1, embedding_dim,weights=[embedding_matrix], trainable=False,input_length=max_length))\n",
    "model.add(LSTM(128, dropout=0.2, recurrent_dropout=0.2))\n",
    "model.add(Flatten())\n",
    "model.add(Dense(units=100,activation='relu'))\n",
    "model.add(Dropout(0.5))\n",
    "model.add(Dense(units=60,activation='relu'))\n",
    "model.add(Dropout(0.5))\n",
    "model.add(Dense(units=1,activation='sigmoid'))\n",
    "opt = tf.keras.optimizers.Adam(learning_rate=0.0001)\n",
    "model.compile(loss='binary_crossentropy', optimizer=opt, metrics=['accuracy'])\n",
    "model.summary()"
   ]
  },
  {
   "cell_type": "code",
   "execution_count": 20,
   "metadata": {
    "colab": {
     "base_uri": "https://localhost:8080/"
    },
    "id": "LuDZM-q62LOV",
    "outputId": "f2484dd4-40cc-47b1-90fa-4742d560ad7c"
   },
   "outputs": [
    {
     "name": "stdout",
     "output_type": "stream",
     "text": [
      "Epoch 1/20\n",
      "716/716 [==============================] - 55s 72ms/step - loss: 0.6106 - accuracy: 0.6651 - val_loss: 0.5014 - val_accuracy: 0.7500\n",
      "Epoch 2/20\n",
      "716/716 [==============================] - 51s 71ms/step - loss: 0.4932 - accuracy: 0.7677 - val_loss: 0.4259 - val_accuracy: 0.7918\n",
      "Epoch 3/20\n",
      "716/716 [==============================] - 51s 71ms/step - loss: 0.4319 - accuracy: 0.8048 - val_loss: 0.3950 - val_accuracy: 0.8174\n",
      "Epoch 4/20\n",
      "716/716 [==============================] - 51s 72ms/step - loss: 0.3953 - accuracy: 0.8228 - val_loss: 0.3934 - val_accuracy: 0.8220\n",
      "Epoch 5/20\n",
      "716/716 [==============================] - 51s 71ms/step - loss: 0.3727 - accuracy: 0.8326 - val_loss: 0.3628 - val_accuracy: 0.8361\n",
      "Epoch 6/20\n",
      "716/716 [==============================] - 51s 71ms/step - loss: 0.3583 - accuracy: 0.8425 - val_loss: 0.3508 - val_accuracy: 0.8367\n",
      "Epoch 7/20\n",
      "716/716 [==============================] - 51s 71ms/step - loss: 0.3345 - accuracy: 0.8522 - val_loss: 0.3410 - val_accuracy: 0.8457\n",
      "Epoch 8/20\n",
      "716/716 [==============================] - 50s 70ms/step - loss: 0.3179 - accuracy: 0.8625 - val_loss: 0.3435 - val_accuracy: 0.8435\n",
      "Epoch 9/20\n",
      "716/716 [==============================] - 51s 71ms/step - loss: 0.3065 - accuracy: 0.8688 - val_loss: 0.3434 - val_accuracy: 0.8463\n",
      "Epoch 10/20\n",
      "716/716 [==============================] - 51s 71ms/step - loss: 0.2913 - accuracy: 0.8736 - val_loss: 0.3364 - val_accuracy: 0.8489\n",
      "Epoch 11/20\n",
      "716/716 [==============================] - 51s 71ms/step - loss: 0.2778 - accuracy: 0.8815 - val_loss: 0.3272 - val_accuracy: 0.8550\n",
      "Epoch 12/20\n",
      "716/716 [==============================] - 51s 71ms/step - loss: 0.2640 - accuracy: 0.8904 - val_loss: 0.3342 - val_accuracy: 0.8506\n",
      "Epoch 13/20\n",
      "716/716 [==============================] - 51s 71ms/step - loss: 0.2464 - accuracy: 0.8991 - val_loss: 0.3339 - val_accuracy: 0.8550\n",
      "Epoch 14/20\n",
      "716/716 [==============================] - 51s 71ms/step - loss: 0.2437 - accuracy: 0.8972 - val_loss: 0.3469 - val_accuracy: 0.8555\n",
      "Epoch 15/20\n",
      "716/716 [==============================] - 51s 71ms/step - loss: 0.2287 - accuracy: 0.9037 - val_loss: 0.3715 - val_accuracy: 0.8548\n",
      "Epoch 16/20\n",
      "716/716 [==============================] - 51s 71ms/step - loss: 0.2192 - accuracy: 0.9080 - val_loss: 0.3771 - val_accuracy: 0.8522\n",
      "Epoch 17/20\n",
      "716/716 [==============================] - 51s 72ms/step - loss: 0.2111 - accuracy: 0.9147 - val_loss: 0.3763 - val_accuracy: 0.8531\n",
      "Epoch 18/20\n",
      "716/716 [==============================] - 51s 71ms/step - loss: 0.2043 - accuracy: 0.9161 - val_loss: 0.3733 - val_accuracy: 0.8526\n",
      "Epoch 19/20\n",
      "716/716 [==============================] - 51s 71ms/step - loss: 0.1922 - accuracy: 0.9216 - val_loss: 0.3943 - val_accuracy: 0.8522\n",
      "Epoch 20/20\n",
      "716/716 [==============================] - 51s 71ms/step - loss: 0.1868 - accuracy: 0.9255 - val_loss: 0.4038 - val_accuracy: 0.8482\n"
     ]
    }
   ],
   "source": [
    "model.compile(loss = 'binary_crossentropy', optimizer='adam',metrics = ['accuracy'])\n",
    "history=model.fit(X_train_padded,y_train,epochs=20,validation_data=(X_test_padded,y_test))"
   ]
  },
  {
   "cell_type": "markdown",
   "metadata": {
    "id": "J0oV816j7vtA"
   },
   "source": [
    "### <font color='green'> Plot Accuracy and Loss </font>"
   ]
  },
  {
   "cell_type": "code",
   "execution_count": 21,
   "metadata": {
    "colab": {
     "base_uri": "https://localhost:8080/",
     "height": 592
    },
    "id": "P2AYDhDt2syD",
    "outputId": "e3afd37f-348a-430c-c89e-105a2cb8e4e6"
   },
   "outputs": [
    {
     "data": {
      "text/plain": [
       "<matplotlib.legend.Legend at 0x7f1cb0357690>"
      ]
     },
     "execution_count": 21,
     "metadata": {
      "tags": []
     },
     "output_type": "execute_result"
    },
    {
     "data": {
      "image/png": "[encoded data removed]",
      "text/plain": [
       "<Figure size 432x288 with 1 Axes>"
      ]
     },
     "metadata": {
      "needs_background": "light",
      "tags": []
     },
     "output_type": "display_data"
    },
    {
     "data": {
      "image/png": "[encoded data removed]",
      "text/plain": [
       "<Figure size 432x288 with 1 Axes>"
      ]
     },
     "metadata": {
      "needs_background": "light",
      "tags": []
     },
     "output_type": "display_data"
    }
   ],
   "source": [
    "plt.figure(0)\n",
    "plt.plot(history.history['accuracy'], label='training accuracy')\n",
    "plt.plot(history.history['val_accuracy'], label='val accuracy')\n",
    "plt.title('Accuracy')\n",
    "plt.xlabel('epochs')\n",
    "plt.ylabel('accuracy')\n",
    "plt.legend()\n",
    "\n",
    "plt.figure(1)\n",
    "plt.plot(history.history['loss'], label='training loss')\n",
    "plt.plot(history.history['val_loss'], label='val loss')\n",
    "plt.title('Loss')\n",
    "plt.xlabel('epochs')\n",
    "plt.ylabel('loss')\n",
    "plt.legend()"
   ]
  },
  {
   "cell_type": "markdown",
   "metadata": {
    "id": "69JjNHwk7vtB"
   },
   "source": [
    "### <font color='green'> Define and compile a Bidirectional LSTM model </font>"
   ]
  },
  {
   "cell_type": "markdown",
   "metadata": {
    "id": "XsqN7zwz7vtB"
   },
   "source": [
    "**Bidirectional LSTMs are an extension of traditional LSTMs that can improve model performance on sequence classification problems. In problems where all timesteps of the input sequence are available, Bidirectional LSTMs train two instead of one LSTMs on the input sequence.**"
   ]
  },
  {
   "cell_type": "code",
   "execution_count": 22,
   "metadata": {
    "id": "kojopOMi4Yr1"
   },
   "outputs": [],
   "source": [
    "import sys, os, re, csv, codecs, numpy as np, pandas as pd\n",
    "\n",
    "from keras.preprocessing.text import Tokenizer\n",
    "from keras.preprocessing.sequence import pad_sequences\n",
    "from keras.layers import Dense, Input, LSTM, Embedding, Dropout, Activation\n",
    "from keras.layers import Bidirectional, GlobalMaxPool1D\n",
    "from keras.models import Model\n",
    "from keras import initializers, regularizers, constraints, optimizers, layers"
   ]
  },
  {
   "cell_type": "code",
   "execution_count": 23,
   "metadata": {
    "colab": {
     "base_uri": "https://localhost:8080/"
    },
    "id": "SIQ1kYx33Iej",
    "outputId": "0346e486-ad43-454e-ad16-6a24fd30e6d0"
   },
   "outputs": [
    {
     "name": "stdout",
     "output_type": "stream",
     "text": [
      "Model: \"model\"\n",
      "_________________________________________________________________\n",
      "Layer (type)                 Output Shape              Param #   \n",
      "=================================================================\n",
      "input_1 (InputLayer)         [(None, 32)]              0         \n",
      "_________________________________________________________________\n",
      "embedding (Embedding)        (None, 32, 50)            500050    \n",
      "_________________________________________________________________\n",
      "bidirectional (Bidirectional (None, 32, 200)           120800    \n",
      "_________________________________________________________________\n",
      "global_max_pooling1d (Global (None, 200)               0         \n",
      "_________________________________________________________________\n",
      "dense (Dense)                (None, 100)               20100     \n",
      "_________________________________________________________________\n",
      "dropout (Dropout)            (None, 100)               0         \n",
      "_________________________________________________________________\n",
      "dense_1 (Dense)              (None, 1)                 101       \n",
      "=================================================================\n",
      "Total params: 641,051\n",
      "Trainable params: 141,001\n",
      "Non-trainable params: 500,050\n",
      "_________________________________________________________________\n"
     ]
    }
   ],
   "source": [
    "inp = Input(shape=(max_length,))\n",
    "x = Embedding(vocab_size+1, embedding_dim, weights=[embedding_matrix],trainable=False)(inp)\n",
    "x = Bidirectional(LSTM(100, return_sequences=True, dropout=0.25, recurrent_dropout=0.1))(x)\n",
    "x = GlobalMaxPool1D()(x)\n",
    "x = Dense(100, activation=\"relu\")(x)\n",
    "x = Dropout(0.25)(x)\n",
    "x = Dense(1, activation=\"sigmoid\")(x)\n",
    "model_bi = Model(inputs=inp, outputs=x)\n",
    "model_bi.compile(loss='binary_crossentropy', optimizer='adam', metrics=['accuracy'])\n",
    "model_bi.summary()"
   ]
  },
  {
   "cell_type": "code",
   "execution_count": 24,
   "metadata": {
    "colab": {
     "base_uri": "https://localhost:8080/"
    },
    "id": "c0XUkqUC4php",
    "outputId": "9dddfe3c-4140-4daa-977e-60474288834f"
   },
   "outputs": [
    {
     "name": "stdout",
     "output_type": "stream",
     "text": [
      "Epoch 1/20\n",
      "716/716 [==============================] - 112s 113ms/step - loss: 0.6042 - accuracy: 0.6564 - val_loss: 0.4228 - val_accuracy: 0.8040\n",
      "Epoch 2/20\n",
      "716/716 [==============================] - 79s 110ms/step - loss: 0.4268 - accuracy: 0.8038 - val_loss: 0.3763 - val_accuracy: 0.8276\n",
      "Epoch 3/20\n",
      "716/716 [==============================] - 79s 110ms/step - loss: 0.3790 - accuracy: 0.8292 - val_loss: 0.3509 - val_accuracy: 0.8447\n",
      "Epoch 4/20\n",
      "716/716 [==============================] - 79s 110ms/step - loss: 0.3460 - accuracy: 0.8479 - val_loss: 0.3485 - val_accuracy: 0.8417\n",
      "Epoch 5/20\n",
      "716/716 [==============================] - 79s 110ms/step - loss: 0.3225 - accuracy: 0.8567 - val_loss: 0.3387 - val_accuracy: 0.8489\n",
      "Epoch 6/20\n",
      "716/716 [==============================] - 79s 110ms/step - loss: 0.3054 - accuracy: 0.8677 - val_loss: 0.3331 - val_accuracy: 0.8541\n",
      "Epoch 7/20\n",
      "716/716 [==============================] - 79s 110ms/step - loss: 0.2862 - accuracy: 0.8787 - val_loss: 0.3515 - val_accuracy: 0.8468\n",
      "Epoch 8/20\n",
      "716/716 [==============================] - 79s 110ms/step - loss: 0.2763 - accuracy: 0.8799 - val_loss: 0.3333 - val_accuracy: 0.8536\n",
      "Epoch 9/20\n",
      "716/716 [==============================] - 79s 110ms/step - loss: 0.2598 - accuracy: 0.8902 - val_loss: 0.3261 - val_accuracy: 0.8590\n",
      "Epoch 10/20\n",
      "716/716 [==============================] - 79s 110ms/step - loss: 0.2537 - accuracy: 0.8933 - val_loss: 0.3540 - val_accuracy: 0.8466\n",
      "Epoch 11/20\n",
      "716/716 [==============================] - 79s 110ms/step - loss: 0.2317 - accuracy: 0.9034 - val_loss: 0.3385 - val_accuracy: 0.8538\n",
      "Epoch 12/20\n",
      "716/716 [==============================] - 79s 110ms/step - loss: 0.2273 - accuracy: 0.9052 - val_loss: 0.3397 - val_accuracy: 0.8562\n",
      "Epoch 13/20\n",
      "716/716 [==============================] - 79s 110ms/step - loss: 0.2058 - accuracy: 0.9152 - val_loss: 0.3440 - val_accuracy: 0.8574\n",
      "Epoch 14/20\n",
      "716/716 [==============================] - 78s 110ms/step - loss: 0.2058 - accuracy: 0.9167 - val_loss: 0.3809 - val_accuracy: 0.8477\n",
      "Epoch 15/20\n",
      "716/716 [==============================] - 78s 109ms/step - loss: 0.2040 - accuracy: 0.9166 - val_loss: 0.3627 - val_accuracy: 0.8562\n",
      "Epoch 16/20\n",
      "716/716 [==============================] - 78s 110ms/step - loss: 0.1959 - accuracy: 0.9183 - val_loss: 0.3408 - val_accuracy: 0.8553\n",
      "Epoch 17/20\n",
      "716/716 [==============================] - 79s 110ms/step - loss: 0.1834 - accuracy: 0.9236 - val_loss: 0.3731 - val_accuracy: 0.8526\n",
      "Epoch 18/20\n",
      "716/716 [==============================] - 79s 110ms/step - loss: 0.1748 - accuracy: 0.9280 - val_loss: 0.3591 - val_accuracy: 0.8552\n",
      "Epoch 19/20\n",
      "716/716 [==============================] - 79s 110ms/step - loss: 0.1754 - accuracy: 0.9283 - val_loss: 0.3689 - val_accuracy: 0.8601\n",
      "Epoch 20/20\n",
      "716/716 [==============================] - 79s 110ms/step - loss: 0.1652 - accuracy: 0.9326 - val_loss: 0.3663 - val_accuracy: 0.8632\n"
     ]
    }
   ],
   "source": [
    "history_bi=model_bi.fit(X_train_padded,y_train,epochs=20,validation_data=(X_test_padded,y_test))"
   ]
  },
  {
   "cell_type": "markdown",
   "metadata": {
    "id": "UQM7qwZf7vtC"
   },
   "source": [
    "### <font color='green'> Plot Accuracy and Loss for the Bidirectional LSTM Model </font>"
   ]
  },
  {
   "cell_type": "code",
   "execution_count": 37,
   "metadata": {
    "colab": {
     "base_uri": "https://localhost:8080/",
     "height": 592
    },
    "id": "MB7yUn5Y42G-",
    "outputId": "4ab4a3fe-5279-43aa-d91b-93a45cab1476"
   },
   "outputs": [
    {
     "data": {
      "text/plain": [
       "<matplotlib.legend.Legend at 0x7f1cae47ae10>"
      ]
     },
     "execution_count": 37,
     "metadata": {
      "tags": []
     },
     "output_type": "execute_result"
    },
    {
     "data": {
      "image/png": "[encoded data removed]",
      "text/plain": [
       "<Figure size 432x288 with 1 Axes>"
      ]
     },
     "metadata": {
      "needs_background": "light",
      "tags": []
     },
     "output_type": "display_data"
    },
    {
     "data": {
      "image/png": "[encoded data removed]",
      "text/plain": [
       "<Figure size 432x288 with 1 Axes>"
      ]
     },
     "metadata": {
      "needs_background": "light",
      "tags": []
     },
     "output_type": "display_data"
    }
   ],
   "source": [
    "plt.figure(0)\n",
    "plt.plot(history_bi.history['accuracy'], label='training accuracy')\n",
    "plt.plot(history_bi.history['val_accuracy'], label='val accuracy')\n",
    "plt.title('Accuracy')\n",
    "plt.xlabel('epochs')\n",
    "plt.ylabel('accuracy')\n",
    "plt.legend()\n",
    "\n",
    "plt.figure(1)\n",
    "plt.plot(history_bi.history['loss'], label='training loss')\n",
    "plt.plot(history_bi.history['val_loss'], label='val loss')\n",
    "plt.title('Loss')\n",
    "plt.xlabel('epochs')\n",
    "plt.ylabel('loss')\n",
    "plt.legend()"
   ]
  },
  {
   "cell_type": "markdown",
   "metadata": {
    "id": "ZZnbCu7kXKBp"
   },
   "source": [
    "### <font color='green'> Confusion Matrix for Bidirectional LSTM </font>"
   ]
  },
  {
   "cell_type": "code",
   "execution_count": 63,
   "metadata": {
    "colab": {
     "base_uri": "https://localhost:8080/"
    },
    "id": "JCK8qvZ3WKUp",
    "outputId": "02fa196f-8bba-4b7c-c622-26288f629987"
   },
   "outputs": [
    {
     "data": {
      "text/plain": [
       "array([[2589,  406],\n",
       "       [ 377, 2352]])"
      ]
     },
     "execution_count": 63,
     "metadata": {
      "tags": []
     },
     "output_type": "execute_result"
    }
   ],
   "source": [
    "from sklearn.metrics import confusion_matrix\n",
    "y_pred_=model_bi.predict(X_test_padded)\n",
    "y_pred=[]\n",
    "\n",
    "for prob in y_pred_:\n",
    "    if prob > 0.5:\n",
    "        y_pred.append(1)\n",
    "    else:\n",
    "        y_pred.append(0)\n",
    "confusion_matrix(y_test,y_pred)"
   ]
  },
  {
   "cell_type": "markdown",
   "metadata": {
    "id": "m1qcBhTYWoRk"
   },
   "source": [
    "### <font color='green'> Confusion Matrix for Unidirectional LSTM </font>"
   ]
  },
  {
   "cell_type": "code",
   "execution_count": 64,
   "metadata": {
    "colab": {
     "base_uri": "https://localhost:8080/"
    },
    "id": "eCKYuYAAWoua",
    "outputId": "6ad8176f-1638-4834-a783-fbea671001eb"
   },
   "outputs": [
    {
     "data": {
      "text/plain": [
       "array([[2678,  317],\n",
       "       [ 552, 2177]])"
      ]
     },
     "execution_count": 64,
     "metadata": {
      "tags": []
     },
     "output_type": "execute_result"
    }
   ],
   "source": [
    "from sklearn.metrics import confusion_matrix\n",
    "y_pred_=model.predict(X_test_padded)\n",
    "y_pred=[]\n",
    "\n",
    "for prob in y_pred_:\n",
    "    if prob > 0.5:\n",
    "        y_pred.append(1)\n",
    "    else:\n",
    "        y_pred.append(0)\n",
    "confusion_matrix(y_test,y_pred)"
   ]
  },
  {
   "cell_type": "markdown",
   "metadata": {
    "id": "m_8hTlhO7vtD"
   },
   "source": [
    "### <font color='green'> Conclusion </font>"
   ]
  },
  {
   "cell_type": "markdown",
   "metadata": {
    "id": "w3XFqk3B7vtD"
   },
   "source": [
    "1. Since bidirectional LSTM runs the inputs in two ways, one from past to future and one from future to past, hence the Bi-LSTM using the two hidden states combined is able in any point in time to preserve information from both past and future. This can significantly improve erformance. \n",
    "\n",
    "2. In the above two models with Traditional LSTM and Bi-LSTM, I see slight improvements in both Training and Validation Accuracies. \n"
   ]
  }
 ],
 "metadata": {
  "colab": {
   "collapsed_sections": [],
   "name": "Sequence_NLP_Project 2.ipynb",
   "provenance": []
  },
  "kernelspec": {
   "display_name": "Python 3",
   "language": "python",
   "name": "python3"
  },
  "language_info": {
   "codemirror_mode": {
    "name": "ipython",
    "version": 3
   },
   "file_extension": ".py",
   "mimetype": "text/x-python",
   "name": "python",
   "nbconvert_exporter": "python",
   "pygments_lexer": "ipython3",
   "version": "3.7.4"
  }
 },
 "nbformat": 4,
 "nbformat_minor": 1
}
