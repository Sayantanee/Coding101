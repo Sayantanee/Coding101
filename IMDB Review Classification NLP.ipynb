{
  "nbformat": 4,
  "nbformat_minor": 0,
  "metadata": {
    "colab": {
      "name": "Untitled12.ipynb",
      "provenance": [],
      "collapsed_sections": []
    },
    "kernelspec": {
      "display_name": "Python 3",
      "language": "python",
      "name": "python3"
    },
    "language_info": {
      "codemirror_mode": {
        "name": "ipython",
        "version": 3
      },
      "file_extension": ".py",
      "mimetype": "text/x-python",
      "name": "python",
      "nbconvert_exporter": "python",
      "pygments_lexer": "ipython3",
      "version": "3.7.4"
    }
  },
  "cells": [
    {
      "cell_type": "markdown",
      "metadata": {
        "id": "gBwlX89Bck9G"
      },
      "source": [
        "## <font color='green'> Digital content and entertainment industry </font>"
      ]
    },
    {
      "cell_type": "code",
      "metadata": {
        "id": "5gyMFdKKSw4F"
      },
      "source": [
        "import numpy as np\n",
        "import pandas as pd\n",
        "\n",
        "%matplotlib inline\n",
        "import matplotlib.pyplot as plt\n",
        "\n",
        "from tensorflow.keras.models import Sequential\n",
        "from tensorflow.keras.layers import Dense, Embedding, LSTM,Flatten,Dropout\n",
        "from tensorflow.keras.utils import to_categorical\n",
        "from tensorflow.keras.preprocessing import sequence\n",
        "from tensorflow.keras.datasets import imdb\n"
      ],
      "execution_count": 82,
      "outputs": []
    },
    {
      "cell_type": "markdown",
      "metadata": {
        "id": "JRVEJ_cHSw4G"
      },
      "source": [
        "### <font color='green'>Import and analyse the data set </font>"
      ]
    },
    {
      "cell_type": "markdown",
      "metadata": {
        "id": "UY5EvmCKSw4H"
      },
      "source": [
        "The  Dataset  of  50,000  movie  reviews  from  IMDB,  labelled  by sentiment  (positive/negative).  Reviews  have  been  preprocessed,  and  each  review  is encoded  as  a  sequence  of  word  indexes  (integers).  For  convenience,  the  words  are indexed  by  their  frequency  in  the  dataset,  meaning  the  for  that  has  index  1  is  the most  frequent  word.  Use  the first  20  words  from  each  review  to  speed  up  training, using  a  max  vocabulary  size  of  10,000.  As  a  convention,  \"0\"  does  not  stand  for  a specific word, but instead is used to encode any unknown word"
      ]
    },
    {
      "cell_type": "markdown",
      "metadata": {
        "id": "l-zpgWQ_Sw4I"
      },
      "source": [
        "**_num_words=10000:**\n",
        "***Words are ranked by how often they occur (in the training set) and only the num_words most frequent words are kept.***"
      ]
    },
    {
      "cell_type": "code",
      "metadata": {
        "colab": {
          "base_uri": "https://localhost:8080/"
        },
        "id": "yPbgOE9KYdYp",
        "outputId": "aa8b64e2-5c0f-4163-f5ef-1bd782218b29"
      },
      "source": [
        "_num_words=10000\n",
        "(X_train,y_train),(X_test,y_test) =imdb.load_data(num_words=_num_words)"
      ],
      "execution_count": 83,
      "outputs": [
        {
          "output_type": "stream",
          "text": [
            "<string>:6: VisibleDeprecationWarning: Creating an ndarray from ragged nested sequences (which is a list-or-tuple of lists-or-tuples-or ndarrays with different lengths or shapes) is deprecated. If you meant to do this, you must specify 'dtype=object' when creating the ndarray\n",
            "/usr/local/lib/python3.7/dist-packages/tensorflow/python/keras/datasets/imdb.py:155: VisibleDeprecationWarning: Creating an ndarray from ragged nested sequences (which is a list-or-tuple of lists-or-tuples-or ndarrays with different lengths or shapes) is deprecated. If you meant to do this, you must specify 'dtype=object' when creating the ndarray\n",
            "  x_train, y_train = np.array(xs[:idx]), np.array(labels[:idx])\n",
            "/usr/local/lib/python3.7/dist-packages/tensorflow/python/keras/datasets/imdb.py:156: VisibleDeprecationWarning: Creating an ndarray from ragged nested sequences (which is a list-or-tuple of lists-or-tuples-or ndarrays with different lengths or shapes) is deprecated. If you meant to do this, you must specify 'dtype=object' when creating the ndarray\n",
            "  x_test, y_test = np.array(xs[idx:]), np.array(labels[idx:])\n"
          ],
          "name": "stderr"
        }
      ]
    },
    {
      "cell_type": "code",
      "metadata": {
        "colab": {
          "base_uri": "https://localhost:8080/"
        },
        "id": "TTjx9dufc7w8",
        "outputId": "b7e17bf9-caeb-473b-c23b-105700f9ee45"
      },
      "source": [
        "len(X_test)"
      ],
      "execution_count": 84,
      "outputs": [
        {
          "output_type": "execute_result",
          "data": {
            "text/plain": [
              "25000"
            ]
          },
          "metadata": {
            "tags": []
          },
          "execution_count": 84
        }
      ]
    },
    {
      "cell_type": "markdown",
      "metadata": {
        "id": "MhKfQMHNSw4L"
      },
      "source": [
        "**By Default, imdb.load_data loads the train and test data into 50-50 split. I will combine these and later split the data into 80-20 ratio**"
      ]
    },
    {
      "cell_type": "markdown",
      "metadata": {
        "id": "0B8Pa_OBSw4M"
      },
      "source": [
        "### <font color='green'>Print shape of features and labels</font>"
      ]
    },
    {
      "cell_type": "code",
      "metadata": {
        "colab": {
          "base_uri": "https://localhost:8080/"
        },
        "id": "uIfEbqKnY9Lu",
        "outputId": "8a51b8fe-46e6-42ec-cad0-221ee7dac959"
      },
      "source": [
        "print(\"The unique classes are (Positive/Negative)):\", np.unique(y_train))\n",
        "print(\"Number of unique words:\", len(np.unique(np.hstack(X_train+X_test))))"
      ],
      "execution_count": 85,
      "outputs": [
        {
          "output_type": "stream",
          "text": [
            "The unique classes are (Positive/Negative)): [0 1]\n",
            "Number of unique words: 9998\n"
          ],
          "name": "stdout"
        }
      ]
    },
    {
      "cell_type": "code",
      "metadata": {
        "colab": {
          "base_uri": "https://localhost:8080/"
        },
        "id": "zoevEfjNTB-B",
        "outputId": "18ccf611-0273-4cb6-867f-71654fcc47f5"
      },
      "source": [
        "print(\"Shape of features:\",X_train.shape)\n",
        "print(\"Shape of labels:\",y_train.shape)"
      ],
      "execution_count": 86,
      "outputs": [
        {
          "output_type": "stream",
          "text": [
            "Shape of features: (25000,)\n",
            "Shape of labels: (25000,)\n"
          ],
          "name": "stdout"
        }
      ]
    },
    {
      "cell_type": "code",
      "metadata": {
        "colab": {
          "base_uri": "https://localhost:8080/"
        },
        "id": "LfmDvL5-TScX",
        "outputId": "ced45760-077a-460d-ff3e-ccd85b5a0eee"
      },
      "source": [
        "from statistics import mean\n",
        "Average_len = [len(X_train[i]) for i in range(0,len(X_train))]\n",
        "print(\"Average length of Review comments :\",mean(Average_len))"
      ],
      "execution_count": 87,
      "outputs": [
        {
          "output_type": "stream",
          "text": [
            "Average length of Review comments : 238.71364\n"
          ],
          "name": "stdout"
        }
      ]
    },
    {
      "cell_type": "markdown",
      "metadata": {
        "id": "vw6KJ6_4Sw4M"
      },
      "source": [
        "### <font color='green'>Print value of any one feature and it's label</font>"
      ]
    },
    {
      "cell_type": "code",
      "metadata": {
        "colab": {
          "base_uri": "https://localhost:8080/"
        },
        "id": "WuS7xQgYUn3B",
        "outputId": "79ec63f1-08b6-4afb-b440-8533ba8128ad"
      },
      "source": [
        "print(X_train[0])"
      ],
      "execution_count": 88,
      "outputs": [
        {
          "output_type": "stream",
          "text": [
            "[1, 14, 22, 16, 43, 530, 973, 1622, 1385, 65, 458, 4468, 66, 3941, 4, 173, 36, 256, 5, 25, 100, 43, 838, 112, 50, 670, 2, 9, 35, 480, 284, 5, 150, 4, 172, 112, 167, 2, 336, 385, 39, 4, 172, 4536, 1111, 17, 546, 38, 13, 447, 4, 192, 50, 16, 6, 147, 2025, 19, 14, 22, 4, 1920, 4613, 469, 4, 22, 71, 87, 12, 16, 43, 530, 38, 76, 15, 13, 1247, 4, 22, 17, 515, 17, 12, 16, 626, 18, 2, 5, 62, 386, 12, 8, 316, 8, 106, 5, 4, 2223, 5244, 16, 480, 66, 3785, 33, 4, 130, 12, 16, 38, 619, 5, 25, 124, 51, 36, 135, 48, 25, 1415, 33, 6, 22, 12, 215, 28, 77, 52, 5, 14, 407, 16, 82, 2, 8, 4, 107, 117, 5952, 15, 256, 4, 2, 7, 3766, 5, 723, 36, 71, 43, 530, 476, 26, 400, 317, 46, 7, 4, 2, 1029, 13, 104, 88, 4, 381, 15, 297, 98, 32, 2071, 56, 26, 141, 6, 194, 7486, 18, 4, 226, 22, 21, 134, 476, 26, 480, 5, 144, 30, 5535, 18, 51, 36, 28, 224, 92, 25, 104, 4, 226, 65, 16, 38, 1334, 88, 12, 16, 283, 5, 16, 4472, 113, 103, 32, 15, 16, 5345, 19, 178, 32]\n"
          ],
          "name": "stdout"
        }
      ]
    },
    {
      "cell_type": "code",
      "metadata": {
        "colab": {
          "base_uri": "https://localhost:8080/"
        },
        "id": "3oo11VbqUzan",
        "outputId": "e39c3943-66db-40f8-92f8-04a568343818"
      },
      "source": [
        "print(y_train[0])"
      ],
      "execution_count": 89,
      "outputs": [
        {
          "output_type": "stream",
          "text": [
            "1\n"
          ],
          "name": "stdout"
        }
      ]
    },
    {
      "cell_type": "markdown",
      "metadata": {
        "id": "SXHJNDhuSw4N"
      },
      "source": [
        "### <font color='green'>Decode the feature value to get original sentence</font>"
      ]
    },
    {
      "cell_type": "code",
      "metadata": {
        "id": "VXCjmpUVuj8r"
      },
      "source": [
        "index=imdb.get_word_index()"
      ],
      "execution_count": 90,
      "outputs": []
    },
    {
      "cell_type": "code",
      "metadata": {
        "id": "TRenXAhMvH5n"
      },
      "source": [
        "reverse_index=dict((value,key) for (key,value) in index.items())"
      ],
      "execution_count": 91,
      "outputs": []
    },
    {
      "cell_type": "markdown",
      "metadata": {
        "id": "RObh53scU62A"
      },
      "source": [
        "**We need to do a \"i-3\", as the first indices are reserved.**"
      ]
    },
    {
      "cell_type": "code",
      "metadata": {
        "colab": {
          "base_uri": "https://localhost:8080/"
        },
        "id": "pVuF4-Zcz_Qg",
        "outputId": "b130ae2e-a60a-4258-851e-4e2f9c1ec564"
      },
      "source": [
        "print(\" \".join([reverse_index.get(i-3, \"#\") for i in X_train[0]] ))"
      ],
      "execution_count": 92,
      "outputs": [
        {
          "output_type": "stream",
          "text": [
            "# this film was just brilliant casting location scenery story direction everyone's really suited the part they played and you could just imagine being there robert # is an amazing actor and now the same being director # father came from the same scottish island as myself so i loved the fact there was a real connection with this film the witty remarks throughout the film were great it was just brilliant so much that i bought the film as soon as it was released for # and would recommend it to everyone to watch and the fly fishing was amazing really cried at the end it was so sad and you know what they say if you cry at a film it must have been good and this definitely was also # to the two little boy's that played the # of norman and paul they were just brilliant children are often left out of the # list i think because the stars that play them all grown up are such a big profile for the whole film but these children are amazing and should be praised for what they have done don't you think the whole story was so lovely because it was true and was someone's life after all that was shared with us all\n"
          ],
          "name": "stdout"
        }
      ]
    },
    {
      "cell_type": "markdown",
      "metadata": {
        "id": "9wbDULNDSw4O"
      },
      "source": [
        "### <font color='green'>Perform relevant sequence adding on the data</font>"
      ]
    },
    {
      "cell_type": "markdown",
      "metadata": {
        "id": "_kVWcAaRWd5t"
      },
      "source": [
        "**Since we are using 20  words  from  each  review  to  speed  up  training, we will trim each review to take only first 20 words. However, reviews which are shorter than this, needs to be padded with 0s to make them of consistent length.**"
      ]
    },
    {
      "cell_type": "code",
      "metadata": {
        "id": "K-DiX4vl025z"
      },
      "source": [
        "_maxlen=20\n",
        "X_train=sequence.pad_sequences(X_train,maxlen=_maxlen,padding='pre')\n",
        "X_test=sequence.pad_sequences(X_test,maxlen=_maxlen,padding='pre')"
      ],
      "execution_count": 93,
      "outputs": []
    },
    {
      "cell_type": "markdown",
      "metadata": {
        "id": "cQGgyDVASw4P"
      },
      "source": [
        "### <font color='green'>Design, train, tune and test a sequential model</font>"
      ]
    },
    {
      "cell_type": "markdown",
      "metadata": {
        "id": "9FOwHZg8Wjwd"
      },
      "source": [
        "**Combining the default splilts and spliting the data into 80-20 ratio**"
      ]
    },
    {
      "cell_type": "code",
      "metadata": {
        "id": "6A0mentwDXgU"
      },
      "source": [
        "X = np.concatenate((X_train, X_test), axis=0)\n",
        "y = np.concatenate((y_train, y_test), axis=0)"
      ],
      "execution_count": 94,
      "outputs": []
    },
    {
      "cell_type": "code",
      "metadata": {
        "id": "1g6x4ASuDm7t"
      },
      "source": [
        "X_train=X[10000:]\n",
        "y_train=y[10000:]\n",
        "X_test=X[:10000]\n",
        "y_test=y[:10000]"
      ],
      "execution_count": 95,
      "outputs": []
    },
    {
      "cell_type": "code",
      "metadata": {
        "colab": {
          "base_uri": "https://localhost:8080/"
        },
        "id": "ZaQqOBb_D4VX",
        "outputId": "398ec944-8eb0-4a75-a5d0-79faf78d7910"
      },
      "source": [
        "X_train.shape,y_train.shape,X_test.shape,y_test.shape"
      ],
      "execution_count": 96,
      "outputs": [
        {
          "output_type": "execute_result",
          "data": {
            "text/plain": [
              "((40000, 20), (40000,), (10000, 20), (10000,))"
            ]
          },
          "metadata": {
            "tags": []
          },
          "execution_count": 96
        }
      ]
    },
    {
      "cell_type": "markdown",
      "metadata": {
        "id": "_0FfdCBiepiU"
      },
      "source": [
        "**Checking Data balance**"
      ]
    },
    {
      "cell_type": "code",
      "metadata": {
        "colab": {
          "base_uri": "https://localhost:8080/"
        },
        "id": "VUBjKNoLemOV",
        "outputId": "9301b64b-d885-4aef-c21a-0dec38ad6d61"
      },
      "source": [
        "unique, counts = np.unique(y_train, return_counts=True)\n",
        "uniqueTest, countsTest = np.unique(y_test, return_counts=True)\n",
        "print (np.asarray((unique, counts,uniqueTest, countsTest)).T)"
      ],
      "execution_count": 97,
      "outputs": [
        {
          "output_type": "stream",
          "text": [
            "[[    0 20053     0  4947]\n",
            " [    1 19947     1  5053]]\n"
          ],
          "name": "stdout"
        }
      ]
    },
    {
      "cell_type": "markdown",
      "metadata": {
        "id": "UuMOKaQeWuA2"
      },
      "source": [
        "**Embedding Layer:** Consist of two layers internally - One hot encoding layer followed by a Dense Layer.\n",
        "_num_words : vocabulary size, Embedding Size is 50 (Each word will be converted into 50 indices)\n",
        "input_length: The number of features in a sample (i.e. number of words in each document)\n",
        "\n",
        "**Dropout Layer:** Regularization technique that works by randomly ignoring a certain percentage of nodes from a layer. This helps to reduce overfitting to the training data. A dropout layer will typically have 20 to 50 percent of nodes ignored.\n",
        "\n",
        "**Dense Layer(s):**  The number of nodes and activation function are given as arguments.\n",
        "\n",
        "**Output Layer:** I am using sigmoid function at the final layer. Our output classes are either 0 or 1."
      ]
    },
    {
      "cell_type": "code",
      "metadata": {
        "id": "oaBWtG7eD-qo"
      },
      "source": [
        "embedding_size=50\n",
        "model = Sequential()\n",
        "model.add(Embedding( _num_words , embedding_size, input_length=_maxlen))\n",
        "model.add(Dropout(0.5))\n",
        "model.add(LSTM(128, dropout=0.2, recurrent_dropout=0.2))\n",
        "model.add(Flatten())\n",
        "model.add(Dense(128,activation='relu'))\n",
        "model.add(Dense(64,activation='relu'))\n",
        "model.add(Dense(1,activation='sigmoid'))"
      ],
      "execution_count": 98,
      "outputs": []
    },
    {
      "cell_type": "markdown",
      "metadata": {
        "id": "3JV31A32X80N"
      },
      "source": [
        "**There are 616,481 weights, all of them are trainable. Huge number of weights an result into overfitting.**"
      ]
    },
    {
      "cell_type": "code",
      "metadata": {
        "colab": {
          "base_uri": "https://localhost:8080/"
        },
        "id": "er7IJwk6E0FL",
        "outputId": "bc67cde0-37ad-4ee1-f7f7-d0f38631e6aa"
      },
      "source": [
        "model.summary()"
      ],
      "execution_count": 99,
      "outputs": [
        {
          "output_type": "stream",
          "text": [
            "Model: \"sequential_3\"\n",
            "_________________________________________________________________\n",
            "Layer (type)                 Output Shape              Param #   \n",
            "=================================================================\n",
            "embedding_2 (Embedding)      (None, 20, 50)            500000    \n",
            "_________________________________________________________________\n",
            "dropout_2 (Dropout)          (None, 20, 50)            0         \n",
            "_________________________________________________________________\n",
            "lstm_2 (LSTM)                (None, 128)               91648     \n",
            "_________________________________________________________________\n",
            "flatten_2 (Flatten)          (None, 128)               0         \n",
            "_________________________________________________________________\n",
            "dense_6 (Dense)              (None, 128)               16512     \n",
            "_________________________________________________________________\n",
            "dense_7 (Dense)              (None, 64)                8256      \n",
            "_________________________________________________________________\n",
            "dense_8 (Dense)              (None, 1)                 65        \n",
            "=================================================================\n",
            "Total params: 616,481\n",
            "Trainable params: 616,481\n",
            "Non-trainable params: 0\n",
            "_________________________________________________________________\n"
          ],
          "name": "stdout"
        }
      ]
    },
    {
      "cell_type": "code",
      "metadata": {
        "colab": {
          "base_uri": "https://localhost:8080/"
        },
        "id": "qbYjMsVxPcHV",
        "outputId": "dfe65fb0-fe87-4a11-c78c-67d5e9468e0b"
      },
      "source": [
        "model.compile(loss = 'binary_crossentropy', optimizer='adam',metrics = ['accuracy'])\n",
        "history=model.fit(X_train,y_train,epochs=20,validation_data=(X_test,y_test))\n"
      ],
      "execution_count": 100,
      "outputs": [
        {
          "output_type": "stream",
          "text": [
            "Epoch 1/20\n",
            "1250/1250 [==============================] - 62s 48ms/step - loss: 0.5220 - accuracy: 0.7339 - val_loss: 0.4590 - val_accuracy: 0.7742\n",
            "Epoch 2/20\n",
            "1250/1250 [==============================] - 60s 48ms/step - loss: 0.4266 - accuracy: 0.7969 - val_loss: 0.4516 - val_accuracy: 0.7780\n",
            "Epoch 3/20\n",
            "1250/1250 [==============================] - 60s 48ms/step - loss: 0.3894 - accuracy: 0.8195 - val_loss: 0.4506 - val_accuracy: 0.7817\n",
            "Epoch 4/20\n",
            "1250/1250 [==============================] - 60s 48ms/step - loss: 0.3581 - accuracy: 0.8363 - val_loss: 0.4740 - val_accuracy: 0.7826\n",
            "Epoch 5/20\n",
            "1250/1250 [==============================] - 60s 48ms/step - loss: 0.3337 - accuracy: 0.8491 - val_loss: 0.4728 - val_accuracy: 0.7823\n",
            "Epoch 6/20\n",
            "1250/1250 [==============================] - 60s 48ms/step - loss: 0.3102 - accuracy: 0.8631 - val_loss: 0.4877 - val_accuracy: 0.7850\n",
            "Epoch 7/20\n",
            "1250/1250 [==============================] - 60s 48ms/step - loss: 0.2932 - accuracy: 0.8708 - val_loss: 0.5109 - val_accuracy: 0.7844\n",
            "Epoch 8/20\n",
            "1250/1250 [==============================] - 61s 49ms/step - loss: 0.2749 - accuracy: 0.8806 - val_loss: 0.5235 - val_accuracy: 0.7776\n",
            "Epoch 9/20\n",
            "1250/1250 [==============================] - 61s 48ms/step - loss: 0.2587 - accuracy: 0.8886 - val_loss: 0.5207 - val_accuracy: 0.7749\n",
            "Epoch 10/20\n",
            "1250/1250 [==============================] - 61s 49ms/step - loss: 0.2425 - accuracy: 0.8977 - val_loss: 0.5872 - val_accuracy: 0.7776\n",
            "Epoch 11/20\n",
            "1250/1250 [==============================] - 61s 49ms/step - loss: 0.2316 - accuracy: 0.9007 - val_loss: 0.5558 - val_accuracy: 0.7775\n",
            "Epoch 12/20\n",
            "1250/1250 [==============================] - 60s 48ms/step - loss: 0.2199 - accuracy: 0.9073 - val_loss: 0.5719 - val_accuracy: 0.7716\n",
            "Epoch 13/20\n",
            "1250/1250 [==============================] - 60s 48ms/step - loss: 0.2045 - accuracy: 0.9142 - val_loss: 0.6393 - val_accuracy: 0.7763\n",
            "Epoch 14/20\n",
            "1250/1250 [==============================] - 61s 49ms/step - loss: 0.1935 - accuracy: 0.9191 - val_loss: 0.6853 - val_accuracy: 0.7722\n",
            "Epoch 15/20\n",
            "1250/1250 [==============================] - 61s 49ms/step - loss: 0.1864 - accuracy: 0.9222 - val_loss: 0.7010 - val_accuracy: 0.7699\n",
            "Epoch 16/20\n",
            "1250/1250 [==============================] - 61s 48ms/step - loss: 0.1765 - accuracy: 0.9274 - val_loss: 0.6975 - val_accuracy: 0.7667\n",
            "Epoch 17/20\n",
            "1250/1250 [==============================] - 60s 48ms/step - loss: 0.1716 - accuracy: 0.9297 - val_loss: 0.7147 - val_accuracy: 0.7690\n",
            "Epoch 18/20\n",
            "1250/1250 [==============================] - 61s 48ms/step - loss: 0.1623 - accuracy: 0.9332 - val_loss: 0.8049 - val_accuracy: 0.7587\n",
            "Epoch 19/20\n",
            "1250/1250 [==============================] - 61s 49ms/step - loss: 0.1558 - accuracy: 0.9356 - val_loss: 0.7553 - val_accuracy: 0.7678\n",
            "Epoch 20/20\n",
            "1250/1250 [==============================] - 61s 49ms/step - loss: 0.1499 - accuracy: 0.9387 - val_loss: 0.7408 - val_accuracy: 0.7678\n"
          ],
          "name": "stdout"
        }
      ]
    },
    {
      "cell_type": "markdown",
      "metadata": {
        "id": "1-cnbwiRYW3X"
      },
      "source": [
        "**Plot Loss and Accuracy for Validation and Training**"
      ]
    },
    {
      "cell_type": "code",
      "metadata": {
        "id": "SSSAnSxyP45c",
        "colab": {
          "base_uri": "https://localhost:8080/",
          "height": 592
        },
        "outputId": "beb66640-c711-457c-c27b-caf887983e76"
      },
      "source": [
        "plt.figure(0)\n",
        "plt.plot(history.history['accuracy'], label='training accuracy')\n",
        "plt.plot(history.history['val_accuracy'], label='val accuracy')\n",
        "plt.title('Accuracy')\n",
        "plt.xlabel('epochs')\n",
        "plt.ylabel('accuracy')\n",
        "plt.legend()\n",
        "\n",
        "plt.figure(1)\n",
        "plt.plot(history.history['loss'], label='training loss')\n",
        "plt.plot(history.history['val_loss'], label='val loss')\n",
        "plt.title('Loss')\n",
        "plt.xlabel('epochs')\n",
        "plt.ylabel('loss')\n",
        "plt.legend()"
      ],
      "execution_count": 101,
      "outputs": [
        {
          "output_type": "execute_result",
          "data": {
            "text/plain": [
              "<matplotlib.legend.Legend at 0x7fd1e674b850>"
            ]
          },
          "metadata": {
            "tags": []
          },
          "execution_count": 101
        },
        {
          "output_type": "display_data",
          "data": {
            "image/png": "[encoded data removed]",
            "text/plain": [
              "<Figure size 432x288 with 1 Axes>"
            ]
          },
          "metadata": {
            "tags": [],
            "needs_background": "light"
          }
        },
        {
          "output_type": "display_data",
          "data": {
            "image/png": "[encoded data removed]",
            "text/plain": [
              "<Figure size 432x288 with 1 Axes>"
            ]
          },
          "metadata": {
            "tags": [],
            "needs_background": "light"
          }
        }
      ]
    },
    {
      "cell_type": "markdown",
      "metadata": {
        "id": "59Cg2M3xZmLd"
      },
      "source": [
        "**This model was able to predict the sentiment of movie reviews with 93.87% accuracy. Increasing the number of unique words or maximum length of a review can improve the performance.**"
      ]
    },
    {
      "cell_type": "markdown",
      "metadata": {
        "id": "CotSJYOKa45k"
      },
      "source": [
        "### <font color='green'>Use the designed model to print the prediction on any one sample</font>"
      ]
    },
    {
      "cell_type": "code",
      "metadata": {
        "id": "tzSnvJ0la9Pk"
      },
      "source": [
        "prediction=model.predict(X_test)\n",
        "prediction=np.argmax(prediction,axis=1)"
      ],
      "execution_count": 102,
      "outputs": []
    },
    {
      "cell_type": "code",
      "metadata": {
        "colab": {
          "base_uri": "https://localhost:8080/"
        },
        "id": "R4e65YKIdS10",
        "outputId": "c76aaa50-889d-48f6-b7cc-470b1f877e66"
      },
      "source": [
        "y_test[1],prediction[1]"
      ],
      "execution_count": 103,
      "outputs": [
        {
          "output_type": "execute_result",
          "data": {
            "text/plain": [
              "(0, 0)"
            ]
          },
          "metadata": {
            "tags": []
          },
          "execution_count": 103
        }
      ]
    },
    {
      "cell_type": "markdown",
      "metadata": {
        "id": "5Sz_T0pJSw4S"
      },
      "source": [
        "### <font color='green'>Testing a Pre-Trained Model</font>"
      ]
    },
    {
      "cell_type": "code",
      "metadata": {
        "id": "KlvpdjeVX3bz"
      },
      "source": [
        "import gensim.downloader as api"
      ],
      "execution_count": 104,
      "outputs": []
    },
    {
      "cell_type": "code",
      "metadata": {
        "id": "NDvfhZE0B3As"
      },
      "source": [
        "#Load Glove model (similar to Word2Vec)\n",
        "glove_model = api.load('glove-wiki-gigaword-50')"
      ],
      "execution_count": 105,
      "outputs": []
    },
    {
      "cell_type": "code",
      "metadata": {
        "id": "l2Scf3cpCJbN"
      },
      "source": [
        "embedding_vector_length = glove_model.vector_size\n",
        "embedding_matrix = np.zeros((_num_words + 1, embedding_vector_length))\n",
        "for word, i in sorted(index.items(),key=lambda x:x[1]):\n",
        "    if i > (_num_words+1):\n",
        "        break\n",
        "    try:\n",
        "        embedding_vector = glove_model[word] #Reading word's embedding from Glove model for a given word\n",
        "        embedding_matrix[i] = embedding_vector\n",
        "    except:\n",
        "        pass"
      ],
      "execution_count": 106,
      "outputs": []
    },
    {
      "cell_type": "code",
      "metadata": {
        "colab": {
          "base_uri": "https://localhost:8080/"
        },
        "id": "YtHV1eEQC5lR",
        "outputId": "984ad78c-51ea-46f2-ef7b-7fca8a67c784"
      },
      "source": [
        "embedding_vector_length"
      ],
      "execution_count": 107,
      "outputs": [
        {
          "output_type": "execute_result",
          "data": {
            "text/plain": [
              "50"
            ]
          },
          "metadata": {
            "tags": []
          },
          "execution_count": 107
        }
      ]
    },
    {
      "cell_type": "code",
      "metadata": {
        "id": "xX3fGV1_CYrB"
      },
      "source": [
        "embedding_size=50\n",
        "model = Sequential()\n",
        "model.add(Embedding( _num_words +1, embedding_vector_length,weights=[embedding_matrix], trainable=False,input_length=_maxlen))\n",
        "model.add(Dropout(0.5))\n",
        "model.add(LSTM(128, dropout=0.2, recurrent_dropout=0.2))\n",
        "model.add(Flatten())\n",
        "model.add(Dense(128,activation='relu'))\n",
        "model.add(Dense(64,activation='relu'))\n",
        "model.add(Dense(1,activation='sigmoid'))"
      ],
      "execution_count": 108,
      "outputs": []
    },
    {
      "cell_type": "code",
      "metadata": {
        "colab": {
          "base_uri": "https://localhost:8080/"
        },
        "id": "APXnAWabC6nj",
        "outputId": "09ddbeec-ceed-4b82-dd1d-cbf643340288"
      },
      "source": [
        "model.summary()"
      ],
      "execution_count": 109,
      "outputs": [
        {
          "output_type": "stream",
          "text": [
            "Model: \"sequential_4\"\n",
            "_________________________________________________________________\n",
            "Layer (type)                 Output Shape              Param #   \n",
            "=================================================================\n",
            "embedding_3 (Embedding)      (None, 20, 50)            500050    \n",
            "_________________________________________________________________\n",
            "dropout_3 (Dropout)          (None, 20, 50)            0         \n",
            "_________________________________________________________________\n",
            "lstm_3 (LSTM)                (None, 128)               91648     \n",
            "_________________________________________________________________\n",
            "flatten_3 (Flatten)          (None, 128)               0         \n",
            "_________________________________________________________________\n",
            "dense_9 (Dense)              (None, 128)               16512     \n",
            "_________________________________________________________________\n",
            "dense_10 (Dense)             (None, 64)                8256      \n",
            "_________________________________________________________________\n",
            "dense_11 (Dense)             (None, 1)                 65        \n",
            "=================================================================\n",
            "Total params: 616,531\n",
            "Trainable params: 116,481\n",
            "Non-trainable params: 500,050\n",
            "_________________________________________________________________\n"
          ],
          "name": "stdout"
        }
      ]
    },
    {
      "cell_type": "code",
      "metadata": {
        "colab": {
          "base_uri": "https://localhost:8080/"
        },
        "id": "0B1lbin5DCI6",
        "outputId": "34959f0e-8cb2-4611-9e20-30988707edeb"
      },
      "source": [
        "model.compile(loss = 'binary_crossentropy', optimizer='adam',metrics = ['accuracy'])\n",
        "history=model.fit(X_train,y_train,epochs=20,validation_data=(X_test,y_test))\n"
      ],
      "execution_count": 110,
      "outputs": [
        {
          "output_type": "stream",
          "text": [
            "Epoch 1/20\n",
            "1250/1250 [==============================] - 53s 41ms/step - loss: 0.6915 - accuracy: 0.5217 - val_loss: 0.6861 - val_accuracy: 0.5405\n",
            "Epoch 2/20\n",
            "1250/1250 [==============================] - 51s 41ms/step - loss: 0.6818 - accuracy: 0.5462 - val_loss: 0.6603 - val_accuracy: 0.5831\n",
            "Epoch 3/20\n",
            "1250/1250 [==============================] - 51s 41ms/step - loss: 0.6659 - accuracy: 0.5727 - val_loss: 0.6432 - val_accuracy: 0.6104\n",
            "Epoch 4/20\n",
            "1250/1250 [==============================] - 50s 40ms/step - loss: 0.6550 - accuracy: 0.5899 - val_loss: 0.6300 - val_accuracy: 0.6252\n",
            "Epoch 5/20\n",
            "1250/1250 [==============================] - 51s 41ms/step - loss: 0.6449 - accuracy: 0.6030 - val_loss: 0.6151 - val_accuracy: 0.6471\n",
            "Epoch 6/20\n",
            "1250/1250 [==============================] - 51s 41ms/step - loss: 0.6366 - accuracy: 0.6166 - val_loss: 0.6043 - val_accuracy: 0.6532\n",
            "Epoch 7/20\n",
            "1250/1250 [==============================] - 51s 40ms/step - loss: 0.6308 - accuracy: 0.6249 - val_loss: 0.6069 - val_accuracy: 0.6338\n",
            "Epoch 8/20\n",
            "1250/1250 [==============================] - 51s 41ms/step - loss: 0.6221 - accuracy: 0.6329 - val_loss: 0.5918 - val_accuracy: 0.6589\n",
            "Epoch 9/20\n",
            "1250/1250 [==============================] - 51s 41ms/step - loss: 0.6171 - accuracy: 0.6374 - val_loss: 0.5864 - val_accuracy: 0.6596\n",
            "Epoch 10/20\n",
            "1250/1250 [==============================] - 51s 41ms/step - loss: 0.6120 - accuracy: 0.6409 - val_loss: 0.5802 - val_accuracy: 0.6759\n",
            "Epoch 11/20\n",
            "1250/1250 [==============================] - 51s 41ms/step - loss: 0.6090 - accuracy: 0.6450 - val_loss: 0.5731 - val_accuracy: 0.6760\n",
            "Epoch 12/20\n",
            "1250/1250 [==============================] - 51s 41ms/step - loss: 0.6045 - accuracy: 0.6511 - val_loss: 0.5645 - val_accuracy: 0.6861\n",
            "Epoch 13/20\n",
            "1250/1250 [==============================] - 51s 41ms/step - loss: 0.6001 - accuracy: 0.6494 - val_loss: 0.5599 - val_accuracy: 0.6882\n",
            "Epoch 14/20\n",
            "1250/1250 [==============================] - 51s 41ms/step - loss: 0.5962 - accuracy: 0.6571 - val_loss: 0.5611 - val_accuracy: 0.6878\n",
            "Epoch 15/20\n",
            "1250/1250 [==============================] - 51s 41ms/step - loss: 0.5925 - accuracy: 0.6610 - val_loss: 0.5613 - val_accuracy: 0.6868\n",
            "Epoch 16/20\n",
            "1250/1250 [==============================] - 51s 41ms/step - loss: 0.5878 - accuracy: 0.6629 - val_loss: 0.5526 - val_accuracy: 0.6951\n",
            "Epoch 17/20\n",
            "1250/1250 [==============================] - 51s 41ms/step - loss: 0.5898 - accuracy: 0.6622 - val_loss: 0.5578 - val_accuracy: 0.6836\n",
            "Epoch 18/20\n",
            "1250/1250 [==============================] - 51s 41ms/step - loss: 0.5870 - accuracy: 0.6654 - val_loss: 0.5513 - val_accuracy: 0.6941\n",
            "Epoch 19/20\n",
            "1250/1250 [==============================] - 51s 41ms/step - loss: 0.5838 - accuracy: 0.6696 - val_loss: 0.5467 - val_accuracy: 0.7009\n",
            "Epoch 20/20\n",
            "1250/1250 [==============================] - 51s 41ms/step - loss: 0.5806 - accuracy: 0.6709 - val_loss: 0.5435 - val_accuracy: 0.7089\n"
          ],
          "name": "stdout"
        }
      ]
    },
    {
      "cell_type": "code",
      "metadata": {
        "colab": {
          "base_uri": "https://localhost:8080/",
          "height": 592
        },
        "id": "cs4rfyUQDEkw",
        "outputId": "5f872cb5-2887-48d8-8685-22e42f65a5b7"
      },
      "source": [
        "plt.figure(0)\n",
        "plt.plot(history.history['accuracy'], label='training accuracy')\n",
        "plt.plot(history.history['val_accuracy'], label='val accuracy')\n",
        "plt.title('Accuracy')\n",
        "plt.xlabel('epochs')\n",
        "plt.ylabel('accuracy')\n",
        "plt.legend()\n",
        "\n",
        "plt.figure(1)\n",
        "plt.plot(history.history['loss'], label='training loss')\n",
        "plt.plot(history.history['val_loss'], label='val loss')\n",
        "plt.title('Loss')\n",
        "plt.xlabel('epochs')\n",
        "plt.ylabel('loss')\n",
        "plt.legend()"
      ],
      "execution_count": 114,
      "outputs": [
        {
          "output_type": "execute_result",
          "data": {
            "text/plain": [
              "<matplotlib.legend.Legend at 0x7fd1e7b5ce50>"
            ]
          },
          "metadata": {
            "tags": []
          },
          "execution_count": 114
        },
        {
          "output_type": "display_data",
          "data": {
            "image/png": "[encoded data removed]",
            "text/plain": [
              "<Figure size 432x288 with 1 Axes>"
            ]
          },
          "metadata": {
            "tags": [],
            "needs_background": "light"
          }
        },
        {
          "output_type": "display_data",
          "data": {
            "image/png": "[encoded data removed]",
            "text/plain": [
              "<Figure size 432x288 with 1 Axes>"
            ]
          },
          "metadata": {
            "tags": [],
            "needs_background": "light"
          }
        }
      ]
    },
    {
      "cell_type": "markdown",
      "metadata": {
        "id": "dftSmBzWaRys"
      },
      "source": [
        "**The train and validation accuracy and loss followed almost the same function.**"
      ]
    }
  ]
}