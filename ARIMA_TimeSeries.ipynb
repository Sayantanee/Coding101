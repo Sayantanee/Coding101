{
 "cells": [
  {
   "cell_type": "markdown",
   "metadata": {},
   "source": [
    "###  <font color=#00b3e5> Import all the required Python Libraries"
   ]
  },
  {
   "cell_type": "code",
   "execution_count": null,
   "metadata": {},
   "outputs": [],
   "source": [
    "import warnings\n",
    "#Enable graph plotting in Jupyter\n",
    "%matplotlib inline\n",
    "# Numerical libraries\n",
    "import numpy as np  \n",
    "# to handle data in form of rows and columns \n",
    "import pandas as pd    \n",
    "from pandas.tseries.offsets import DateOffset\n",
    "from math import sqrt\n",
    "from pandas import read_csv\n",
    "from pandas import datetime\n",
    "import datetime\n",
    "\n",
    "import seaborn as sns\n",
    "sns.set(color_codes=True)\n",
    "sns.set_style(\"whitegrid\")\n",
    "from matplotlib import pyplot\n",
    "from pandas.plotting import autocorrelation_plot\n",
    "\n",
    "\n",
    "import statsmodels\n",
    "from statsmodels.tsa.arima_model import ARIMA\n",
    "from sklearn.metrics import mean_squared_error,mean_absolute_error\n",
    "from statsmodels.tsa.stattools import adfuller"
   ]
  },
  {
   "cell_type": "markdown",
   "metadata": {},
   "source": [
    "###  <font color=#00b3e5> Read the data\n",
    "#### Data Source: https://www.kaggle.com/sudalairajkumar/covid19-in-india\n",
    "#### The data comprises of recorded number of confirmed, cured and death cases across various states of India, in a time series fashion. The repository has two CSV files: “covid_19_india.csv” has record entries from Apr, 2020 till Oct, 2020, for each date within the time period & the other file “StatewiseTestingDetails.csv” have state wise/Union Territory wise distribution of total samples tested along with corresponding positive/negatives cases confirmed for each date entry"
   ]
  },
  {
   "cell_type": "code",
   "execution_count": 156,
   "metadata": {},
   "outputs": [],
   "source": [
    "data1=pd.read_csv('covid_19_india.csv',engine='python',sep=',')\n",
    "data2=pd.read_csv('StatewiseTestingDetails.csv',engine='python',sep=',')"
   ]
  },
  {
   "cell_type": "markdown",
   "metadata": {},
   "source": [
    "#### Replacing all occurences of Telangana followed by special characters with one unique entry for the state value 'Telangana'"
   ]
  },
  {
   "cell_type": "code",
   "execution_count": 157,
   "metadata": {},
   "outputs": [
    {
     "data": {
      "text/plain": [
       "array(['Kerala', 'Telangana', 'Delhi', 'Rajasthan', 'Uttar Pradesh',\n",
       "       'Haryana', 'Ladakh', 'Tamil Nadu', 'Karnataka', 'Maharashtra',\n",
       "       'Punjab', 'Jammu and Kashmir', 'Andhra Pradesh', 'Uttarakhand',\n",
       "       'Odisha', 'Puducherry', 'West Bengal', 'Chhattisgarh',\n",
       "       'Chandigarh', 'Gujarat', 'Himachal Pradesh', 'Madhya Pradesh',\n",
       "       'Bihar', 'Manipur', 'Mizoram', 'Andaman and Nicobar Islands',\n",
       "       'Goa', 'Unassigned', 'Assam', 'Jharkhand', 'Arunachal Pradesh',\n",
       "       'Tripura', 'Nagaland', 'Meghalaya', 'Dadar Nagar Haveli',\n",
       "       'Cases being reassigned to states', 'Sikkim', 'Daman & Diu',\n",
       "       'Dadra and Nagar Haveli and Daman and Diu'], dtype=object)"
      ]
     },
     "execution_count": 157,
     "metadata": {},
     "output_type": "execute_result"
    }
   ],
   "source": [
    "data1.rename(columns = {'State/UnionTerritory':'State'}, inplace = True) \n",
    "data1['State'] = data1['State'].map(lambda x: x.rstrip('***'))\n",
    "data1.replace(to_replace =[\"Telengana\"],value =\"Telangana\",inplace=True) \n",
    "data1['State'].unique()"
   ]
  },
  {
   "cell_type": "markdown",
   "metadata": {},
   "source": [
    "####   Converting the Date format into YYYY-MM-DD in order to merge both the datasets based on date value. \n",
    "####   Also, since after the initial one month of the outbreak, the international boundaries were closed, hence most of the entries for ConfirmedForeignNational is NaN and ConfirmedIndianNational is 1, hence dropping these two fields. Additionally these will not be used for our Univariate Time series Model. "
   ]
  },
  {
   "cell_type": "code",
   "execution_count": 158,
   "metadata": {},
   "outputs": [
    {
     "data": {
      "text/html": [
       "<div>\n",
       "<style scoped>\n",
       "    .dataframe tbody tr th:only-of-type {\n",
       "        vertical-align: middle;\n",
       "    }\n",
       "\n",
       "    .dataframe tbody tr th {\n",
       "        vertical-align: top;\n",
       "    }\n",
       "\n",
       "    .dataframe thead th {\n",
       "        text-align: right;\n",
       "    }\n",
       "</style>\n",
       "<table border=\"1\" class=\"dataframe\">\n",
       "  <thead>\n",
       "    <tr style=\"text-align: right;\">\n",
       "      <th></th>\n",
       "      <th>State</th>\n",
       "      <th>Cured</th>\n",
       "      <th>Deaths</th>\n",
       "      <th>Confirmed</th>\n",
       "      <th>TotalSamples</th>\n",
       "      <th>Negative</th>\n",
       "      <th>Positive</th>\n",
       "      <th>Date_new</th>\n",
       "    </tr>\n",
       "  </thead>\n",
       "  <tbody>\n",
       "    <tr>\n",
       "      <td>244</td>\n",
       "      <td>Andaman and Nicobar Islands</td>\n",
       "      <td>10</td>\n",
       "      <td>0</td>\n",
       "      <td>11</td>\n",
       "      <td>1403.0</td>\n",
       "      <td>1210</td>\n",
       "      <td>12.0</td>\n",
       "      <td>2020-04-17</td>\n",
       "    </tr>\n",
       "    <tr>\n",
       "      <td>438</td>\n",
       "      <td>Andaman and Nicobar Islands</td>\n",
       "      <td>11</td>\n",
       "      <td>0</td>\n",
       "      <td>22</td>\n",
       "      <td>2679.0</td>\n",
       "      <td>NaN</td>\n",
       "      <td>27.0</td>\n",
       "      <td>2020-04-24</td>\n",
       "    </tr>\n",
       "    <tr>\n",
       "      <td>515</td>\n",
       "      <td>Andaman and Nicobar Islands</td>\n",
       "      <td>11</td>\n",
       "      <td>0</td>\n",
       "      <td>33</td>\n",
       "      <td>2848.0</td>\n",
       "      <td>NaN</td>\n",
       "      <td>33.0</td>\n",
       "      <td>2020-04-27</td>\n",
       "    </tr>\n",
       "    <tr>\n",
       "      <td>626</td>\n",
       "      <td>Andaman and Nicobar Islands</td>\n",
       "      <td>16</td>\n",
       "      <td>0</td>\n",
       "      <td>33</td>\n",
       "      <td>3754.0</td>\n",
       "      <td>NaN</td>\n",
       "      <td>33.0</td>\n",
       "      <td>2020-05-01</td>\n",
       "    </tr>\n",
       "    <tr>\n",
       "      <td>1040</td>\n",
       "      <td>Andaman and Nicobar Islands</td>\n",
       "      <td>33</td>\n",
       "      <td>0</td>\n",
       "      <td>33</td>\n",
       "      <td>6677.0</td>\n",
       "      <td>NaN</td>\n",
       "      <td>33.0</td>\n",
       "      <td>2020-05-16</td>\n",
       "    </tr>\n",
       "    <tr>\n",
       "      <td>1126</td>\n",
       "      <td>Andaman and Nicobar Islands</td>\n",
       "      <td>33</td>\n",
       "      <td>0</td>\n",
       "      <td>33</td>\n",
       "      <td>6965.0</td>\n",
       "      <td>NaN</td>\n",
       "      <td>33.0</td>\n",
       "      <td>2020-05-19</td>\n",
       "    </tr>\n",
       "    <tr>\n",
       "      <td>1156</td>\n",
       "      <td>Andaman and Nicobar Islands</td>\n",
       "      <td>33</td>\n",
       "      <td>0</td>\n",
       "      <td>33</td>\n",
       "      <td>7082.0</td>\n",
       "      <td>NaN</td>\n",
       "      <td>33.0</td>\n",
       "      <td>2020-05-20</td>\n",
       "    </tr>\n",
       "    <tr>\n",
       "      <td>1184</td>\n",
       "      <td>Andaman and Nicobar Islands</td>\n",
       "      <td>33</td>\n",
       "      <td>0</td>\n",
       "      <td>33</td>\n",
       "      <td>7167.0</td>\n",
       "      <td>NaN</td>\n",
       "      <td>33.0</td>\n",
       "      <td>2020-05-21</td>\n",
       "    </tr>\n",
       "    <tr>\n",
       "      <td>1213</td>\n",
       "      <td>Andaman and Nicobar Islands</td>\n",
       "      <td>33</td>\n",
       "      <td>0</td>\n",
       "      <td>33</td>\n",
       "      <td>7263.0</td>\n",
       "      <td>NaN</td>\n",
       "      <td>33.0</td>\n",
       "      <td>2020-05-22</td>\n",
       "    </tr>\n",
       "    <tr>\n",
       "      <td>1244</td>\n",
       "      <td>Andaman and Nicobar Islands</td>\n",
       "      <td>33</td>\n",
       "      <td>0</td>\n",
       "      <td>33</td>\n",
       "      <td>7327.0</td>\n",
       "      <td>NaN</td>\n",
       "      <td>33.0</td>\n",
       "      <td>2020-05-23</td>\n",
       "    </tr>\n",
       "  </tbody>\n",
       "</table>\n",
       "</div>"
      ],
      "text/plain": [
       "                            State  Cured  Deaths  Confirmed  TotalSamples  \\\n",
       "244   Andaman and Nicobar Islands     10       0         11        1403.0   \n",
       "438   Andaman and Nicobar Islands     11       0         22        2679.0   \n",
       "515   Andaman and Nicobar Islands     11       0         33        2848.0   \n",
       "626   Andaman and Nicobar Islands     16       0         33        3754.0   \n",
       "1040  Andaman and Nicobar Islands     33       0         33        6677.0   \n",
       "1126  Andaman and Nicobar Islands     33       0         33        6965.0   \n",
       "1156  Andaman and Nicobar Islands     33       0         33        7082.0   \n",
       "1184  Andaman and Nicobar Islands     33       0         33        7167.0   \n",
       "1213  Andaman and Nicobar Islands     33       0         33        7263.0   \n",
       "1244  Andaman and Nicobar Islands     33       0         33        7327.0   \n",
       "\n",
       "     Negative  Positive   Date_new  \n",
       "244      1210      12.0 2020-04-17  \n",
       "438       NaN      27.0 2020-04-24  \n",
       "515       NaN      33.0 2020-04-27  \n",
       "626       NaN      33.0 2020-05-01  \n",
       "1040      NaN      33.0 2020-05-16  \n",
       "1126      NaN      33.0 2020-05-19  \n",
       "1156      NaN      33.0 2020-05-20  \n",
       "1184      NaN      33.0 2020-05-21  \n",
       "1213      NaN      33.0 2020-05-22  \n",
       "1244      NaN      33.0 2020-05-23  "
      ]
     },
     "execution_count": 158,
     "metadata": {},
     "output_type": "execute_result"
    }
   ],
   "source": [
    "data2['Date_new'] = pd.to_datetime(data2.Date)\n",
    "data2['Date'] = data2['Date_new'].dt.strftime(\"%d/%m/%y\")\n",
    "data = data1.merge(data2, on=['Date','State'])\n",
    "data.drop(['ï»¿Sno','ConfirmedIndianNational','ConfirmedForeignNational','Date','Time'],axis=1,inplace=True)\n",
    "data=data.sort_values(by=['State','Date_new'])\n",
    "data.head(10)"
   ]
  },
  {
   "cell_type": "markdown",
   "metadata": {},
   "source": [
    "### <font color=#00b3e5> Write a function that will calulate the Daywise values from the cumulative values in the columns"
   ]
  },
  {
   "cell_type": "code",
   "execution_count": 159,
   "metadata": {},
   "outputs": [],
   "source": [
    "def calculate_daywise_value(col_name):\n",
    "    data['Daywise_'+ col_name]=''\n",
    "    for i in data['State'].unique():\n",
    "        data['Daywise_'+ col_name]=np.where((data['State']==i) ,data[col_name]-data[col_name].shift(1),data['Daywise_'+ col_name])\n",
    "    data['Daywise_'+ col_name] = data['Daywise_'+ col_name].astype(float)\n",
    "    data['Daywise_'+ col_name]=np.where(data['Daywise_'+ col_name]<0,0,data['Daywise_'+ col_name])\n",
    "    data['Daywise_'+ col_name].fillna(0,inplace=True)\n",
    "\n",
    "#data[data['State']=='Kerala']"
   ]
  },
  {
   "cell_type": "markdown",
   "metadata": {},
   "source": [
    "###  <font color=#00b3e5> Calculate Daywise Values"
   ]
  },
  {
   "cell_type": "code",
   "execution_count": 160,
   "metadata": {},
   "outputs": [
    {
     "data": {
      "text/html": [
       "<div>\n",
       "<style scoped>\n",
       "    .dataframe tbody tr th:only-of-type {\n",
       "        vertical-align: middle;\n",
       "    }\n",
       "\n",
       "    .dataframe tbody tr th {\n",
       "        vertical-align: top;\n",
       "    }\n",
       "\n",
       "    .dataframe thead th {\n",
       "        text-align: right;\n",
       "    }\n",
       "</style>\n",
       "<table border=\"1\" class=\"dataframe\">\n",
       "  <thead>\n",
       "    <tr style=\"text-align: right;\">\n",
       "      <th></th>\n",
       "      <th>State</th>\n",
       "      <th>Cured</th>\n",
       "      <th>Deaths</th>\n",
       "      <th>Confirmed</th>\n",
       "      <th>TotalSamples</th>\n",
       "      <th>Negative</th>\n",
       "      <th>Positive</th>\n",
       "      <th>Date_new</th>\n",
       "      <th>Daywise_Confirmed</th>\n",
       "      <th>Daywise_Deaths</th>\n",
       "      <th>Daywise_Cured</th>\n",
       "    </tr>\n",
       "  </thead>\n",
       "  <tbody>\n",
       "    <tr>\n",
       "      <td>244</td>\n",
       "      <td>Andaman and Nicobar Islands</td>\n",
       "      <td>10</td>\n",
       "      <td>0</td>\n",
       "      <td>11</td>\n",
       "      <td>1403.0</td>\n",
       "      <td>1210</td>\n",
       "      <td>12.0</td>\n",
       "      <td>2020-04-17</td>\n",
       "      <td>0.0</td>\n",
       "      <td>0.0</td>\n",
       "      <td>0.0</td>\n",
       "    </tr>\n",
       "    <tr>\n",
       "      <td>438</td>\n",
       "      <td>Andaman and Nicobar Islands</td>\n",
       "      <td>11</td>\n",
       "      <td>0</td>\n",
       "      <td>22</td>\n",
       "      <td>2679.0</td>\n",
       "      <td>NaN</td>\n",
       "      <td>27.0</td>\n",
       "      <td>2020-04-24</td>\n",
       "      <td>11.0</td>\n",
       "      <td>0.0</td>\n",
       "      <td>1.0</td>\n",
       "    </tr>\n",
       "    <tr>\n",
       "      <td>515</td>\n",
       "      <td>Andaman and Nicobar Islands</td>\n",
       "      <td>11</td>\n",
       "      <td>0</td>\n",
       "      <td>33</td>\n",
       "      <td>2848.0</td>\n",
       "      <td>NaN</td>\n",
       "      <td>33.0</td>\n",
       "      <td>2020-04-27</td>\n",
       "      <td>11.0</td>\n",
       "      <td>0.0</td>\n",
       "      <td>0.0</td>\n",
       "    </tr>\n",
       "    <tr>\n",
       "      <td>626</td>\n",
       "      <td>Andaman and Nicobar Islands</td>\n",
       "      <td>16</td>\n",
       "      <td>0</td>\n",
       "      <td>33</td>\n",
       "      <td>3754.0</td>\n",
       "      <td>NaN</td>\n",
       "      <td>33.0</td>\n",
       "      <td>2020-05-01</td>\n",
       "      <td>0.0</td>\n",
       "      <td>0.0</td>\n",
       "      <td>5.0</td>\n",
       "    </tr>\n",
       "    <tr>\n",
       "      <td>1040</td>\n",
       "      <td>Andaman and Nicobar Islands</td>\n",
       "      <td>33</td>\n",
       "      <td>0</td>\n",
       "      <td>33</td>\n",
       "      <td>6677.0</td>\n",
       "      <td>NaN</td>\n",
       "      <td>33.0</td>\n",
       "      <td>2020-05-16</td>\n",
       "      <td>0.0</td>\n",
       "      <td>0.0</td>\n",
       "      <td>17.0</td>\n",
       "    </tr>\n",
       "  </tbody>\n",
       "</table>\n",
       "</div>"
      ],
      "text/plain": [
       "                            State  Cured  Deaths  Confirmed  TotalSamples  \\\n",
       "244   Andaman and Nicobar Islands     10       0         11        1403.0   \n",
       "438   Andaman and Nicobar Islands     11       0         22        2679.0   \n",
       "515   Andaman and Nicobar Islands     11       0         33        2848.0   \n",
       "626   Andaman and Nicobar Islands     16       0         33        3754.0   \n",
       "1040  Andaman and Nicobar Islands     33       0         33        6677.0   \n",
       "\n",
       "     Negative  Positive   Date_new  Daywise_Confirmed  Daywise_Deaths  \\\n",
       "244      1210      12.0 2020-04-17                0.0             0.0   \n",
       "438       NaN      27.0 2020-04-24               11.0             0.0   \n",
       "515       NaN      33.0 2020-04-27               11.0             0.0   \n",
       "626       NaN      33.0 2020-05-01                0.0             0.0   \n",
       "1040      NaN      33.0 2020-05-16                0.0             0.0   \n",
       "\n",
       "      Daywise_Cured  \n",
       "244             0.0  \n",
       "438             1.0  \n",
       "515             0.0  \n",
       "626             5.0  \n",
       "1040           17.0  "
      ]
     },
     "execution_count": 160,
     "metadata": {},
     "output_type": "execute_result"
    }
   ],
   "source": [
    "calculate_daywise_value('Confirmed')\n",
    "calculate_daywise_value('Deaths')\n",
    "calculate_daywise_value('Cured')\n",
    "data.head()"
   ]
  },
  {
   "cell_type": "markdown",
   "metadata": {},
   "source": [
    "###  <font color=#00b3e5> To build a Time series model on Confirmed cases forecasting, we take our first subset"
   ]
  },
  {
   "cell_type": "code",
   "execution_count": 161,
   "metadata": {},
   "outputs": [],
   "source": [
    "data['Date'] = data['Date_new'].dt.strftime(\"%d/%m/%y\")"
   ]
  },
  {
   "cell_type": "code",
   "execution_count": 162,
   "metadata": {},
   "outputs": [
    {
     "data": {
      "text/html": [
       "<div>\n",
       "<style scoped>\n",
       "    .dataframe tbody tr th:only-of-type {\n",
       "        vertical-align: middle;\n",
       "    }\n",
       "\n",
       "    .dataframe tbody tr th {\n",
       "        vertical-align: top;\n",
       "    }\n",
       "\n",
       "    .dataframe thead th {\n",
       "        text-align: right;\n",
       "    }\n",
       "</style>\n",
       "<table border=\"1\" class=\"dataframe\">\n",
       "  <thead>\n",
       "    <tr style=\"text-align: right;\">\n",
       "      <th></th>\n",
       "      <th>Date_new</th>\n",
       "      <th>State</th>\n",
       "      <th>Daywise_Confirmed</th>\n",
       "    </tr>\n",
       "  </thead>\n",
       "  <tbody>\n",
       "    <tr>\n",
       "      <td>244</td>\n",
       "      <td>2020-04-17</td>\n",
       "      <td>Andaman and Nicobar Islands</td>\n",
       "      <td>0.0</td>\n",
       "    </tr>\n",
       "    <tr>\n",
       "      <td>438</td>\n",
       "      <td>2020-04-24</td>\n",
       "      <td>Andaman and Nicobar Islands</td>\n",
       "      <td>11.0</td>\n",
       "    </tr>\n",
       "    <tr>\n",
       "      <td>515</td>\n",
       "      <td>2020-04-27</td>\n",
       "      <td>Andaman and Nicobar Islands</td>\n",
       "      <td>11.0</td>\n",
       "    </tr>\n",
       "    <tr>\n",
       "      <td>626</td>\n",
       "      <td>2020-05-01</td>\n",
       "      <td>Andaman and Nicobar Islands</td>\n",
       "      <td>0.0</td>\n",
       "    </tr>\n",
       "    <tr>\n",
       "      <td>1040</td>\n",
       "      <td>2020-05-16</td>\n",
       "      <td>Andaman and Nicobar Islands</td>\n",
       "      <td>0.0</td>\n",
       "    </tr>\n",
       "    <tr>\n",
       "      <td>...</td>\n",
       "      <td>...</td>\n",
       "      <td>...</td>\n",
       "      <td>...</td>\n",
       "    </tr>\n",
       "    <tr>\n",
       "      <td>6409</td>\n",
       "      <td>2020-10-22</td>\n",
       "      <td>West Bengal</td>\n",
       "      <td>4069.0</td>\n",
       "    </tr>\n",
       "    <tr>\n",
       "      <td>6443</td>\n",
       "      <td>2020-10-23</td>\n",
       "      <td>West Bengal</td>\n",
       "      <td>4157.0</td>\n",
       "    </tr>\n",
       "    <tr>\n",
       "      <td>6476</td>\n",
       "      <td>2020-10-24</td>\n",
       "      <td>West Bengal</td>\n",
       "      <td>4143.0</td>\n",
       "    </tr>\n",
       "    <tr>\n",
       "      <td>6509</td>\n",
       "      <td>2020-10-25</td>\n",
       "      <td>West Bengal</td>\n",
       "      <td>4148.0</td>\n",
       "    </tr>\n",
       "    <tr>\n",
       "      <td>6541</td>\n",
       "      <td>2020-10-26</td>\n",
       "      <td>West Bengal</td>\n",
       "      <td>4127.0</td>\n",
       "    </tr>\n",
       "  </tbody>\n",
       "</table>\n",
       "<p>6553 rows × 3 columns</p>\n",
       "</div>"
      ],
      "text/plain": [
       "       Date_new                        State  Daywise_Confirmed\n",
       "244  2020-04-17  Andaman and Nicobar Islands                0.0\n",
       "438  2020-04-24  Andaman and Nicobar Islands               11.0\n",
       "515  2020-04-27  Andaman and Nicobar Islands               11.0\n",
       "626  2020-05-01  Andaman and Nicobar Islands                0.0\n",
       "1040 2020-05-16  Andaman and Nicobar Islands                0.0\n",
       "...         ...                          ...                ...\n",
       "6409 2020-10-22                  West Bengal             4069.0\n",
       "6443 2020-10-23                  West Bengal             4157.0\n",
       "6476 2020-10-24                  West Bengal             4143.0\n",
       "6509 2020-10-25                  West Bengal             4148.0\n",
       "6541 2020-10-26                  West Bengal             4127.0\n",
       "\n",
       "[6553 rows x 3 columns]"
      ]
     },
     "execution_count": 162,
     "metadata": {},
     "output_type": "execute_result"
    }
   ],
   "source": [
    "data_subset=data[['Date_new','State','Daywise_Confirmed']]\n",
    "data_subset"
   ]
  },
  {
   "cell_type": "code",
   "execution_count": 169,
   "metadata": {},
   "outputs": [
    {
     "data": {
      "text/html": [
       "<div>\n",
       "<style scoped>\n",
       "    .dataframe tbody tr th:only-of-type {\n",
       "        vertical-align: middle;\n",
       "    }\n",
       "\n",
       "    .dataframe tbody tr th {\n",
       "        vertical-align: top;\n",
       "    }\n",
       "\n",
       "    .dataframe thead th {\n",
       "        text-align: right;\n",
       "    }\n",
       "</style>\n",
       "<table border=\"1\" class=\"dataframe\">\n",
       "  <thead>\n",
       "    <tr style=\"text-align: right;\">\n",
       "      <th></th>\n",
       "      <th>Date_new</th>\n",
       "      <th>State</th>\n",
       "      <th>Daywise_Confirmed</th>\n",
       "    </tr>\n",
       "  </thead>\n",
       "  <tbody>\n",
       "    <tr>\n",
       "      <td>16</td>\n",
       "      <td>2020-04-04</td>\n",
       "      <td>Kerala</td>\n",
       "      <td>9.0</td>\n",
       "    </tr>\n",
       "    <tr>\n",
       "      <td>17</td>\n",
       "      <td>2020-04-04</td>\n",
       "      <td>West Bengal</td>\n",
       "      <td>32.0</td>\n",
       "    </tr>\n",
       "  </tbody>\n",
       "</table>\n",
       "</div>"
      ],
      "text/plain": [
       "     Date_new        State  Daywise_Confirmed\n",
       "16 2020-04-04       Kerala                9.0\n",
       "17 2020-04-04  West Bengal               32.0"
      ]
     },
     "execution_count": 169,
     "metadata": {},
     "output_type": "execute_result"
    }
   ],
   "source": [
    "data_subset[data_subset['Date_new']=='2020-04-04']"
   ]
  },
  {
   "cell_type": "markdown",
   "metadata": {},
   "source": [
    "###  <font color=#00b3e5> Caluclate the Nation Wise Total Day wise confirmed cases reported "
   ]
  },
  {
   "cell_type": "code",
   "execution_count": 165,
   "metadata": {},
   "outputs": [
    {
     "data": {
      "text/html": [
       "<div>\n",
       "<style scoped>\n",
       "    .dataframe tbody tr th:only-of-type {\n",
       "        vertical-align: middle;\n",
       "    }\n",
       "\n",
       "    .dataframe tbody tr th {\n",
       "        vertical-align: top;\n",
       "    }\n",
       "\n",
       "    .dataframe thead th {\n",
       "        text-align: right;\n",
       "    }\n",
       "</style>\n",
       "<table border=\"1\" class=\"dataframe\">\n",
       "  <thead>\n",
       "    <tr style=\"text-align: right;\">\n",
       "      <th></th>\n",
       "      <th>Daywise_Confirmed</th>\n",
       "    </tr>\n",
       "    <tr>\n",
       "      <th>Date_new</th>\n",
       "      <th></th>\n",
       "    </tr>\n",
       "  </thead>\n",
       "  <tbody>\n",
       "    <tr>\n",
       "      <td>2020-04-01</td>\n",
       "      <td>0.0</td>\n",
       "    </tr>\n",
       "    <tr>\n",
       "      <td>2020-04-02</td>\n",
       "      <td>24.0</td>\n",
       "    </tr>\n",
       "    <tr>\n",
       "      <td>2020-04-03</td>\n",
       "      <td>21.0</td>\n",
       "    </tr>\n",
       "    <tr>\n",
       "      <td>2020-04-04</td>\n",
       "      <td>41.0</td>\n",
       "    </tr>\n",
       "    <tr>\n",
       "      <td>2020-04-05</td>\n",
       "      <td>11.0</td>\n",
       "    </tr>\n",
       "    <tr>\n",
       "      <td>...</td>\n",
       "      <td>...</td>\n",
       "    </tr>\n",
       "    <tr>\n",
       "      <td>2020-10-23</td>\n",
       "      <td>55578.0</td>\n",
       "    </tr>\n",
       "    <tr>\n",
       "      <td>2020-10-24</td>\n",
       "      <td>53282.0</td>\n",
       "    </tr>\n",
       "    <tr>\n",
       "      <td>2020-10-25</td>\n",
       "      <td>50043.0</td>\n",
       "    </tr>\n",
       "    <tr>\n",
       "      <td>2020-10-26</td>\n",
       "      <td>45147.0</td>\n",
       "    </tr>\n",
       "    <tr>\n",
       "      <td>2020-10-27</td>\n",
       "      <td>11931.0</td>\n",
       "    </tr>\n",
       "  </tbody>\n",
       "</table>\n",
       "<p>210 rows × 1 columns</p>\n",
       "</div>"
      ],
      "text/plain": [
       "            Daywise_Confirmed\n",
       "Date_new                     \n",
       "2020-04-01                0.0\n",
       "2020-04-02               24.0\n",
       "2020-04-03               21.0\n",
       "2020-04-04               41.0\n",
       "2020-04-05               11.0\n",
       "...                       ...\n",
       "2020-10-23            55578.0\n",
       "2020-10-24            53282.0\n",
       "2020-10-25            50043.0\n",
       "2020-10-26            45147.0\n",
       "2020-10-27            11931.0\n",
       "\n",
       "[210 rows x 1 columns]"
      ]
     },
     "execution_count": 165,
     "metadata": {},
     "output_type": "execute_result"
    }
   ],
   "source": [
    "data_subset_india=data_subset.groupby('Date_new').sum()\n",
    "data_subset_india"
   ]
  },
  {
   "cell_type": "markdown",
   "metadata": {},
   "source": [
    "###  <font color=#00b3e5> Plot the Day wise Confirmed Cases over the time period of one year (y. 2020)"
   ]
  },
  {
   "cell_type": "code",
   "execution_count": 170,
   "metadata": {},
   "outputs": [
    {
     "name": "stdout",
     "output_type": "stream",
     "text": [
      "            Daywise_Confirmed\n",
      "Date_new                     \n",
      "2020-04-01                0.0\n",
      "2020-04-02               24.0\n",
      "2020-04-03               21.0\n",
      "2020-04-04               41.0\n",
      "2020-04-05               11.0\n"
     ]
    },
    {
     "data": {
      "image/png": "[encoded data removed]",
      "text/plain": [
       "<Figure size 432x288 with 1 Axes>"
      ]
     },
     "metadata": {},
     "output_type": "display_data"
    }
   ],
   "source": [
    "print(data_subset_india.head())\n",
    "data_subset_india.plot()\n",
    "pyplot.show()"
   ]
  },
  {
   "cell_type": "markdown",
   "metadata": {},
   "source": [
    "###  <font color=#00b3e5> Plotting Autocorrelation graph"
   ]
  },
  {
   "cell_type": "code",
   "execution_count": 173,
   "metadata": {},
   "outputs": [
    {
     "data": {
      "image/png": "[encoded data removed]",
      "text/plain": [
       "<Figure size 432x288 with 1 Axes>"
      ]
     },
     "metadata": {},
     "output_type": "display_data"
    }
   ],
   "source": [
    "autocorrelation_plot(data_subset_india['Daywise_Confirmed'])\n",
    "pyplot.show()"
   ]
  },
  {
   "cell_type": "code",
   "execution_count": null,
   "metadata": {},
   "outputs": [],
   "source": [
    "#pip install statsmodels "
   ]
  },
  {
   "cell_type": "markdown",
   "metadata": {},
   "source": [
    "###  <font color=#00b3e5> Augmented Dickey Fuller Test to check if the given data is stationary and thereby determining the value of derivative order to be used in the ARIMA Model\n",
    "#### Ho: It is non-stationary ; H1: It is stationary"
   ]
  },
  {
   "cell_type": "code",
   "execution_count": 174,
   "metadata": {},
   "outputs": [],
   "source": [
    "def adfuller_test(df):\n",
    "    result=adfuller(df)\n",
    "    labels = ['ADF Test Statistic','p-value','#Lags Used','Number of Observations']\n",
    "    for value,label in zip(result,labels):\n",
    "        print(label+' : '+str(value) )\n",
    "    if result[1] <= 0.05:\n",
    "        print(\"Strong evidence against the null hypothesis(Ho), reject the null hypothesis. Data is stationary\")\n",
    "    else:\n",
    "        print(\"Weak evidence against null hypothesis,indicating it is non-stationary \")"
   ]
  },
  {
   "cell_type": "code",
   "execution_count": 175,
   "metadata": {},
   "outputs": [
    {
     "name": "stdout",
     "output_type": "stream",
     "text": [
      "ADF Test Statistic : -2.0311134408215654\n",
      "p-value : 0.2730997215845634\n",
      "#Lags Used : 15\n",
      "Number of Observations : 194\n",
      "Weak evidence against null hypothesis,indicating it is non-stationary \n"
     ]
    }
   ],
   "source": [
    "adfuller_test(data_subset_india['Daywise_Confirmed'])"
   ]
  },
  {
   "cell_type": "markdown",
   "metadata": {},
   "source": [
    "###  <font color=#00b3e5> Calculate First Order differentiation"
   ]
  },
  {
   "cell_type": "code",
   "execution_count": 176,
   "metadata": {},
   "outputs": [],
   "source": [
    "data_subset_india['Daywise_Confirmed_1st_diff']=data_subset_india['Daywise_Confirmed']-data_subset_india['Daywise_Confirmed'].shift(1)"
   ]
  },
  {
   "cell_type": "code",
   "execution_count": 178,
   "metadata": {},
   "outputs": [
    {
     "name": "stdout",
     "output_type": "stream",
     "text": [
      "ADF Test Statistic : 1.295909338398465\n",
      "p-value : 0.9965859335614593\n",
      "#Lags Used : 15\n",
      "Number of Observations : 193\n",
      "Weak evidence against null hypothesis,indicating it is non-stationary \n"
     ]
    }
   ],
   "source": [
    "adfuller_test(data_subset_india['Daywise_Confirmed_1st_diff'].dropna())"
   ]
  },
  {
   "cell_type": "markdown",
   "metadata": {},
   "source": [
    "###  <font color=#00b3e5> Calculate Second Order differentiation"
   ]
  },
  {
   "cell_type": "code",
   "execution_count": 179,
   "metadata": {},
   "outputs": [
    {
     "name": "stdout",
     "output_type": "stream",
     "text": [
      "ADF Test Statistic : -3.238241740967232\n",
      "p-value : 0.017875100613437632\n",
      "#Lags Used : 15\n",
      "Number of Observations : 192\n",
      "Strong evidence against the null hypothesis(Ho), reject the null hypothesis. Data is stationary\n"
     ]
    }
   ],
   "source": [
    "data_subset_india['Daywise_Confirmed_2nddiff']=data_subset_india['Daywise_Confirmed_1st_diff']-data_subset_india['Daywise_Confirmed_1st_diff'].shift(1)\n",
    "adfuller_test(data_subset_india['Daywise_Confirmed_2nddiff'].dropna())"
   ]
  },
  {
   "cell_type": "markdown",
   "metadata": {},
   "source": [
    "####  Removing the calculated derivatives; Conclusion: d=2 yields in stationary data"
   ]
  },
  {
   "cell_type": "code",
   "execution_count": 180,
   "metadata": {},
   "outputs": [],
   "source": [
    "#The hyper-parameter “d” determines the order of derivative.\n",
    "data_subset_india.drop(['Daywise_Confirmed_1st_diff', 'Daywise_Confirmed_2nddiff'],axis=1,inplace=True)"
   ]
  },
  {
   "cell_type": "markdown",
   "metadata": {},
   "source": [
    "###  <font color=#00b3e5> Define Grid search ARIMA parameters for time series"
   ]
  },
  {
   "cell_type": "code",
   "execution_count": 182,
   "metadata": {},
   "outputs": [],
   "source": [
    "# evaluate an ARIMA model for a given order (p,d,q)\n",
    "def evaluate_arima_model(X, arima_order):\n",
    "    train_size = int(len(X) * 0.66)\n",
    "    train, test = X[0:train_size], X[train_size:]\n",
    "    history = [x for x in train]\n",
    "    # make predictions\n",
    "    predictions = list()\n",
    "    for t in range(len(test)):\n",
    "        model = ARIMA(history, order=arima_order)\n",
    "        model_fit = model.fit()\n",
    "        yhat = model_fit.forecast()[0]\n",
    "        predictions.append(yhat)\n",
    "        history.append(test[t])\n",
    "    # calculate out of sample error\n",
    "    rmse = sqrt(mean_squared_error(test, predictions))\n",
    "    return rmse\n",
    "\n",
    "# evaluate combinations of p, d and q values for an ARIMA model\n",
    "def evaluate_models(dataset, p_values, d_values, q_values):\n",
    "    dataset = dataset.astype('float32')\n",
    "    best_score, best_cfg = float(\"inf\"), None\n",
    "    for p in p_values:\n",
    "        for d in d_values:\n",
    "            for q in q_values:\n",
    "                order = (p,d,q)\n",
    "                try:\n",
    "                    rmse = evaluate_arima_model(dataset, order)\n",
    "                    if rmse < best_score:\n",
    "                        best_score, best_cfg = rmse, order\n",
    "                    print('ARIMA%s RMSE=%.3f' % (order,rmse))\n",
    "                except:\n",
    "                    continue\n",
    "    print('Best ARIMA%s RMSE=%.3f' % (best_cfg, best_score))\n",
    "\n",
    "\n",
    "# evaluate parameters\n",
    "p_values = [0, 1, 2, 4, 6, 8, 10]\n",
    "d_values = range(0, 3)\n",
    "q_values = range(0, 3)\n",
    "warnings.filterwarnings(\"ignore\")"
   ]
  },
  {
   "cell_type": "markdown",
   "metadata": {},
   "source": [
    "###  <font color=#00b3e5>  Evaluate the different values of Grid Search"
   ]
  },
  {
   "cell_type": "code",
   "execution_count": 191,
   "metadata": {},
   "outputs": [
    {
     "name": "stdout",
     "output_type": "stream",
     "text": [
      "ARIMA(0, 0, 0) RMSE=47559.055\n",
      "ARIMA(0, 0, 1) RMSE=25229.327\n",
      "ARIMA(0, 1, 0) RMSE=7349.137\n",
      "ARIMA(0, 1, 1) RMSE=7564.493\n",
      "ARIMA(0, 1, 2) RMSE=7233.294\n",
      "ARIMA(0, 2, 0) RMSE=9574.034\n",
      "ARIMA(0, 2, 1) RMSE=7368.912\n",
      "ARIMA(1, 0, 0) RMSE=7290.706\n",
      "ARIMA(1, 1, 0) RMSE=7463.158\n",
      "ARIMA(1, 1, 1) RMSE=7400.199\n",
      "ARIMA(1, 1, 2) RMSE=7258.165\n",
      "ARIMA(1, 2, 0) RMSE=9175.352\n",
      "ARIMA(2, 0, 0) RMSE=7406.344\n",
      "ARIMA(2, 1, 0) RMSE=7257.420\n",
      "ARIMA(2, 1, 1) RMSE=7301.312\n",
      "ARIMA(2, 2, 0) RMSE=8145.303\n",
      "ARIMA(4, 0, 0) RMSE=7429.414\n",
      "ARIMA(4, 1, 0) RMSE=7326.434\n",
      "ARIMA(4, 1, 1) RMSE=7269.850\n",
      "ARIMA(4, 2, 0) RMSE=8045.782\n",
      "ARIMA(6, 0, 0) RMSE=6915.682\n",
      "ARIMA(6, 1, 0) RMSE=7129.898\n",
      "ARIMA(6, 1, 1) RMSE=6510.764\n",
      "ARIMA(6, 2, 0) RMSE=5353.188\n",
      "Best ARIMA(6, 2, 0) RMSE=5353.188\n"
     ]
    }
   ],
   "source": [
    "evaluate_models(data_subset1.values, p_values, d_values, q_values)"
   ]
  },
  {
   "cell_type": "markdown",
   "metadata": {},
   "source": [
    "###  <font color=#00b3e5> Build the ARIMA Model with Order : p=6, d=2, q=0"
   ]
  },
  {
   "cell_type": "code",
   "execution_count": 188,
   "metadata": {},
   "outputs": [
    {
     "name": "stdout",
     "output_type": "stream",
     "text": [
      "                              ARIMA Model Results                               \n",
      "================================================================================\n",
      "Dep. Variable:     D2.Daywise_Confirmed   No. Observations:                  208\n",
      "Model:                   ARIMA(6, 2, 0)   Log Likelihood               -1983.689\n",
      "Method:                         css-mle   S.D. of innovations           3292.233\n",
      "Date:                  Sun, 17 Jan 2021   AIC                           3983.378\n",
      "Time:                          15:02:00   BIC                           4010.079\n",
      "Sample:                      04-03-2020   HQIC                          3994.174\n",
      "                           - 10-27-2020                                         \n",
      "==============================================================================================\n",
      "                                 coef    std err          z      P>|z|      [0.025      0.975]\n",
      "----------------------------------------------------------------------------------------------\n",
      "const                        -27.5034     34.984     -0.786      0.433     -96.070      41.064\n",
      "ar.L1.D2.Daywise_Confirmed    -1.0270      0.051    -20.027      0.000      -1.128      -0.927\n",
      "ar.L2.D2.Daywise_Confirmed    -1.0111      0.063    -16.039      0.000      -1.135      -0.888\n",
      "ar.L3.D2.Daywise_Confirmed    -0.9267      0.075    -12.385      0.000      -1.073      -0.780\n",
      "ar.L4.D2.Daywise_Confirmed    -0.9193      0.073    -12.616      0.000      -1.062      -0.777\n",
      "ar.L5.D2.Daywise_Confirmed    -0.9242      0.061    -15.243      0.000      -1.043      -0.805\n",
      "ar.L6.D2.Daywise_Confirmed    -0.8121      0.049    -16.691      0.000      -0.907      -0.717\n",
      "                                    Roots                                    \n",
      "=============================================================================\n",
      "                  Real          Imaginary           Modulus         Frequency\n",
      "-----------------------------------------------------------------------------\n",
      "AR.1            0.6368           -0.8142j            1.0337           -0.1444\n",
      "AR.2            0.6368           +0.8142j            1.0337            0.1444\n",
      "AR.3           -0.2614           -0.9909j            1.0248           -0.2911\n",
      "AR.4           -0.2614           +0.9909j            1.0248            0.2911\n",
      "AR.5           -0.9444           -0.4533j            1.0475           -0.4288\n",
      "AR.6           -0.9444           +0.4533j            1.0475            0.4288\n",
      "-----------------------------------------------------------------------------\n"
     ]
    },
    {
     "data": {
      "image/png": "[encoded data removed]",
      "text/plain": [
       "<Figure size 432x288 with 1 Axes>"
      ]
     },
     "metadata": {},
     "output_type": "display_data"
    },
    {
     "data": {
      "image/png": "[encoded data removed]",
      "text/plain": [
       "<Figure size 432x288 with 1 Axes>"
      ]
     },
     "metadata": {},
     "output_type": "display_data"
    },
    {
     "name": "stdout",
     "output_type": "stream",
     "text": [
      "                  0\n",
      "count    208.000000\n",
      "mean       2.844267\n",
      "std     3300.483117\n",
      "min   -26395.694114\n",
      "25%     -946.662745\n",
      "50%      146.803801\n",
      "75%     1225.445100\n",
      "max     9578.794896\n"
     ]
    }
   ],
   "source": [
    "# fit model\n",
    "model = ARIMA(data_subset_india, order=(6,2,0))\n",
    "model_fit = model.fit()\n",
    "# summary of fit model\n",
    "print(model_fit.summary())\n",
    "# line plot of residuals\n",
    "residuals = pd.DataFrame(model_fit.resid)\n",
    "residuals.plot()\n",
    "pyplot.show()\n",
    "# density plot of residuals\n",
    "residuals.plot(kind='kde')\n",
    "pyplot.show()\n",
    "# summary stats of residuals\n",
    "print(residuals.describe())"
   ]
  },
  {
   "cell_type": "markdown",
   "metadata": {},
   "source": [
    "###  <font color=#00b3e5> Evaluate Forecast"
   ]
  },
  {
   "cell_type": "code",
   "execution_count": 203,
   "metadata": {},
   "outputs": [
    {
     "name": "stdout",
     "output_type": "stream",
     "text": [
      "predicted=56128.621138, expected=57720.000000\n",
      "predicted=58324.606655, expected=55340.000000\n",
      "predicted=63581.521919, expected=64531.000000\n",
      "predicted=63620.557818, expected=69652.000000\n",
      "predicted=68037.668320, expected=68898.000000\n",
      "predicted=70322.048509, expected=69878.000000\n",
      "predicted=64586.322252, expected=69101.000000\n",
      "predicted=63459.909947, expected=61546.000000\n",
      "predicted=66359.913055, expected=60975.000000\n",
      "predicted=68942.134550, expected=67151.000000\n",
      "predicted=68056.207525, expected=75749.000000\n",
      "predicted=75699.580994, expected=77277.000000\n",
      "predicted=79401.523771, expected=76472.000000\n",
      "predicted=72139.165907, expected=78655.000000\n",
      "predicted=72449.754630, expected=78618.000000\n",
      "predicted=80797.833694, expected=69921.000000\n",
      "predicted=78171.051455, expected=78357.000000\n",
      "predicted=82830.884345, expected=83706.000000\n",
      "predicted=83335.507374, expected=83291.000000\n",
      "predicted=85105.557686, expected=86659.000000\n",
      "predicted=88899.580492, expected=90389.000000\n",
      "predicted=85821.554108, expected=91045.000000\n",
      "predicted=89123.401330, expected=75809.000000\n",
      "predicted=85992.073622, expected=89610.000000\n",
      "predicted=89652.767644, expected=95831.000000\n",
      "predicted=94334.582073, expected=96551.000000\n",
      "predicted=101293.370250, expected=97570.000000\n",
      "predicted=102884.240593, expected=94204.000000\n",
      "predicted=90664.436695, expected=92239.000000\n",
      "predicted=85291.095929, expected=83809.000000\n",
      "predicted=96742.475082, expected=90043.000000\n",
      "predicted=93551.313172, expected=97858.000000\n",
      "predicted=97468.014424, expected=96383.000000\n",
      "predicted=96917.937412, expected=93278.000000\n",
      "predicted=91136.443991, expected=92420.000000\n",
      "predicted=88924.955036, expected=87362.000000\n",
      "predicted=83297.888984, expected=74995.000000\n",
      "predicted=82079.384802, expected=83301.000000\n",
      "predicted=87489.557260, expected=86462.000000\n",
      "predicted=83294.303524, expected=85884.000000\n",
      "predicted=84023.639125, expected=85710.000000\n",
      "predicted=84361.820090, expected=88478.000000\n",
      "predicted=81177.813180, expected=82214.000000\n",
      "predicted=75602.928930, expected=70667.000000\n",
      "predicted=78362.018505, expected=80429.000000\n",
      "predicted=81152.769214, expected=86747.000000\n",
      "predicted=84807.899435, expected=81438.000000\n",
      "predicted=82986.256458, expected=79176.000000\n",
      "predicted=81235.464287, expected=75358.000000\n",
      "predicted=67766.706574, expected=75215.000000\n",
      "predicted=68538.474110, expected=61428.000000\n",
      "predicted=70626.689388, expected=72049.000000\n",
      "predicted=74823.029770, expected=78524.000000\n",
      "predicted=72450.174703, expected=70396.000000\n",
      "predicted=68546.122630, expected=73187.000000\n",
      "predicted=70624.098530, expected=74155.000000\n",
      "predicted=70868.327270, expected=66855.000000\n",
      "predicted=58763.596358, expected=55283.000000\n",
      "predicted=65879.733006, expected=63185.000000\n",
      "predicted=65664.431829, expected=67726.000000\n",
      "predicted=60129.841328, expected=63232.000000\n",
      "predicted=66214.486101, expected=62367.000000\n",
      "predicted=62553.395318, expected=61669.000000\n",
      "predicted=53655.440451, expected=55767.000000\n",
      "predicted=48320.623207, expected=46741.000000\n",
      "predicted=53977.881026, expected=53987.000000\n",
      "predicted=55991.238176, expected=55501.000000\n",
      "predicted=50681.351889, expected=55578.000000\n",
      "predicted=55008.149367, expected=53282.000000\n",
      "predicted=52136.982022, expected=50043.000000\n",
      "predicted=44051.628097, expected=45147.000000\n",
      "predicted=39539.901390, expected=11931.000000\n"
     ]
    }
   ],
   "source": [
    "#data_subset1.index = data_subset1.index.to_period('M')\n",
    "# split into train and test sets\n",
    "X = data_subset_india.values\n",
    "size = int(len(X) * 0.66)\n",
    "train, test = X[0:size], X[size:len(X)]\n",
    "history = [x for x in train]\n",
    "predictions = list()\n",
    "# walk-forward validation\n",
    "for t in range(len(test)):\n",
    "\tmodel = ARIMA(history, order=(6,2,0))\n",
    "\tmodel_fit = model.fit()\n",
    "\toutput = model_fit.forecast()\n",
    "\tyhat = output[0]\n",
    "\tpredictions.append(yhat)\n",
    "\tobs = test[t]\n",
    "\thistory.append(obs)\n",
    "\tprint('predicted=%f, expected=%f' % (yhat, obs))\n",
    "# evaluate forecasts"
   ]
  },
  {
   "cell_type": "markdown",
   "metadata": {},
   "source": [
    "###  <font color=#00b3e5> Calculate Mean Absoluate Error and RMSE"
   ]
  },
  {
   "cell_type": "code",
   "execution_count": 204,
   "metadata": {},
   "outputs": [
    {
     "name": "stdout",
     "output_type": "stream",
     "text": [
      "Test MAE: 3725.034\n",
      "Test RMSE: 5353.188\n"
     ]
    },
    {
     "data": {
      "image/png": "[encoded data removed]",
      "text/plain": [
       "<Figure size 432x288 with 1 Axes>"
      ]
     },
     "metadata": {},
     "output_type": "display_data"
    }
   ],
   "source": [
    "mae = mean_absolute_error(test, predictions)\n",
    "rmse = sqrt(mean_squared_error(test, predictions))\n",
    "print('Test MAE: %.3f' % mae)\n",
    "print('Test RMSE: %.3f' % rmse)\n",
    "# plot forecasts against actual outcomes\n",
    "pyplot.plot(test)\n",
    "pyplot.plot(predictions, color='red')\n",
    "pyplot.show()"
   ]
  },
  {
   "cell_type": "markdown",
   "metadata": {},
   "source": [
    "###  <font color=#00b3e5> Forecast and Plot Day Wise Confirmed Cases for the next one month"
   ]
  },
  {
   "cell_type": "code",
   "execution_count": 346,
   "metadata": {},
   "outputs": [],
   "source": [
    "data_subset2=data_subset_india.reset_index()"
   ]
  },
  {
   "cell_type": "code",
   "execution_count": 341,
   "metadata": {},
   "outputs": [
    {
     "data": {
      "text/plain": [
       "<matplotlib.axes._subplots.AxesSubplot at 0x265bdfd8148>"
      ]
     },
     "execution_count": 341,
     "metadata": {},
     "output_type": "execute_result"
    },
    {
     "data": {
      "image/png": "[encoded data removed]",
      "text/plain": [
       "<Figure size 1080x360 with 1 Axes>"
      ]
     },
     "metadata": {},
     "output_type": "display_data"
    }
   ],
   "source": [
    "\n",
    "forecast = model_fit.predict(start = len(data_subset_india), end = (len(data_subset_india)-1) +  30, typ = 'levels') \n",
    "forecast=pd.DataFrame(forecast,columns=['New_Daywise_Confirmed'])\n",
    "forecast['Date_new']=pd.date_range(start='2020-10-28', periods=31, freq='D')\n",
    "forecast=forecast[['Date_new','New_Daywise_Confirmed']]\n",
    "predicted_df=pd.concat([data_subset2,forecast])\n",
    "predicted_df.set_index('Date_new',inplace=True)\n",
    "predicted_df[['Daywise_Confirmed','New_Daywise_Confirmed']].plot(figsize = (15, 5), legend = True) \n",
    "#forecast.plot(legend = True) "
   ]
  }
 ],
 "metadata": {
  "kernelspec": {
   "display_name": "Python 3",
   "language": "python",
   "name": "python3"
  },
  "language_info": {
   "codemirror_mode": {
    "name": "ipython",
    "version": 3
   },
   "file_extension": ".py",
   "mimetype": "text/x-python",
   "name": "python",
   "nbconvert_exporter": "python",
   "pygments_lexer": "ipython3",
   "version": "3.7.4"
  }
 },
 "nbformat": 4,
 "nbformat_minor": 2
}
